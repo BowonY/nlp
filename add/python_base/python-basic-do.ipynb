{
 "metadata": {
  "name": "",
  "signature": "sha256:83326d9f6ee03b75352a35f4c0d8e8e9b8ee221c42b038c9f58cff5b7b5e2f61"
 },
 "nbformat": 3,
 "nbformat_minor": 0,
 "worksheets": [
  {
   "cells": [
    {
     "cell_type": "markdown",
     "metadata": {},
     "source": [
      "python \uc2e4\ud589\n",
      "- python shell\n",
      "- ipython shell\n",
      "- python fileName.py"
     ]
    },
    {
     "cell_type": "code",
     "collapsed": false,
     "input": [
      "print \"hello python\""
     ],
     "language": "python",
     "metadata": {},
     "outputs": [
      {
       "output_type": "stream",
       "stream": "stdout",
       "text": [
        "hello python\n"
       ]
      }
     ],
     "prompt_number": 5
    },
    {
     "cell_type": "code",
     "collapsed": false,
     "input": [
      "!ls -al"
     ],
     "language": "python",
     "metadata": {},
     "outputs": [
      {
       "output_type": "stream",
       "stream": "stdout",
       "text": [
        "total 129\n",
        "drwxr-xr-x+ 1 dubu9 None     0 Nov  6 17:20 .\n",
        "drwxr-xr-x+ 1 dubu9 None     0 Nov  4 19:29 ..\n",
        "drwxr-xr-x+ 1 dubu9 None     0 Nov  6 17:18 .ipynb_checkpoints\n",
        "-rw-r--r--  1 dubu9 None 65465 Nov  6 17:16 20140617_Python Basic I (2).ipynb\n",
        "-rwxr-xr-x  1 dubu9 None   445 Nov  6 17:19 lec.txt\n",
        "-rw-r--r--  1 dubu9 None 46303 Nov  6 17:16 python-basic-do.ipynb\n",
        "-rw-r--r--  1 dubu9 None  8128 Nov  6 17:16 python-basic.ipynb\n",
        "-rwxr-xr-x  1 dubu9 None  2701 Nov  6 17:16 pythonBasic.md\n"
       ]
      }
     ],
     "prompt_number": 6
    },
    {
     "cell_type": "code",
     "collapsed": false,
     "input": [
      "with open('hello.py', 'wb') as w:\n",
      "    w.write(\"print 'hello python !!!!!!!'\")"
     ],
     "language": "python",
     "metadata": {},
     "outputs": [],
     "prompt_number": 3
    },
    {
     "cell_type": "code",
     "collapsed": false,
     "input": [
      "!ls -al"
     ],
     "language": "python",
     "metadata": {},
     "outputs": [
      {
       "output_type": "stream",
       "stream": "stdout",
       "text": [
        "total 130\n",
        "drwxr-xr-x+ 1 dubu9 None     0 Nov  6 17:19 .\n",
        "drwxr-xr-x+ 1 dubu9 None     0 Nov  4 19:29 ..\n",
        "drwxr-xr-x+ 1 dubu9 None     0 Nov  6 17:18 .ipynb_checkpoints\n",
        "-rw-r--r--  1 dubu9 None 65465 Nov  6 17:16 20140617_Python Basic I (2).ipynb\n",
        "-rwxr-xr-x  1 dubu9 None    28 Nov  6 17:19 hello.py\n",
        "-rwxr-xr-x  1 dubu9 None   445 Nov  6 17:19 lec.txt\n",
        "-rw-r--r--  1 dubu9 None 46303 Nov  6 17:16 python-basic-do.ipynb\n",
        "-rw-r--r--  1 dubu9 None  8128 Nov  6 17:16 python-basic.ipynb\n",
        "-rwxr-xr-x  1 dubu9 None  2701 Nov  6 17:16 pythonBasic.md\n"
       ]
      }
     ],
     "prompt_number": 4
    },
    {
     "cell_type": "code",
     "collapsed": false,
     "input": [
      "with open('hello.py') as r:\n",
      "    print r.read()\n"
     ],
     "language": "python",
     "metadata": {},
     "outputs": [
      {
       "output_type": "stream",
       "stream": "stdout",
       "text": [
        "print 'hello python'\n"
       ]
      }
     ],
     "prompt_number": 38
    },
    {
     "cell_type": "code",
     "collapsed": false,
     "input": [
      "!cat hello.py"
     ],
     "language": "python",
     "metadata": {},
     "outputs": [
      {
       "output_type": "stream",
       "stream": "stdout",
       "text": [
        "print 'hello python'\n"
       ]
      }
     ],
     "prompt_number": 39
    },
    {
     "cell_type": "code",
     "collapsed": false,
     "input": [
      "!python hello.py"
     ],
     "language": "python",
     "metadata": {},
     "outputs": [
      {
       "output_type": "stream",
       "stream": "stdout",
       "text": [
        "hello python !!!!!!!\n"
       ]
      }
     ],
     "prompt_number": 43
    },
    {
     "cell_type": "markdown",
     "metadata": {},
     "source": [
      "# \uc694\uac70\ub294 \uae30\uc5b5\ud569\uc2dc\ub2e4!\n",
      "\n",
      "```\n",
      "- help()\n",
      "- dir()\n",
      "- dir(__builtin__)\n",
      "- type()\n",
      "```"
     ]
    },
    {
     "cell_type": "code",
     "collapsed": false,
     "input": [
      "#dir()"
     ],
     "language": "python",
     "metadata": {},
     "outputs": [],
     "prompt_number": 5
    },
    {
     "cell_type": "code",
     "collapsed": false,
     "input": [
      "#dir(__builtin__)"
     ],
     "language": "python",
     "metadata": {},
     "outputs": [],
     "prompt_number": 4
    },
    {
     "cell_type": "code",
     "collapsed": false,
     "input": [
      "#math.pi"
     ],
     "language": "python",
     "metadata": {},
     "outputs": [],
     "prompt_number": 6
    },
    {
     "cell_type": "code",
     "collapsed": false,
     "input": [
      "import math"
     ],
     "language": "python",
     "metadata": {},
     "outputs": [],
     "prompt_number": 45
    },
    {
     "cell_type": "code",
     "collapsed": false,
     "input": [
      "math.pi"
     ],
     "language": "python",
     "metadata": {},
     "outputs": [
      {
       "metadata": {},
       "output_type": "pyout",
       "prompt_number": 46,
       "text": [
        "3.141592653589793"
       ]
      }
     ],
     "prompt_number": 46
    },
    {
     "cell_type": "heading",
     "level": 2,
     "metadata": {},
     "source": [
      "\uc2dc\uc791!"
     ]
    },
    {
     "cell_type": "code",
     "collapsed": false,
     "input": [
      "a  = 111\n",
      "b  = 'apple'\n",
      "c  = (1,2,\"car\")\n",
      "d  = [1,2,\"car\"]\n",
      "e  = {\"id\": 001 , \"name\":\"js\" }\n",
      "print a, b, c, e, d"
     ],
     "language": "python",
     "metadata": {},
     "outputs": [
      {
       "output_type": "stream",
       "stream": "stdout",
       "text": [
        "111 apple (1, 2, 'car') {'id': 1, 'name': 'js'} [1, 2, 'car']\n"
       ]
      }
     ],
     "prompt_number": 2
    },
    {
     "cell_type": "code",
     "collapsed": false,
     "input": [
      "type(e)\n"
     ],
     "language": "python",
     "metadata": {},
     "outputs": [
      {
       "metadata": {},
       "output_type": "pyout",
       "prompt_number": 5,
       "text": [
        "dict"
       ]
      }
     ],
     "prompt_number": 5
    },
    {
     "cell_type": "code",
     "collapsed": false,
     "input": [
      "type(c)"
     ],
     "language": "python",
     "metadata": {},
     "outputs": [
      {
       "metadata": {},
       "output_type": "pyout",
       "prompt_number": 7,
       "text": [
        "tuple"
       ]
      }
     ],
     "prompt_number": 7
    },
    {
     "cell_type": "code",
     "collapsed": false,
     "input": [
      "def sayHello(a,b) :\n",
      "    print 'Hello', a , b"
     ],
     "language": "python",
     "metadata": {},
     "outputs": [],
     "prompt_number": 13
    },
    {
     "cell_type": "code",
     "collapsed": false,
     "input": [
      "sayHello(1,2)"
     ],
     "language": "python",
     "metadata": {},
     "outputs": [
      {
       "output_type": "stream",
       "stream": "stdout",
       "text": [
        "Hello 1 2\n"
       ]
      }
     ],
     "prompt_number": 19
    },
    {
     "cell_type": "code",
     "collapsed": false,
     "input": [
      "sayHello(1,2,3)"
     ],
     "language": "python",
     "metadata": {},
     "outputs": [
      {
       "ename": "TypeError",
       "evalue": "sayHello() takes exactly 2 arguments (3 given)",
       "output_type": "pyerr",
       "traceback": [
        "\u001b[1;31m---------------------------------------------------------------------------\u001b[0m\n\u001b[1;31mTypeError\u001b[0m                                 Traceback (most recent call last)",
        "\u001b[1;32m<ipython-input-23-97bd47d4d2ad>\u001b[0m in \u001b[0;36m<module>\u001b[1;34m()\u001b[0m\n\u001b[1;32m----> 1\u001b[1;33m \u001b[0msayHello\u001b[0m\u001b[1;33m(\u001b[0m\u001b[1;36m1\u001b[0m\u001b[1;33m,\u001b[0m\u001b[1;36m2\u001b[0m\u001b[1;33m,\u001b[0m\u001b[1;36m3\u001b[0m\u001b[1;33m)\u001b[0m\u001b[1;33m\u001b[0m\u001b[0m\n\u001b[0m",
        "\u001b[1;31mTypeError\u001b[0m: sayHello() takes exactly 2 arguments (3 given)"
       ]
      }
     ],
     "prompt_number": 23
    },
    {
     "cell_type": "code",
     "collapsed": false,
     "input": [
      "def sayHello2(a,b,*c) :\n",
      "    print 'Hello2', a , b, c"
     ],
     "language": "python",
     "metadata": {},
     "outputs": [],
     "prompt_number": 25
    },
    {
     "cell_type": "code",
     "collapsed": false,
     "input": [
      "sayHello2(1,2,3,4,5,6,7,8)"
     ],
     "language": "python",
     "metadata": {},
     "outputs": [
      {
       "output_type": "stream",
       "stream": "stdout",
       "text": [
        "Hello2 1 2 (3, 4, 5, 6, 7, 8)\n"
       ]
      }
     ],
     "prompt_number": 27
    },
    {
     "cell_type": "code",
     "collapsed": false,
     "input": [
      "def sayHello3(a,b,*c,**d) :\n",
      "    print 'Hello4', a , b, c, d"
     ],
     "language": "python",
     "metadata": {},
     "outputs": [],
     "prompt_number": 35
    },
    {
     "cell_type": "code",
     "collapsed": false,
     "input": [
      "sayHello3(1,2,3,4,5,6,7,8,9,10,id=100,name= \"mandu\")"
     ],
     "language": "python",
     "metadata": {},
     "outputs": [
      {
       "output_type": "stream",
       "stream": "stdout",
       "text": [
        "Hello4 1 2 (3, 4, 5, 6, 7, 8, 9, 10) {'id': 100, 'name': 'mandu'}\n"
       ]
      }
     ],
     "prompt_number": 36
    },
    {
     "cell_type": "code",
     "collapsed": false,
     "input": [
      "False"
     ],
     "language": "python",
     "metadata": {},
     "outputs": [
      {
       "metadata": {},
       "output_type": "pyout",
       "prompt_number": 37,
       "text": [
        "False"
       ]
      }
     ],
     "prompt_number": 37
    },
    {
     "cell_type": "code",
     "collapsed": false,
     "input": [
      "False == 0"
     ],
     "language": "python",
     "metadata": {},
     "outputs": [
      {
       "metadata": {},
       "output_type": "pyout",
       "prompt_number": 41,
       "text": [
        "True"
       ]
      }
     ],
     "prompt_number": 41
    },
    {
     "cell_type": "code",
     "collapsed": false,
     "input": [
      "True == 1"
     ],
     "language": "python",
     "metadata": {},
     "outputs": [
      {
       "metadata": {},
       "output_type": "pyout",
       "prompt_number": 46,
       "text": [
        "True"
       ]
      }
     ],
     "prompt_number": 46
    },
    {
     "cell_type": "code",
     "collapsed": false,
     "input": [
      "a = 100\n",
      "if a > 10:\n",
      "    print 'a >>>'\n",
      "else:\n",
      "    print 'a <<<<<<<<<'    "
     ],
     "language": "python",
     "metadata": {},
     "outputs": [
      {
       "output_type": "stream",
       "stream": "stdout",
       "text": [
        "a >>>\n"
       ]
      }
     ],
     "prompt_number": 52
    },
    {
     "cell_type": "code",
     "collapsed": false,
     "input": [
      "a = 100\n",
      "if True:\n",
      "    print 'a >>>'\n",
      "else:\n",
      "    print 'a <<<<<<<<<'   "
     ],
     "language": "python",
     "metadata": {},
     "outputs": [
      {
       "output_type": "stream",
       "stream": "stdout",
       "text": [
        "a >>>\n"
       ]
      }
     ],
     "prompt_number": 53
    },
    {
     "cell_type": "code",
     "collapsed": false,
     "input": [
      "a = 100\n",
      "if 1:\n",
      "    print 'a >>>'\n",
      "else:\n",
      "    print 'a <<<<<<<<<'   "
     ],
     "language": "python",
     "metadata": {},
     "outputs": [
      {
       "output_type": "stream",
       "stream": "stdout",
       "text": [
        "a >>>\n"
       ]
      }
     ],
     "prompt_number": 54
    },
    {
     "cell_type": "code",
     "collapsed": false,
     "input": [
      "help(range)"
     ],
     "language": "python",
     "metadata": {},
     "outputs": [
      {
       "output_type": "stream",
       "stream": "stdout",
       "text": [
        "Help on built-in function range in module __builtin__:\n",
        "\n",
        "range(...)\n",
        "    range(stop) -> list of integers\n",
        "    range(start, stop[, step]) -> list of integers\n",
        "    \n",
        "    Return a list containing an arithmetic progression of integers.\n",
        "    range(i, j) returns [i, i+1, i+2, ..., j-1]; start (!) defaults to 0.\n",
        "    When step is given, it specifies the increment (or decrement).\n",
        "    For example, range(4) returns [0, 1, 2, 3].  The end point is omitted!\n",
        "    These are exactly the valid indices for a list of 4 elements.\n",
        "\n"
       ]
      }
     ],
     "prompt_number": 55
    },
    {
     "cell_type": "code",
     "collapsed": false,
     "input": [
      "range(5)"
     ],
     "language": "python",
     "metadata": {},
     "outputs": [
      {
       "metadata": {},
       "output_type": "pyout",
       "prompt_number": 56,
       "text": [
        "[0, 1, 2, 3, 4]"
       ]
      }
     ],
     "prompt_number": 56
    },
    {
     "cell_type": "code",
     "collapsed": false,
     "input": [
      "for i in [10,11,12,13]:\n",
      "    print i\n"
     ],
     "language": "python",
     "metadata": {},
     "outputs": [
      {
       "output_type": "stream",
       "stream": "stdout",
       "text": [
        "10\n",
        "11\n",
        "12\n",
        "13\n"
       ]
      }
     ],
     "prompt_number": 57
    },
    {
     "cell_type": "code",
     "collapsed": false,
     "input": [
      "for i in range(5):\n",
      "    print i \n"
     ],
     "language": "python",
     "metadata": {},
     "outputs": [
      {
       "output_type": "stream",
       "stream": "stdout",
       "text": [
        "0\n",
        "1\n",
        "2\n",
        "3\n",
        "4\n"
       ]
      }
     ],
     "prompt_number": 58
    },
    {
     "cell_type": "code",
     "collapsed": false,
     "input": [
      "i = 0\n",
      "while i < 10:\n",
      "    print i\n",
      "    i = i+1\n",
      "        "
     ],
     "language": "python",
     "metadata": {},
     "outputs": [
      {
       "output_type": "stream",
       "stream": "stdout",
       "text": [
        "0\n",
        "1\n",
        "2\n",
        "3\n",
        "4\n",
        "5\n",
        "6\n",
        "7\n",
        "8\n",
        "9\n"
       ]
      }
     ],
     "prompt_number": 1
    },
    {
     "cell_type": "heading",
     "level": 2,
     "metadata": {},
     "source": [
      "==  vs is"
     ]
    },
    {
     "cell_type": "code",
     "collapsed": false,
     "input": [
      "a = \"mandu\"\n",
      "b = \"mandu\"\n",
      "a is b\n",
      "a = \"mandu!!\"\n",
      "b = \"mandu!!\"\n",
      "a is b\n",
      "a == b\n",
      "a\n",
      "type(a)\n",
      "id(a)\n",
      "id(b)"
     ],
     "language": "python",
     "metadata": {},
     "outputs": [
      {
       "metadata": {},
       "output_type": "pyout",
       "prompt_number": 48,
       "text": [
        "65704344L"
       ]
      }
     ],
     "prompt_number": 48
    },
    {
     "cell_type": "heading",
     "level": 2,
     "metadata": {},
     "source": [
      "class  & id  &  \uc9c4\ubc95\ubcc0\ud658"
     ]
    },
    {
     "cell_type": "code",
     "collapsed": false,
     "input": [
      "class Mycalss\n",
      "    pass"
     ],
     "language": "python",
     "metadata": {},
     "outputs": [
      {
       "ename": "SyntaxError",
       "evalue": "invalid syntax (<ipython-input-56-2c37b3c74e13>, line 1)",
       "output_type": "pyerr",
       "traceback": [
        "\u001b[1;36m  File \u001b[1;32m\"<ipython-input-56-2c37b3c74e13>\"\u001b[1;36m, line \u001b[1;32m1\u001b[0m\n\u001b[1;33m    class Mycalss\u001b[0m\n\u001b[1;37m                 ^\u001b[0m\n\u001b[1;31mSyntaxError\u001b[0m\u001b[1;31m:\u001b[0m invalid syntax\n"
       ]
      }
     ],
     "prompt_number": 56
    },
    {
     "cell_type": "code",
     "collapsed": false,
     "input": [
      "a = Mycalss()"
     ],
     "language": "python",
     "metadata": {},
     "outputs": [],
     "prompt_number": 58
    },
    {
     "cell_type": "code",
     "collapsed": false,
     "input": [
      "a"
     ],
     "language": "python",
     "metadata": {},
     "outputs": [
      {
       "metadata": {},
       "output_type": "pyout",
       "prompt_number": 59,
       "text": [
        "<__main__.Mycalss instance at 0x0000000003EA8088>"
       ]
      }
     ],
     "prompt_number": 59
    },
    {
     "cell_type": "code",
     "collapsed": false,
     "input": [
      "id(a)"
     ],
     "language": "python",
     "metadata": {},
     "outputs": [
      {
       "metadata": {},
       "output_type": "pyout",
       "prompt_number": 60,
       "text": [
        "65699976L"
       ]
      }
     ],
     "prompt_number": 60
    },
    {
     "cell_type": "code",
     "collapsed": false,
     "input": [
      "int(\"0x0000000003EA8088\",16)"
     ],
     "language": "python",
     "metadata": {},
     "outputs": [
      {
       "metadata": {},
       "output_type": "pyout",
       "prompt_number": 65,
       "text": [
        "65699976"
       ]
      }
     ],
     "prompt_number": 65
    },
    {
     "cell_type": "heading",
     "level": 2,
     "metadata": {},
     "source": [
      "int , long"
     ]
    },
    {
     "cell_type": "code",
     "collapsed": false,
     "input": [
      "import sys\n",
      "sys.maxint    "
     ],
     "language": "python",
     "metadata": {},
     "outputs": [
      {
       "metadata": {},
       "output_type": "pyout",
       "prompt_number": 63,
       "text": [
        "2147483647"
       ]
      }
     ],
     "prompt_number": 63
    },
    {
     "cell_type": "code",
     "collapsed": false,
     "input": [
      "2147483647+1"
     ],
     "language": "python",
     "metadata": {},
     "outputs": [
      {
       "metadata": {},
       "output_type": "pyout",
       "prompt_number": 64,
       "text": [
        "2147483648L"
       ]
      }
     ],
     "prompt_number": 64
    },
    {
     "cell_type": "markdown",
     "metadata": {},
     "source": [
      "## \uc5ec\uae30\ubd80\ud130 \uc2dc\uc791.. \n",
      "##  \ud30c\uc774\uc36c \ubaa9\ucc28\n",
      "-  1 type. ex) string, int\n",
      "-  2 data structure. ex) list, tuple, dict\n",
      "-  3 Control Flow ex) if, for , while ,\n",
      "-  4 func\n",
      "-  5 module\n",
      "-  6 file i/o\n",
      "-  7 stadard library\n"
     ]
    },
    {
     "cell_type": "heading",
     "level": 3,
     "metadata": {},
     "source": [
      "1. type\n"
     ]
    },
    {
     "cell_type": "markdown",
     "metadata": {},
     "source": [
      "http://goo.gl/gQcKVu\n"
     ]
    },
    {
     "cell_type": "heading",
     "level": 2,
     "metadata": {},
     "source": [
      "2. data structure"
     ]
    },
    {
     "cell_type": "markdown",
     "metadata": {},
     "source": [
      "http://goo.gl/gQcKVu"
     ]
    },
    {
     "cell_type": "heading",
     "level": 2,
     "metadata": {},
     "source": [
      "3. Control Flow"
     ]
    },
    {
     "cell_type": "markdown",
     "metadata": {},
     "source": [
      "http://goo.gl/gQcKVu"
     ]
    },
    {
     "cell_type": "heading",
     "level": 2,
     "metadata": {},
     "source": [
      "4. func\n"
     ]
    },
    {
     "cell_type": "code",
     "collapsed": false,
     "input": [
      "##"
     ],
     "language": "python",
     "metadata": {},
     "outputs": []
    },
    {
     "cell_type": "heading",
     "level": 2,
     "metadata": {},
     "source": [
      "5. module"
     ]
    },
    {
     "cell_type": "code",
     "collapsed": false,
     "input": [
      "##"
     ],
     "language": "python",
     "metadata": {},
     "outputs": []
    },
    {
     "cell_type": "heading",
     "level": 2,
     "metadata": {},
     "source": [
      "6 file\n"
     ]
    },
    {
     "cell_type": "code",
     "collapsed": false,
     "input": [
      "pwd\n"
     ],
     "language": "python",
     "metadata": {},
     "outputs": [
      {
       "metadata": {},
       "output_type": "pyout",
       "prompt_number": 8,
       "text": [
        "u'C:\\\\Users\\\\dubuapt\\\\Documents\\\\IPython Notebooks'"
       ]
      }
     ],
     "prompt_number": 8
    },
    {
     "cell_type": "code",
     "collapsed": false,
     "input": [
      "with open('write.py', 'wb') as w:\n",
      "    w.write(\"hello world!\")"
     ],
     "language": "python",
     "metadata": {},
     "outputs": [],
     "prompt_number": 10
    },
    {
     "cell_type": "code",
     "collapsed": false,
     "input": [
      "ls\n"
     ],
     "language": "python",
     "metadata": {},
     "outputs": [
      {
       "output_type": "stream",
       "stream": "stdout",
       "text": [
        " D \ub4dc\ub77c\uc774\ube0c\uc758 \ubcfc\ub968: EXTHDD2\n",
        " \ubcfc\ub968 \uc77c\ub828 \ubc88\ud638: 4736-12B1\n",
        "\n",
        " D:\\workspace_intellij\\babel_nlp\\nlp\\add\\python_base \ub514\ub809\ud130\ub9ac\n",
        "\n",
        "2014-11-03  \uc624\uc804 06:20    <DIR>          .\n",
        "2014-11-03  \uc624\uc804 06:20    <DIR>          ..\n",
        "2014-11-06  \uc624\ud6c4 02:35    <DIR>          .ipynb_checkpoints\n",
        "2014-11-06  \uc624\ud6c4 01:57            63,037 20140617_Python Basic I (2).ipynb\n",
        "2014-11-06  \uc624\ud6c4 04:31                28 hello.py\n",
        "2014-11-06  \uc624\ud6c4 04:41             8,127 python-basic.ipynb\n",
        "2014-11-06  \uc624\ud6c4 03:28             2,701 pythonBasic.md\n",
        "2014-11-06  \uc624\ud6c4 04:40            27,924 python-basic-do.ipynb\n",
        "               5\uac1c \ud30c\uc77c             101,817 \ubc14\uc774\ud2b8\n",
        "               3\uac1c \ub514\ub809\ud130\ub9ac  19,198,259,200 \ubc14\uc774\ud2b8 \ub0a8\uc74c\n"
       ]
      }
     ],
     "prompt_number": 3
    },
    {
     "cell_type": "code",
     "collapsed": false,
     "input": [
      "with open('write.py') as r:\n",
      "    print r.read()\n",
      "    "
     ],
     "language": "python",
     "metadata": {},
     "outputs": [
      {
       "output_type": "stream",
       "stream": "stdout",
       "text": [
        "hello world!\n"
       ]
      }
     ],
     "prompt_number": 13
    },
    {
     "cell_type": "heading",
     "level": 2,
     "metadata": {},
     "source": [
      "7.  stadard library "
     ]
    },
    {
     "cell_type": "code",
     "collapsed": false,
     "input": [
      "help()"
     ],
     "language": "python",
     "metadata": {},
     "outputs": [
      {
       "output_type": "stream",
       "stream": "stdout",
       "text": [
        "\n",
        "Welcome to Python 2.7!  This is the online help utility.\n",
        "\n",
        "If this is your first time using Python, you should definitely check out\n",
        "the tutorial on the Internet at http://docs.python.org/2.7/tutorial/.\n",
        "\n",
        "Enter the name of any module, keyword, or topic to get help on writing\n",
        "Python programs and using Python modules.  To quit this help utility and\n",
        "return to the interpreter, just type \"quit\".\n",
        "\n",
        "To get a list of available modules, keywords, or topics, type \"modules\",\n",
        "\"keywords\", or \"topics\".  Each module also comes with a one-line summary\n",
        "of what it does; to list the modules whose summaries contain a given word\n",
        "such as \"spam\", type \"modules spam\".\n",
        "\n"
       ]
      },
      {
       "name": "stdout",
       "output_type": "stream",
       "stream": "stdout",
       "text": [
        "help> string\n"
       ]
      },
      {
       "output_type": "stream",
       "stream": "stdout",
       "text": [
        "Help on module string:\n",
        "\n",
        "NAME\n",
        "    string - A collection of string operations (most are no longer used).\n",
        "\n",
        "FILE\n",
        "    d:\\anaconda\\lib\\string.py\n",
        "\n",
        "DESCRIPTION\n",
        "    Warning: most of the code you see here isn't normally used nowadays.\n",
        "    Beginning with Python 1.6, many of these functions are implemented as\n",
        "    methods on the standard string object. They used to be implemented by\n",
        "    a built-in module called strop, but strop is now obsolete itself.\n",
        "    \n",
        "    Public module variables:\n",
        "    \n",
        "    whitespace -- a string containing all characters considered whitespace\n",
        "    lowercase -- a string containing all characters considered lowercase letters\n",
        "    uppercase -- a string containing all characters considered uppercase letters\n",
        "    letters -- a string containing all characters considered letters\n",
        "    digits -- a string containing all characters considered decimal digits\n",
        "    hexdigits -- a string containing all characters considered hexadecimal digits\n",
        "    octdigits -- a string containing all characters considered octal digits\n",
        "    punctuation -- a string containing all characters considered punctuation\n",
        "    printable -- a string containing all characters considered printable\n",
        "\n",
        "CLASSES\n",
        "    __builtin__.object\n",
        "        Formatter\n",
        "        Template\n",
        "    \n",
        "    class Formatter(__builtin__.object)\n",
        "     |  Methods defined here:\n",
        "     |  \n",
        "     |  check_unused_args(self, used_args, args, kwargs)\n",
        "     |  \n",
        "     |  convert_field(self, value, conversion)\n",
        "     |  \n",
        "     |  format(self, format_string, *args, **kwargs)\n",
        "     |  \n",
        "     |  format_field(self, value, format_spec)\n",
        "     |  \n",
        "     |  get_field(self, field_name, args, kwargs)\n",
        "     |      # given a field_name, find the object it references.\n",
        "     |      #  field_name:   the field being looked up, e.g. \"0.name\"\n",
        "     |      #                 or \"lookup[3]\"\n",
        "     |      #  used_args:    a set of which args have been used\n",
        "     |      #  args, kwargs: as passed in to vformat\n",
        "     |  \n",
        "     |  get_value(self, key, args, kwargs)\n",
        "     |  \n",
        "     |  parse(self, format_string)\n",
        "     |      # returns an iterable that contains tuples of the form:\n",
        "     |      # (literal_text, field_name, format_spec, conversion)\n",
        "     |      # literal_text can be zero length\n",
        "     |      # field_name can be None, in which case there's no\n",
        "     |      #  object to format and output\n",
        "     |      # if field_name is not None, it is looked up, formatted\n",
        "     |      #  with format_spec and conversion and then used\n",
        "     |  \n",
        "     |  vformat(self, format_string, args, kwargs)\n",
        "     |  \n",
        "     |  ----------------------------------------------------------------------\n",
        "     |  Data descriptors defined here:\n",
        "     |  \n",
        "     |  __dict__\n",
        "     |      dictionary for instance variables (if defined)\n",
        "     |  \n",
        "     |  __weakref__\n",
        "     |      list of weak references to the object (if defined)\n",
        "    \n",
        "    class Template(__builtin__.object)\n",
        "     |  A string class for supporting $-substitutions.\n",
        "     |  \n",
        "     |  Methods defined here:\n",
        "     |  \n",
        "     |  __init__(self, template)\n",
        "     |  \n",
        "     |  safe_substitute(self, *args, **kws)\n",
        "     |  \n",
        "     |  substitute(self, *args, **kws)\n",
        "     |  \n",
        "     |  ----------------------------------------------------------------------\n",
        "     |  Data descriptors defined here:\n",
        "     |  \n",
        "     |  __dict__\n",
        "     |      dictionary for instance variables (if defined)\n",
        "     |  \n",
        "     |  __weakref__\n",
        "     |      list of weak references to the object (if defined)\n",
        "     |  \n",
        "     |  ----------------------------------------------------------------------\n",
        "     |  Data and other attributes defined here:\n",
        "     |  \n",
        "     |  __metaclass__ = <class 'string._TemplateMetaclass'>\n",
        "     |  \n",
        "     |  \n",
        "     |  delimiter = '$'\n",
        "     |  \n",
        "     |  idpattern = '[_a-z][_a-z0-9]*'\n",
        "     |  \n",
        "     |  pattern = <_sre.SRE_Pattern object>\n",
        "\n",
        "FUNCTIONS\n",
        "    atof(s)\n",
        "        atof(s) -> float\n",
        "        \n",
        "        Return the floating point number represented by the string s.\n",
        "    \n",
        "    atoi(s, base=10)\n",
        "        atoi(s [,base]) -> int\n",
        "        \n",
        "        Return the integer represented by the string s in the given\n",
        "        base, which defaults to 10.  The string s must consist of one\n",
        "        or more digits, possibly preceded by a sign.  If base is 0, it\n",
        "        is chosen from the leading characters of s, 0 for octal, 0x or\n",
        "        0X for hexadecimal.  If base is 16, a preceding 0x or 0X is\n",
        "        accepted.\n",
        "    \n",
        "    atol(s, base=10)\n",
        "        atol(s [,base]) -> long\n",
        "        \n",
        "        Return the long integer represented by the string s in the\n",
        "        given base, which defaults to 10.  The string s must consist\n",
        "        of one or more digits, possibly preceded by a sign.  If base\n",
        "        is 0, it is chosen from the leading characters of s, 0 for\n",
        "        octal, 0x or 0X for hexadecimal.  If base is 16, a preceding\n",
        "        0x or 0X is accepted.  A trailing L or l is not accepted,\n",
        "        unless base is 0.\n",
        "    \n",
        "    capitalize(s)\n",
        "        capitalize(s) -> string\n",
        "        \n",
        "        Return a copy of the string s with only its first character\n",
        "        capitalized.\n",
        "    \n",
        "    capwords(s, sep=None)\n",
        "        capwords(s [,sep]) -> string\n",
        "        \n",
        "        Split the argument into words using split, capitalize each\n",
        "        word using capitalize, and join the capitalized words using\n",
        "        join.  If the optional second argument sep is absent or None,\n",
        "        runs of whitespace characters are replaced by a single space\n",
        "        and leading and trailing whitespace are removed, otherwise\n",
        "        sep is used to split and join the words.\n",
        "    \n",
        "    center(s, width, *args)\n",
        "        center(s, width[, fillchar]) -> string\n",
        "        \n",
        "        Return a center version of s, in a field of the specified\n",
        "        width. padded with spaces as needed.  The string is never\n",
        "        truncated.  If specified the fillchar is used instead of spaces.\n",
        "    \n",
        "    count(s, *args)\n",
        "        count(s, sub[, start[,end]]) -> int\n",
        "        \n",
        "        Return the number of occurrences of substring sub in string\n",
        "        s[start:end].  Optional arguments start and end are\n",
        "        interpreted as in slice notation.\n",
        "    \n",
        "    expandtabs(s, tabsize=8)\n",
        "        expandtabs(s [,tabsize]) -> string\n",
        "        \n",
        "        Return a copy of the string s with all tab characters replaced\n",
        "        by the appropriate number of spaces, depending on the current\n",
        "        column, and the tabsize (default 8).\n",
        "    \n",
        "    find(s, *args)\n",
        "        find(s, sub [,start [,end]]) -> in\n",
        "        \n",
        "        Return the lowest index in s where substring sub is found,\n",
        "        such that sub is contained within s[start,end].  Optional\n",
        "        arguments start and end are interpreted as in slice notation.\n",
        "        \n",
        "        Return -1 on failure.\n",
        "    \n",
        "    index(s, *args)\n",
        "        index(s, sub [,start [,end]]) -> int\n",
        "        \n",
        "        Like find but raises ValueError when the substring is not found.\n",
        "    \n",
        "    join(words, sep=' ')\n",
        "        join(list [,sep]) -> string\n",
        "        \n",
        "        Return a string composed of the words in list, with\n",
        "        intervening occurrences of sep.  The default separator is a\n",
        "        single space.\n",
        "        \n",
        "        (joinfields and join are synonymous)\n",
        "    \n",
        "    joinfields = join(words, sep=' ')\n",
        "        join(list [,sep]) -> string\n",
        "        \n",
        "        Return a string composed of the words in list, with\n",
        "        intervening occurrences of sep.  The default separator is a\n",
        "        single space.\n",
        "        \n",
        "        (joinfields and join are synonymous)\n",
        "    \n",
        "    ljust(s, width, *args)\n",
        "        ljust(s, width[, fillchar]) -> string\n",
        "        \n",
        "        Return a left-justified version of s, in a field of the\n",
        "        specified width, padded with spaces as needed.  The string is\n",
        "        never truncated.  If specified the fillchar is used instead of spaces.\n",
        "    \n",
        "    lower(s)\n",
        "        lower(s) -> string\n",
        "        \n",
        "        Return a copy of the string s converted to lowercase.\n",
        "    \n",
        "    lstrip(s, chars=None)\n",
        "        lstrip(s [,chars]) -> string\n",
        "        \n",
        "        Return a copy of the string s with leading whitespace removed.\n",
        "        If chars is given and not None, remove characters in chars instead.\n",
        "    \n",
        "    maketrans(...)\n",
        "        maketrans(frm, to) -> string\n",
        "        \n",
        "        Return a translation table (a string of 256 bytes long)\n",
        "        suitable for use in string.translate.  The strings frm and to\n",
        "        must be of the same length.\n",
        "    \n",
        "    replace(s, old, new, maxreplace=-1)\n",
        "        replace (str, old, new[, maxreplace]) -> string\n",
        "        \n",
        "        Return a copy of string str with all occurrences of substring\n",
        "        old replaced by new. If the optional argument maxreplace is\n",
        "        given, only the first maxreplace occurrences are replaced.\n",
        "    \n",
        "    rfind(s, *args)\n",
        "        rfind(s, sub [,start [,end]]) -> int\n",
        "        \n",
        "        Return the highest index in s where substring sub is found,\n",
        "        such that sub is contained within s[start,end].  Optional\n",
        "        arguments start and end are interpreted as in slice notation.\n",
        "        \n",
        "        Return -1 on failure.\n",
        "    \n",
        "    rindex(s, *args)\n",
        "        rindex(s, sub [,start [,end]]) -> int\n",
        "        \n",
        "        Like rfind but raises ValueError when the substring is not found.\n",
        "    \n",
        "    rjust(s, width, *args)\n",
        "        rjust(s, width[, fillchar]) -> string\n",
        "        \n",
        "        Return a right-justified version of s, in a field of the\n",
        "        specified width, padded with spaces as needed.  The string is\n",
        "        never truncated.  If specified the fillchar is used instead of spaces.\n",
        "    \n",
        "    rsplit(s, sep=None, maxsplit=-1)\n",
        "        rsplit(s [,sep [,maxsplit]]) -> list of strings\n",
        "        \n",
        "        Return a list of the words in the string s, using sep as the\n",
        "        delimiter string, starting at the end of the string and working\n",
        "        to the front.  If maxsplit is given, at most maxsplit splits are\n",
        "        done. If sep is not specified or is None, any whitespace string\n",
        "        is a separator.\n",
        "    \n",
        "    rstrip(s, chars=None)\n",
        "        rstrip(s [,chars]) -> string\n",
        "        \n",
        "        Return a copy of the string s with trailing whitespace removed.\n",
        "        If chars is given and not None, remove characters in chars instead.\n",
        "    \n",
        "    split(s, sep=None, maxsplit=-1)\n",
        "        split(s [,sep [,maxsplit]]) -> list of strings\n",
        "        \n",
        "        Return a list of the words in the string s, using sep as the\n",
        "        delimiter string.  If maxsplit is given, splits at no more than\n",
        "        maxsplit places (resulting in at most maxsplit+1 words).  If sep\n",
        "        is not specified or is None, any whitespace string is a separator.\n",
        "        \n",
        "        (split and splitfields are synonymous)\n",
        "    \n",
        "    splitfields = split(s, sep=None, maxsplit=-1)\n",
        "        split(s [,sep [,maxsplit]]) -> list of strings\n",
        "        \n",
        "        Return a list of the words in the string s, using sep as the\n",
        "        delimiter string.  If maxsplit is given, splits at no more than\n",
        "        maxsplit places (resulting in at most maxsplit+1 words).  If sep\n",
        "        is not specified or is None, any whitespace string is a separator.\n",
        "        \n",
        "        (split and splitfields are synonymous)\n",
        "    \n",
        "    strip(s, chars=None)\n",
        "        strip(s [,chars]) -> string\n",
        "        \n",
        "        Return a copy of the string s with leading and trailing\n",
        "        whitespace removed.\n",
        "        If chars is given and not None, remove characters in chars instead.\n",
        "        If chars is unicode, S will be converted to unicode before stripping.\n",
        "    \n",
        "    swapcase(s)\n",
        "        swapcase(s) -> string\n",
        "        \n",
        "        Return a copy of the string s with upper case characters\n",
        "        converted to lowercase and vice versa.\n",
        "    \n",
        "    translate(s, table, deletions='')\n",
        "        translate(s,table [,deletions]) -> string\n",
        "        \n",
        "        Return a copy of the string s, where all characters occurring\n",
        "        in the optional argument deletions are removed, and the\n",
        "        remaining characters have been mapped through the given\n",
        "        translation table, which must be a string of length 256.  The\n",
        "        deletions argument is not allowed for Unicode strings.\n",
        "    \n",
        "    upper(s)\n",
        "        upper(s) -> string\n",
        "        \n",
        "        Return a copy of the string s converted to uppercase.\n",
        "    \n",
        "    zfill(x, width)\n",
        "        zfill(x, width) -> string\n",
        "        \n",
        "        Pad a numeric string x with zeros on the left, to fill a field\n",
        "        of the specified width.  The string x is never truncated.\n",
        "\n",
        "DATA\n",
        "    ascii_letters = 'abcdefghijklmnopqrstuvwxyzABCDEFGHIJKLMNOPQRSTUVWXYZ'\n",
        "    ascii_lowercase = 'abcdefghijklmnopqrstuvwxyz'\n",
        "    ascii_uppercase = 'ABCDEFGHIJKLMNOPQRSTUVWXYZ'\n",
        "    digits = '0123456789'\n",
        "    hexdigits = '0123456789abcdefABCDEF'\n",
        "    letters = 'abcdefghijklmnopqrstuvwxyzABCDEFGHIJKLMNOPQRSTUVWXYZ'\n",
        "    lowercase = 'abcdefghijklmnopqrstuvwxyz'\n",
        "    octdigits = '01234567'\n",
        "    printable = '0123456789abcdefghijklmnopqrstuvwxyzABCDEFGHIJKLMNOPQRSTU...\n",
        "    punctuation = '!\"#$%&\\'()*+,-./:;<=>?@[\\\\]^_`{|}~'\n",
        "    uppercase = 'ABCDEFGHIJKLMNOPQRSTUVWXYZ'\n",
        "    whitespace = '\\t\\n\\x0b\\x0c\\r '\n",
        "\n",
        "\n"
       ]
      },
      {
       "name": "stdout",
       "output_type": "stream",
       "stream": "stdout",
       "text": [
        "help> quit\n"
       ]
      },
      {
       "output_type": "stream",
       "stream": "stdout",
       "text": [
        "\n",
        "You are now leaving help and returning to the Python interpreter.\n",
        "If you want to ask for help on a particular object directly from the\n",
        "interpreter, you can type \"help(object)\".  Executing \"help('string')\"\n",
        "has the same effect as typing a particular string at the help> prompt.\n"
       ]
      }
     ],
     "prompt_number": 5
    },
    {
     "cell_type": "code",
     "collapsed": false,
     "input": [],
     "language": "python",
     "metadata": {},
     "outputs": []
    },
    {
     "cell_type": "markdown",
     "metadata": {},
     "source": [
      "python \ub77c\uc774\ube0c\ub7ec\ub9ac\n",
      "https://docs.python.org/2/library/index.html"
     ]
    },
    {
     "cell_type": "code",
     "collapsed": false,
     "input": [
      "import math"
     ],
     "language": "python",
     "metadata": {},
     "outputs": [],
     "prompt_number": 2
    },
    {
     "cell_type": "code",
     "collapsed": false,
     "input": [
      "dir(math)"
     ],
     "language": "python",
     "metadata": {},
     "outputs": [
      {
       "metadata": {},
       "output_type": "pyout",
       "prompt_number": 3,
       "text": [
        "['__doc__',\n",
        " '__name__',\n",
        " '__package__',\n",
        " 'acos',\n",
        " 'acosh',\n",
        " 'asin',\n",
        " 'asinh',\n",
        " 'atan',\n",
        " 'atan2',\n",
        " 'atanh',\n",
        " 'ceil',\n",
        " 'copysign',\n",
        " 'cos',\n",
        " 'cosh',\n",
        " 'degrees',\n",
        " 'e',\n",
        " 'erf',\n",
        " 'erfc',\n",
        " 'exp',\n",
        " 'expm1',\n",
        " 'fabs',\n",
        " 'factorial',\n",
        " 'floor',\n",
        " 'fmod',\n",
        " 'frexp',\n",
        " 'fsum',\n",
        " 'gamma',\n",
        " 'hypot',\n",
        " 'isinf',\n",
        " 'isnan',\n",
        " 'ldexp',\n",
        " 'lgamma',\n",
        " 'log',\n",
        " 'log10',\n",
        " 'log1p',\n",
        " 'modf',\n",
        " 'pi',\n",
        " 'pow',\n",
        " 'radians',\n",
        " 'sin',\n",
        " 'sinh',\n",
        " 'sqrt',\n",
        " 'tan',\n",
        " 'tanh',\n",
        " 'trunc']"
       ]
      }
     ],
     "prompt_number": 3
    },
    {
     "cell_type": "code",
     "collapsed": false,
     "input": [
      "help(math.pow)"
     ],
     "language": "python",
     "metadata": {},
     "outputs": [
      {
       "output_type": "stream",
       "stream": "stdout",
       "text": [
        "Help on built-in function pow in module math:\n",
        "\n",
        "pow(...)\n",
        "    pow(x, y)\n",
        "    \n",
        "    Return x**y (x to the power of y).\n",
        "\n"
       ]
      }
     ],
     "prompt_number": 4
    },
    {
     "cell_type": "code",
     "collapsed": false,
     "input": [
      "2**3"
     ],
     "language": "python",
     "metadata": {},
     "outputs": [
      {
       "metadata": {},
       "output_type": "pyout",
       "prompt_number": 5,
       "text": [
        "8"
       ]
      }
     ],
     "prompt_number": 5
    },
    {
     "cell_type": "code",
     "collapsed": false,
     "input": [
      "math.pow(2,3)"
     ],
     "language": "python",
     "metadata": {},
     "outputs": [
      {
       "metadata": {},
       "output_type": "pyout",
       "prompt_number": 6,
       "text": [
        "8.0"
       ]
      }
     ],
     "prompt_number": 6
    },
    {
     "cell_type": "heading",
     "level": 2,
     "metadata": {},
     "source": [
      "[\uc911\uc694]pycharm educational edition"
     ]
    },
    {
     "cell_type": "markdown",
     "metadata": {},
     "source": [
      "## \uc124\uba85\n",
      "http://blog.jetbrains.com/pycharm/2014/10/jetbrains-debuts-pycharm-educational-edition/\n",
      "\n",
      "## \ub2e4\uc6b4\ub85c\ub4dc\n",
      "https://www.jetbrains.com/pycharm-educational/download/"
     ]
    },
    {
     "cell_type": "code",
     "collapsed": false,
     "input": [],
     "language": "python",
     "metadata": {},
     "outputs": []
    }
   ],
   "metadata": {}
  }
 ]
}