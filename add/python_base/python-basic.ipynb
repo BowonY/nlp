{
 "metadata": {
  "celltoolbar": "Slideshow",
  "name": "",
  "signature": "sha256:72b90d84f10f94c026008cefdf4a073ba311f3bf9f9c8bf310c74d128801e6c1"
 },
 "nbformat": 3,
 "nbformat_minor": 0,
 "worksheets": [
  {
   "cells": [
    {
     "cell_type": "markdown",
     "metadata": {},
     "source": [
      "### \uce68\uace0\n",
      "- \uc219\uc81c github https://github.com/babelPish/py\n",
      "- github id \ucd94\uac00 \ubb38\uc11c http://goo.gl/ksG5mt\n",
      "- \ubc1c\ud45c1 http://nbviewer.ipython.org/github/babelPish/nlp/blob/master/add/python_base/python-basic.ipynb \n",
      "- \ubc1c\ud45c2 http://nbviewer.ipython.org/github/babelPish/nlp/blob/master/add/python_base/python-basic-do.ipynb\n",
      "    "
     ]
    },
    {
     "cell_type": "markdown",
     "metadata": {
      "slideshow": {
       "slide_type": "slide"
      }
     },
     "source": [
      "## \ub4e4\uc5b4\uac00\uae30\uc5d0 \uc55e\uc11c\n",
      "- https://github.com/babelPish/py\n",
      "- \ud30c\uc774\uc36c\uc774 \uc124\uce58 \ub418\uc5b4 \uc788\ub2e4\n",
      "- github \uacc4\uc815\uc774 \uc788\ub2e4  \n",
      "- github id\ucd94\uac00 http://goo.gl/ksG5mt\n",
      "- \ud658\uacbd \uad6c\uc131 python 2.7\n"
     ]
    },
    {
     "cell_type": "markdown",
     "metadata": {
      "slideshow": {
       "slide_type": "slide"
      }
     },
     "source": [
      "## \uc2e4\uc2b5\ud658\uacbd\n",
      "- python\n",
      "- ipython\n",
      "- \ub610\ub294 ide tool \uc774\ud074\ub9bd\uc2a4, *\uc778\ud154\ub9acj\n",
      "- https://www.jetbrains.com/pycharm-educational/"
     ]
    },
    {
     "cell_type": "markdown",
     "metadata": {
      "slideshow": {
       "slide_type": "slide"
      }
     },
     "source": [
      "## \ubc1c\ud45c\uc790 \uc18c\uac1c\n",
      "- bio python \ubb38\uc11c\uad00\ub9ac\uc790  http://biopy.github.io\n",
      "- \ub367\uce60\ud558\ub4ef\uc774  \ubc31\ubb38\uc774\ubd88\uc5ec\uc77c\ud0c0\n",
      "- \uc9c4\ud589\uc740 \ub9c9\uc9c4\ud589\n",
      "- \ud55c\uc2dc\uac04 \ud734\uc2dd \uacc4\uc815 \ub9c9 \ub4f1\ub85d. \uae30\ud5d9\ucd94\uac00 / \uac1c\uc778 \ud3f4\ub354 \ucd94\uac00\n"
     ]
    },
    {
     "cell_type": "markdown",
     "metadata": {
      "slideshow": {
       "slide_type": "slide"
      }
     },
     "source": [
      "## \uad50\uc721 \uc21c\uc11c\n",
      "- 1\uc2dc\uac04 \uae30\ubcf8\uad50\uc721 \ud55c\uc2dc\uac04 \uadf8\ub0e5 \uc774\ub860 \ub4a4\uc838 \ubcf4\ub294 \uc2dc\uac04\n",
      "- \ud734\uc2dd. git \uac01 \uac1c\uc778 \uc219\uc81c\ud3f4\ub354 \uc0dd\uc131 /\uc219\uc81c \ud15c\ud50c\ub9bf \uc0dd\uc131 / https://github.com/babelPish/py\n",
      "- \ub098\uba38\uc9c0 \uad50\uc721"
     ]
    },
    {
     "cell_type": "markdown",
     "metadata": {
      "slideshow": {
       "slide_type": "slide"
      }
     },
     "source": [
      "## \uc624\ub298 \ucee8\uc149\n",
      "- \uc57c\ub9e4 \uac1c\ubc1c\uc790\n",
      "- \uc815\uc11d\uc740 \uc5b4\ub2c8\uc9c0\ub9cc \uac00\uaca9\ub300\ube44 \uc131\ub2a5\ube44\uac00 \uc6b0\uc218\ud55c..\n",
      "- 10\ub9cc \ud574\ucee4\uc591\ubcd1\uc124\n",
      "- 20 IT\uc778 \uc0dd\uc131"
     ]
    },
    {
     "cell_type": "markdown",
     "metadata": {
      "slideshow": {
       "slide_type": "slide"
      }
     },
     "source": [
      "\n",
      "## \ucd5c\uc885 goal\n",
      "- \uc2a4\ud06c\ub7a9\ud37c \uc791\uc131\n",
      "- 1. url \uc774\ubbf8\uc9c0 \ub2e4\uc6b4\ub85c\ub4dc\n",
      "- 2. \uc2a4\ud06c\ub7a9\ud551\n",
      "- 3. \ud2b9\uc815 \ud398\uc774\uc9c0 \uc774\ubbf8\uc9c0\ub9cc \ub2e4\uc6b4\ub85c\ub4dc \ud558\uae30\n",
      "- python basic + web request +  file io + a..."
     ]
    },
    {
     "cell_type": "markdown",
     "metadata": {
      "slideshow": {
       "slide_type": "slide"
      }
     },
     "source": [
      "## \uc219\uc81c\n",
      "- https://github.com/babelPish/py\n",
      "- \ud398\uc774\uc9c0\uc5d0 \ub9cc\ub4e4\uba74. \n",
      "- \uc218\uc900\uc774\uc0c1 \uc644\uc131\ud558\uba74 \ucca8\uc0ad \uba58\ud2b8\ub3c4 \ub0a8\uae30\uace0 . \n",
      "- \uc131\uc801\ud45c \ub4f1\uc218\ub3c4 \ubc1c\uae09\ud558\uaca0\uc74c\n",
      "\n",
      "### 1. \uc544\ub798 \ucd9c\ub825\n",
      " python basic \ucf54\ub4dc\uac00 \uc791\uc131\uac00\ub294 \ud55c\uac00\n",
      "```python\n",
      "@\n",
      "@@@\n",
      "@@@@@\n",
      "@@@\n",
      "@\n",
      "```\n",
      "\n",
      "```python\n",
      "    @\n",
      "  @@@@@\n",
      "@@@@@@@@@\n",
      "  @@@@@\n",
      "    @\n",
      "```\n",
      "\n",
      "### 2. \ud30c\uc77c IO\n",
      "\ud30c\uc77c\uc5d0\ub2e4\uac00 \ucc0d\uae30\n"
     ]
    },
    {
     "cell_type": "markdown",
     "metadata": {
      "slideshow": {
       "slide_type": "slide"
      }
     },
     "source": [
      "### 3. \uc6f9\n",
      "https://www.flickr.com/photos/tags/flicker/\n",
      "\ud648\ud398\uc774\uc9c0 \uc77d\uc5b4\uc640\uc11c \ud30c\uc77c\ub85c \uc800\uc7a5\ud558\uae30\n",
      "\n",
      "### 4. \ub370\uc774\ud130 \uac00\uacf5\n",
      "- 30\ubd84\ub9cc\uc5d0 \ub530\ub77c\ud558\ub294 \ub3d9\uc2dc\uc131 \uc6f9 \uc2a4\ud06c\ub798\ud37c\n",
      "- http://www.pycon.kr/2014/program/15\n",
      "- https://gist.github.com/cornchz/c340bd469d6a2f31827d\n",
      "\n",
      "- \uc6f9\uc2a4\ud06c\ub808\ud551 \ucf54\ub4dc \ubcc0\uacbd\n",
      "- https://www.flickr.com/photos/tags/flicker/\n",
      "- \ud2b9\uc815 \ud398\uc774\uc9c0\uc5d0\uc11c img \ub9cc \ucd94\ucd9c\ud558\uc5ec \ud30c\uc77c\ub85c \uc800\uc7a5"
     ]
    },
    {
     "cell_type": "markdown",
     "metadata": {},
     "source": [
      "## \uac1c\ubc1c\uc744 \uc798\ud558\ub824\uba74\n",
      "- \ub450\uac00\uc9c0\ub9cc \uae30\uc5b5 \ud558\ubbc4. copy + v\n",
      "- \uc88b\uc740 \uc608\uc81c\ub97c \ub9ce\uc774 \ubcf4\uc790\n",
      "- \ucf54\ub4dc\ub294 \ubcfc \uc904\ub9cc \uc54c\uba74 \ub41c\ub2e4.\n",
      "\n",
      "- \uc778\ud130\ub137 \uc548\ub418\uba74 \uac1c\ubc1c\uc744 \ubabb\ud55c\ub2e4.\n",
      "- \uac80\uc0c9\uc744 \uc798 \ud574\uc57c \ud55c\ub2e4.\n",
      "- \uad6c\uae00, stack overlfow  , git\n",
      "\n",
      "- \uc77d\ub294\uac70 \ucf54\ub4dc \uace0\uce58\ub294 \uac83\ub3c4 \ub2a5\ub825\uc774\ub2e4.\n",
      "- \uc774\ubbf8\uc9c0 url \uac00\uc838\uc640\uc11c \ud30c\uc77c\ub85c \uc800\uc7a5\ud560\ub824\ubbc4\n",
      "\n",
      "- \uac80\uc0c9 : python url save image"
     ]
    },
    {
     "cell_type": "markdown",
     "metadata": {
      "slideshow": {
       "slide_type": "slide"
      }
     },
     "source": [
      "\n",
      "## \uc624\ub298 \uc774\uac83\ub9cc \uae30\uc5b5\ud558\uc790\n",
      "```\n",
      "- help()\n",
      "- dir()\n",
      "- dir(__builtin__)\n",
      "- type()\n",
      "```\n"
     ]
    },
    {
     "cell_type": "markdown",
     "metadata": {
      "slideshow": {
       "slide_type": "slide"
      }
     },
     "source": [
      "## python basic\n",
      "\n",
      "-  \ud30c\uc774\uc36c \ubaa9\ucc28\n",
      "- type. ex) string, int\n",
      "- data structure. ex) list, tuple, dict\n",
      "- Control Flow ex) if, for , while ,\n",
      "- func\n",
      "- module\n",
      "- file i/o\n",
      "- stadard libray\n"
     ]
    },
    {
     "cell_type": "markdown",
     "metadata": {
      "slideshow": {
       "slide_type": "slide"
      }
     },
     "source": [
      "## \ucc38\uace0\n",
      "\n",
      "- python basic\n",
      "https://github.com/sng2c/Plega2014/blob/master/python27.md\n",
      "\n",
      "- pycharm educational edition\n",
      "https://www.jetbrains.com/pycharm-educational/\n",
      "\n",
      "- python \ud29c\ud130\ub9ac\uc5bc\n",
      "https://docs.python.org/2/tutorial/index.html\n",
      "\n",
      "- python \ub77c\uc774\ube0c\ub7ec\ub9ac\n",
      "https://docs.python.org/2/library/index.html"
     ]
    }
   ],
   "metadata": {}
  }
 ]
}