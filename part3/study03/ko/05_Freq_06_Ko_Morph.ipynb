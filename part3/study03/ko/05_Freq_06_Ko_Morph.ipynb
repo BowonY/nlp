{
 "cells": [
  {
   "cell_type": "markdown",
   "metadata": {},
   "source": [
    "# 5장 어절 빈도 조사"
   ]
  },
  {
   "cell_type": "markdown",
   "metadata": {},
   "source": [
    "* 바벨피쉬 / 파이썬을 이용한 자연어처리 기초 : 파트3 - '한국어 처리'[1]\n",
    "* 김무성"
   ]
  },
  {
   "cell_type": "markdown",
   "metadata": {},
   "source": [
    "# 차례"
   ]
  },
  {
   "cell_type": "markdown",
   "metadata": {},
   "source": [
    "* 5.1 개요\n",
    "* 5.2 말뭉치 구성 및 어절 추출\n",
    "* 5.3 어절 빈도 조사\n",
    "* 5.4 실험 및 평가\n",
    "* 5.5 요약"
   ]
  },
  {
   "cell_type": "markdown",
   "metadata": {},
   "source": [
    "# 5.1 개요"
   ]
  },
  {
   "cell_type": "markdown",
   "metadata": {},
   "source": [
    "* 한글 음절의 빈도를 조사해 보면 그 출현빈도에 따라 \n",
    "    - 고빈도 음절과 \n",
    "    - 저빈도 음절로 구분된다.\n",
    "    - 또한, 조사 혹은 어미에는 소수의 특정 음절들이 주로 사용된다.\n",
    "* 한글 어절의 출현빈도를 조사해 보면\n",
    "    - 고빈도 어절 및\n",
    "    - 저빈도 어절로 구분된다\n",
    "* 소규모 고빈도 어절 집합이 주어지면 형태소 분석, 태깅, 자동 띄어쓰기 등 한국어 정보처리 시스템의 성능 및 정확도를 향샹시키는데 활용될 수 있다. "
   ]
  },
  {
   "cell_type": "markdown",
   "metadata": {},
   "source": [
    "# 5.2 말뭉치 구성 및 어절 추출"
   ]
  },
  {
   "cell_type": "markdown",
   "metadata": {},
   "source": [
    "* 1) 말뭉치-1은 \n",
    "    - '21세기 세종 계획'에서 구축된 균형 말뭉치로 \n",
    "    - 1998년 및 \n",
    "    - 1999년 세종 계획 프로젝트에서 구축된 \n",
    "    - 2개의 말뭉치를 합한 것이다.\n",
    "* 2) 말뭉치-2는 \n",
    "    - KTSET-1, \n",
    "    - KTSET-2, \n",
    "    - Krist collection, \n",
    "    - 신문기사, \n",
    "    - 백과사전, \n",
    "    - 초등학교 교과서 등으로 구성되어 있다.\n",
    "* 3) 말뭉치-3은 \n",
    "    - 자연언어 처리를 위해 구축된 \n",
    "    - 100만 어절 규모의 말뭉치이다."
   ]
  },
  {
   "cell_type": "markdown",
   "metadata": {},
   "source": [
    "<img src=\"figures/tbl.5.1.png\" width=600 />"
   ]
  },
  {
   "cell_type": "markdown",
   "metadata": {},
   "source": [
    "* 원시 말뭉치로부터 순수한 한글 어절을 제외한 영문, 숫자, 한-영 혼합 어절을 제거하였다.\n",
    "    - a) '원문 어절수'는 원시 말뭉치의 어절 개수이고,\n",
    "    - b) '순수한글 어절수'는 원시 말뭉치에서 영문, 숫자, 한-영 혼합어 등을 제외하고 순수하게 한글 음절로만 구성된 어절 개수이다.\n",
    "        - '순수 한글 어절'을 구하기 위해\n",
    "            - 괄호 안의 글자를 제거\n",
    "            - 'abc 를'과 같이 영문자와 조사/어미에 공백이 삽입된 것은 전처리 과정에서 \n",
    "                - \"아스키문자+공백문자+한글\"유형에 대해 공백 문자를 제거하였다."
   ]
  },
  {
   "cell_type": "markdown",
   "metadata": {},
   "source": [
    "# 5.3 어절 빈도 조사"
   ]
  },
  {
   "cell_type": "markdown",
   "metadata": {},
   "source": [
    "* 세 가지 유형의 말뭉치에 대해 어절 빈도를 조사하고 \n",
    "    - 고빈도 어절 순으로 정렬하여\n",
    "        - 누적 빈도 및\n",
    "        - 누적 어절수를 계산\n",
    "* 1) 말뭉치-1과 말뭉치-2의 누적 어절수는 누적 빈도 10%에서 90%(빈도수 2이상)까지 그 개수가 매우 유사함\n",
    "* 2) 말뭉치-3은 누적 어절수의 차이가 크다. 말뭉치의 크기가 작기 때문일 것으로 추정된다."
   ]
  },
  {
   "cell_type": "markdown",
   "metadata": {},
   "source": [
    "<img src=\"figures/tbl5.2.png\" width=600 />"
   ]
  },
  {
   "cell_type": "markdown",
   "metadata": {},
   "source": [
    "<img src=\"figures/tbl5.2_2-tbl5.3.png\" width=600 />"
   ]
  },
  {
   "cell_type": "markdown",
   "metadata": {},
   "source": [
    "<img src=\"figures/tbl5.4_1.png\" width=600 />"
   ]
  },
  {
   "cell_type": "markdown",
   "metadata": {},
   "source": [
    "<img src=\"figures/tbl5.4_2.png\" width=600 />"
   ]
  },
  {
   "cell_type": "markdown",
   "metadata": {},
   "source": [
    "* 말뭉치-1과 말뭉치-2로부터 추출된 고빈도 어절 집합에 대해 일치되는 어절들을 조사\n",
    "* 1) 말뭉치-2의 고빈도 어절수를 기준으로 일치율을 조사\n",
    "* 2) 말뭉치-1과 말뭉치-2의 고빈도 어절을 동일한 개수씩 추출하여 공통 어절수를 조사(일치율)\n",
    "* 3) 누적 빈도 20%의 경우\n",
    "    - 말뭉치-1과 말뭉치-2에서 각각 고빈도어 221개씩 추출했을 때\n",
    "    - 일치되는 어절수가 162개"
   ]
  },
  {
   "cell_type": "markdown",
   "metadata": {},
   "source": [
    "<img src=\"figures/tbl5.5.png\" width=600 />"
   ]
  },
  {
   "cell_type": "markdown",
   "metadata": {},
   "source": [
    "* 누적 백분율 단위로 말뭉치-1의 누적 어절수에 말뭉치-2의 누적 어절수가 포함된 개수를 조사한 결과\n",
    "    - 1) 누적 빈도 20%의 경우 \n",
    "        - 말뭉치-2의 누적 어절수 221개 중에서\n",
    "        - 말뭉치-1의 누적 어절수 235개에 포함된 어절수가\n",
    "        - 165개이다.\n",
    "        - 165/235 = 74.7 %"
   ]
  },
  {
   "cell_type": "markdown",
   "metadata": {},
   "source": [
    "<img src=\"figures/tbl5.6.png\" width=600 />"
   ]
  },
  {
   "cell_type": "markdown",
   "metadata": {},
   "source": [
    "# 5.4 실험 및 평가"
   ]
  },
  {
   "cell_type": "markdown",
   "metadata": {},
   "source": [
    "* 5.4.1 고빈도 어절 집합의 선정 실험\n",
    "* 5.4.2 누적 빈도별 어절 적중률"
   ]
  },
  {
   "cell_type": "markdown",
   "metadata": {},
   "source": [
    "## 5.4.1 고빈도 어절 집합의 선정 실험"
   ]
  },
  {
   "cell_type": "markdown",
   "metadata": {},
   "source": [
    "<img src=\"figures/tbl5.7.png\" width=600 />"
   ]
  },
  {
   "cell_type": "markdown",
   "metadata": {},
   "source": [
    "## 5.4.2 누적 빈도별 어절 적중률"
   ]
  },
  {
   "cell_type": "markdown",
   "metadata": {},
   "source": [
    "<img src=\"figures/tbl5.8.png\" width=600 />"
   ]
  },
  {
   "cell_type": "markdown",
   "metadata": {},
   "source": [
    "# 5.5 요약"
   ]
  },
  {
   "cell_type": "markdown",
   "metadata": {},
   "source": [
    "* 고빈도 어절 집합은 한국어 정보처리 시스템의 성능과 정확도를 높이는데 활용될 수 있다."
   ]
  },
  {
   "cell_type": "markdown",
   "metadata": {},
   "source": [
    "### 부록"
   ]
  },
  {
   "cell_type": "markdown",
   "metadata": {},
   "source": [
    "<img src=\"figures/ap_1.png\" width=600 />\n",
    "<img src=\"figures/ap_2.png\" width=600 />"
   ]
  },
  {
   "cell_type": "markdown",
   "metadata": {},
   "source": [
    "# 6장 한국어의 형태론적 특성"
   ]
  },
  {
   "cell_type": "markdown",
   "metadata": {},
   "source": [
    "* 6.1 어절과 음절\n",
    "* 6.2 형태론적 변형과 이형태\n",
    "* 6.3 복합어와 띄어쓰기\n",
    "* 6.4 한국어의 구조적 특성"
   ]
  },
  {
   "cell_type": "markdown",
   "metadata": {},
   "source": [
    "# 6.1 어절과 음절"
   ]
  },
  {
   "cell_type": "markdown",
   "metadata": {},
   "source": [
    "* 단어 : 문법상의 뜻, 기능을 가진 언어의 최소 단위. 곧, 언어의 최소 자립 형식이라고 정의 됨. 낱말.\n",
    "* 어절 : 문장을 이루는 하나하나의 도막. 문장 성분의 최소 단위로서 띄어쓰기의 단위가 됨."
   ]
  },
  {
   "cell_type": "markdown",
   "metadata": {},
   "source": [
    "* (1) 자소 단위 처리에서 어절의 정의\n",
    "    - 어절 = 자소1 + 자소2 + ... + 자소n\n",
    "* (2) 음절 단위 처리에서 어절의 정의\n",
    "    - 어절 = 음절1 + 음절2 + ... + 음절m\n",
    "    - 음절i = 초성 + 중성 + 종성"
   ]
  },
  {
   "cell_type": "markdown",
   "metadata": {},
   "source": [
    "<img src=\"figures/tbl6.1.png\" width=600 />"
   ]
  },
  {
   "cell_type": "markdown",
   "metadata": {},
   "source": [
    "# 6.2 형태론적 변형과 이형태"
   ]
  },
  {
   "cell_type": "markdown",
   "metadata": {},
   "source": [
    "* 한국어의 형태론적 변형\n",
    "    - 용언의 불규칙 활용\n",
    "    - 탈락과 축약\n",
    "    - 모음조화 : '아/어'로 시작되는 어말어미\n",
    "    - 음운론적 이형태 : '이/가', '은/는' 등\n",
    "    - 준말, 존칭 등 : '-지/치/키/케', '에게/한테/께/게' 등"
   ]
  },
  {
   "cell_type": "markdown",
   "metadata": {},
   "source": [
    "\"특정 유형의 용언들 중에서 일부에만 적용되는 형태론적 변형 현상\""
   ]
  },
  {
   "cell_type": "markdown",
   "metadata": {},
   "source": [
    "* (1) '아름다워'\n",
    "* (2) '아름다웠다'\n",
    "* (3) '아름다워졌다'"
   ]
  },
  {
   "cell_type": "markdown",
   "metadata": {},
   "source": [
    "# 6.3 복합어와 띄어쓰기"
   ]
  },
  {
   "cell_type": "markdown",
   "metadata": {},
   "source": [
    "* (1) 복합명사의 각 단위명사\n",
    "* (2) 본용언 + '-아/어' + 보조용언 + 의미\n",
    "* (3) '이/그/저' + 1음절 명사"
   ]
  },
  {
   "cell_type": "markdown",
   "metadata": {},
   "source": [
    "# 6.4 한국어의 구조적 특성"
   ]
  },
  {
   "cell_type": "markdown",
   "metadata": {},
   "source": [
    "\"나는 아름다운 꽃을 보았다\""
   ]
  },
  {
   "cell_type": "markdown",
   "metadata": {},
   "source": [
    "\"밥을 먹고 학교에 갔다\" -. \"밥먹고 학교갔다\""
   ]
  },
  {
   "cell_type": "markdown",
   "metadata": {},
   "source": [
    "* (1) 한국어의 어절은 음절들의 결합으로 이루어진다. 음절의 수는 많으나 어떤 특정한 용도로 사용되는 음절은 제한되어 있다.\n",
    "* (2) 체언과 결합하는 조사, 용언과 결합하는 어미의 종류가 많고 변이체(variant)가 다양하게 나타난다.\n",
    "* (3) 조사의 생략에 의해 두 개의 단어가 하나의 단어로 축약되는 경우가 있다.\n",
    "* (4) 두 음절이 축약되어 하나의 음절로 표현되는 경우가 있다.\n",
    "* (5) 두 개의 1 음절어가 연속으로 나타날 때 붙여쓰기가 허용되는 경우가 있다. "
   ]
  },
  {
   "cell_type": "markdown",
   "metadata": {},
   "source": [
    "# 참고자료"
   ]
  },
  {
   "cell_type": "markdown",
   "metadata": {},
   "source": [
    "* [1] 한국어 형태소 분석과 정보 검색 / 강승식 - http://www.aladin.co.kr/shop/wproduct.aspx?ISBN=8972832804"
   ]
  }
 ],
 "metadata": {
  "kernelspec": {
   "display_name": "Python 2",
   "language": "python",
   "name": "python2"
  },
  "language_info": {
   "codemirror_mode": {
    "name": "ipython",
    "version": 2
   },
   "file_extension": ".py",
   "mimetype": "text/x-python",
   "name": "python",
   "nbconvert_exporter": "python",
   "pygments_lexer": "ipython2",
   "version": "2.7.6"
  }
 },
 "nbformat": 4,
 "nbformat_minor": 0
}
