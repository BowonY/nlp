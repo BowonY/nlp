{
 "cells": [
  {
   "cell_type": "code",
   "execution_count": null,
   "metadata": {
    "collapsed": true
   },
   "outputs": [],
   "source": [
    "Chapter 9 MINING TEXT STREAMS"
   ]
  },
  {
   "cell_type": "code",
   "execution_count": null,
   "metadata": {
    "collapsed": true
   },
   "outputs": [],
   "source": [
    "1. Introduction\n",
    "2. Clustering Text Streams\n",
    "2.1 Topic Detection and Tracking in Text Streams\n",
    "3. Classification of Text Streams\n",
    "4. Evolution Analysis in Text Streams\n",
    "5. Conclusions"
   ]
  },
  {
   "cell_type": "markdown",
   "metadata": {},
   "source": [
    "The large amount of text data which are continuously produced over time in a variety of large scale applications such as social networks re- sults in massive streams of data. Typically massive text streams are created by very large scale interactions of individuals, or by structured creations of particular kinds of content by dedicated organizations. An example in the latter category would be the massive text streams cre- ated by news-wire services. Such text streams provide unprecedented challenges to data mining algorithms from an efficiency perspective. In this chapter, we review text stream mining algorithms for a wide variety of problems in data mining such as clustering, classification and topic modeling. We also discuss a number of future challenges in this area of research.\n"
   ]
  },
  {
   "cell_type": "code",
   "execution_count": null,
   "metadata": {
    "collapsed": true
   },
   "outputs": [],
   "source": [
    "Text Mining, Data Streams"
   ]
  },
  {
   "cell_type": "code",
   "execution_count": null,
   "metadata": {
    "collapsed": true
   },
   "outputs": [],
   "source": [
    "1. Introduction\n"
   ]
  },
  {
   "cell_type": "markdown",
   "metadata": {},
   "source": [
    "Some specific examples of applications which create text streams are as follows:\n"
   ]
  },
  {
   "cell_type": "markdown",
   "metadata": {},
   "source": [
    "In social networks, users continuously communicate with one an- other with the use of text messages.\n",
    "Many news aggregator services 1 may receive large volumes of news articles continuously over time.\n",
    "Many web crawlers may collect a large volume of documents from networks in a small time frame. "
   ]
  },
  {
   "cell_type": "markdown",
   "metadata": {},
   "source": [
    "In the case of multi-dimensional and time-series data, such summa- rization often takes the form of methods such as histograms, wavelets, and sketches which can be used in order to create a structured sum- mary of the underlying data [1]. However, the unstructured nature of text makes the use of such summaries quite challenging."
   ]
  },
  {
   "cell_type": "markdown",
   "metadata": {},
   "source": [
    "In the case of multi-dimensional and time-series data, such summa- rization often takes the form of methods such as histograms, wavelets, and sketches which can be used in order to create a structured sum- mary of the underlying data [1]. However, the unstructured nature of text makes the use of such summaries quite challenging."
   ]
  },
  {
   "cell_type": "markdown",
   "metadata": {},
   "source": [
    "This chapter is organized as follows. In section 2, we will present a variety of the well known algorithms for clustering text streams. This includes popular methods for topic detection and tracking in text stream. This is because the process of event detection is closely related to the clustering problem. The methods for classification of text streams are reviewed in section 3. Section 4 presents methods for evolution analysis of text stream. The conclusions and summary are presented in section 5."
   ]
  },
  {
   "cell_type": "code",
   "execution_count": null,
   "metadata": {
    "collapsed": true
   },
   "outputs": [],
   "source": [
    "2. Clustering Text Streams\n",
    "2.1 Topic Detection and Tracking in Text Streams\n"
   ]
  },
  {
   "cell_type": "markdown",
   "metadata": {},
   "source": [
    "COBWEB\n",
    "CLASSIT\n",
    "Many of these methods [4, 12] are extensions of the k-means method as extended to the stream scenario.\n",
    "Online Spherical k-Means Algorithm (OSKM)\n",
    "hierarchical clustering algorithms\n",
    "The method extends the COBWEB and CLASSIT algorithms [20, 25] to the case of text data\n",
    "different method for clustering massive text and categorical data streams is discussed in [3]. The method discussed in [3] uses an approach which examines the relationship between outliers, emerging trends, and clusters in the underlying data.\n",
    "micro-clusters\n",
    "This approach works with the use of a summarization methodology, which is motivated by the micro-clustering approach proposed in [4]. While the concept of micro-clustering was designed for numerical data, it can also be extended to the case of text and categorical data streams.\n",
    "condensed droplets\n"
   ]
  },
  {
   "cell_type": "markdown",
   "metadata": {},
   "source": [
    "In order to ensure greater importance of more recent data, a time- sensitive weightage is assigned to each data point.\n",
    "It is assumed that each data point has a time-dependent weight defined by the function f(t). \n",
    "The function f(t) is also referred to as the fading function.\n",
    "The fading function f (t) is a non-monotonic decreasing function which decays uniformly with time t.\n",
    "In order to formalize this concept, we will define the half-life of a point in the data stream."
   ]
  },
  {
   "cell_type": "markdown",
   "metadata": {},
   "source": [
    "Definition 9.1 The half life t0 of a point is defined as the time at which f(t0) = (1/2)f(0)."
   ]
  },
  {
   "cell_type": "markdown",
   "metadata": {},
   "source": [
    "decay-rate\n",
    "We denote the decay rate by λ = 1/t0. We denote the weight function of each point in the data stream by f(t) = 2−λ·t. From the perspective of the clustering process, the weight of each data point is f(t). It is easy to see that this decay function creates a half life of 1/λ."
   ]
  },
  {
   "cell_type": "code",
   "execution_count": null,
   "metadata": {
    "collapsed": true
   },
   "outputs": [],
   "source": []
  },
  {
   "cell_type": "code",
   "execution_count": null,
   "metadata": {
    "collapsed": true
   },
   "outputs": [],
   "source": [
    "2.1 Topic Detection and Tracking in Text Streams\n"
   ]
  },
  {
   "cell_type": "code",
   "execution_count": null,
   "metadata": {
    "collapsed": true
   },
   "outputs": [],
   "source": [
    "3. Classification of Text Streams\n"
   ]
  },
  {
   "cell_type": "code",
   "execution_count": null,
   "metadata": {
    "collapsed": true
   },
   "outputs": [],
   "source": [
    "4. Evolution Analysis in Text Streams\n"
   ]
  },
  {
   "cell_type": "code",
   "execution_count": null,
   "metadata": {
    "collapsed": true
   },
   "outputs": [],
   "source": [
    "5. Conclusions"
   ]
  }
 ],
 "metadata": {
  "kernelspec": {
   "display_name": "Python 2",
   "language": "python",
   "name": "python2"
  },
  "language_info": {
   "codemirror_mode": {
    "name": "ipython",
    "version": 2
   },
   "file_extension": ".py",
   "mimetype": "text/x-python",
   "name": "python",
   "nbconvert_exporter": "python",
   "pygments_lexer": "ipython2",
   "version": "2.7.10"
  }
 },
 "nbformat": 4,
 "nbformat_minor": 0
}
