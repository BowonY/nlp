{
 "cells": [
  {
   "cell_type": "markdown",
   "metadata": {},
   "source": [
    "# 9   Building Feature Based Grammars"
   ]
  },
  {
   "cell_type": "markdown",
   "metadata": {},
   "source": [
    "이 장에서는 context free grammars를 확장해서  자질 기반 문법(feature based grammars)에서 언어적 패턴과 문법적 구문의 종류를 살펴보려고 합니다.  격일치, , subcategorization, 무한의존구문등의 영어구문의 특증을 좀 더 살펴볼 것입니다. "
   ]
  },
  {
   "cell_type": "markdown",
   "metadata": {},
   "source": [
    "##9.1   Grammatical Features"
   ]
  },
  {
   "cell_type": "markdown",
   "metadata": {},
   "source": [
    "<img src= \"http://www.yalescientific.org/wp-content/uploads/2012/02/features-chomsky.jpg\"><BR>\n",
    "                                     noam-chomsky"
   ]
  },
  {
   "cell_type": "markdown",
   "metadata": {},
   "source": [
    "이 장에서는 규칙 기반 문법(rule-based grammars)에 의거해서 features와 그들의 values를 뽑는 과정을 살펴볼 것입니다. 이 모든 것이 미리 갖추어져 있는 사전의 간단한 예제로부터 시작해봅시다. "
   ]
  },
  {
   "cell_type": "code",
   "execution_count": 52,
   "metadata": {
    "collapsed": false
   },
   "outputs": [],
   "source": [
    "#nltk.download()\n",
    "import nltk\n",
    "from __future__ import division\n",
    "import nltk, re, pprint"
   ]
  },
  {
   "cell_type": "code",
   "execution_count": 53,
   "metadata": {
    "collapsed": true
   },
   "outputs": [],
   "source": [
    "kim = {'CAT': 'NP', 'ORTH': 'Kim', 'REF': 'k'}\n",
    "chase = {'CAT': 'V', 'ORTH': 'chased', 'REL': 'chase'}"
   ]
  },
  {
   "cell_type": "markdown",
   "metadata": {},
   "source": [
    "kim과 chase가 공유하고 있는 feature는 CAT, ORTH이다. \n",
    "그리고 semantically-oriented feature는 REF, REL이다. \n",
    "####참고: CAT (grammatical category), ORTH (orthography, i.e.,spelling), REF(referent), REL(relation) "
   ]
  },
  {
   "cell_type": "code",
   "execution_count": 54,
   "metadata": {
    "collapsed": true
   },
   "outputs": [],
   "source": [
    "chase['AGT'] = 'sbj'\n",
    "chase['PAT'] = 'obj'"
   ]
  },
  {
   "cell_type": "markdown",
   "metadata": {
    "collapsed": true
   },
   "source": [
    "####참고:agent는 주어( subject)의 역할, patient는 목적어(object)의 역할 "
   ]
  },
  {
   "cell_type": "code",
   "execution_count": 55,
   "metadata": {
    "collapsed": false
   },
   "outputs": [
    {
     "name": "stdout",
     "output_type": "stream",
     "text": [
      "ORTH  => chased\n",
      "REL   => chase\n",
      "AGT   => k\n",
      "PAT   => l\n"
     ]
    }
   ],
   "source": [
    "sent = \"Kim chased Lee\"\n",
    "tokens = sent.split()\n",
    "lee = {'CAT': 'NP', 'ORTH': 'Lee', 'REF': 'l'}\n",
    "def lex2fs(word):\n",
    "    for fs in [kim, lee, chase]:\n",
    "        if fs['ORTH'] == word:\n",
    "            return fs\n",
    "subj, verb, obj = lex2fs(tokens[0]), lex2fs(tokens[1]), lex2fs(tokens[2])\n",
    "verb['AGT'] = subj['REF']\n",
    "verb['PAT'] = obj['REF']\n",
    "for k in ['ORTH', 'REL', 'AGT', 'PAT']: # check featstruct of 'chase'\n",
    "    print \"%-5s => %s\" % (k, verb[k])"
   ]
  },
  {
   "cell_type": "markdown",
   "metadata": {},
   "source": [
    "다른 동사도 해보자! surprise의 경우: object의 출발점\"source\" (SRC) ,  경험자\"experiencer\" (EXP)역 "
   ]
  },
  {
   "cell_type": "code",
   "execution_count": 56,
   "metadata": {
    "collapsed": true
   },
   "outputs": [],
   "source": [
    "surprise = {'CAT': 'V', 'ORTH': 'surprised', 'REL': 'surprise',\n",
    "            'SRC': 'sbj', 'EXP': 'obj'}"
   ]
  },
  {
   "cell_type": "markdown",
   "metadata": {},
   "source": [
    "질문: agent, patient, source, experiencer는 뭔가요? 사실 이것보다 더 많습니다. 다음 세종 전자사건에서 나타나는 의미역 목록을 봅시다. "
   ]
  },
  {
   "cell_type": "markdown",
   "metadata": {},
   "source": [
    "###참고: 세종 전자사전의 의미역 목록\n",
    "\n",
    "[1 ] 행위주(Agent)\n",
    "[2 ] 경험주(Experience)\n",
    "[3 ] 심리행위주(Mental Agent)\n",
    "[4 ] 동반주(Companion)\n",
    "[5 ] 대상(Theme)\n",
    "[6 ] 장소(Location)\n",
    "[7 ] 도착점(Goal)\n",
    "[8 ] 결과상태(Final State)\n",
    "[9 ] 출발점(Source)\n",
    "[10] 도구(Instrument)\n",
    "[11] 영향주(Effector)\n",
    "[12] 기준치 (Criterion)\n",
    "[13] 방향(Direction)\n",
    "[14] 목적 (Purpose)\n",
    "[15] 내용(Content)\n",
    "\n",
    "\n",
    "출처: 박철수외(2005), 한국어 용언 사전 기술을 위한 의미역 설정의 기본 문제들\n",
    "\n",
    "\n",
    "예문) 철수가(행위주) 학교에(도착점) 가다. \n",
    "\n",
    "\n",
    "예문출처:김병수외(2006), 부트스트래핑 알고리즘을 이용한 한국어 격조사의 의미역 결정, 한국컴퓨터종합학술대회 논문집 Vol. 33, No. 1(B)"
   ]
  },
  {
   "cell_type": "markdown",
   "metadata": {
    "collapsed": true
   },
   "source": [
    " ##격일치 Syntactic Agreement \n",
    " \n",
    " 성, 수 격의 일치를 보이는 언어가 많은데 그 주에서 오늘은 영어에서의 수 일치를 살펴봅니다. \n",
    " 3인칭 단수(3rd person) 현재일 때 s가 붙네요. \n",
    "\n",
    "    단수         \t         복수\n",
    "1st per\tI run       \twe run\n",
    "2nd per\tyou run     \tyou run\n",
    "3rd per\the/she/it runs\tthey run\n",
    " "
   ]
  },
  {
   "cell_type": "markdown",
   "metadata": {},
   "source": [
    "약간 더 복잡한 문장으로  context free grammar 격일치를 encode해봅시다.\n",
    "*this dogs run 과  *these dog runs. 이런 문장이 나오면 안됩니다.\n",
    "\n",
    "\t\n",
    "S -> NP_SG VP_SG\n",
    "\n",
    "S -> NP_PL VP_PL\n",
    "\n",
    "NP_SG -> Det_SG N_SG\n",
    "\n",
    "NP_PL -> Det_PL N_PL\n",
    "\n",
    "VP_SG -> V_SG\n",
    "\n",
    "VP_PL -> V_PL\n",
    "\n",
    "\n",
    "Det_SG -> 'this'\n",
    "\n",
    "Det_PL -> 'these'\n",
    "\n",
    "N_SG -> 'dog'\n",
    "\n",
    "N_PL -> 'dogs'\n",
    "\n",
    "V_SG -> 'runs'\n",
    "\n",
    "V_PL -> 'run'"
   ]
  },
  {
   "cell_type": "markdown",
   "metadata": {
    "collapsed": true
   },
   "source": [
    "####참고: SG(singular),   PL(plural)"
   ]
  },
  {
   "cell_type": "markdown",
   "metadata": {
    "collapsed": true
   },
   "source": [
    "##1.2  특성과 제약 (Using Attributes and Constraints)"
   ]
  },
  {
   "cell_type": "raw",
   "metadata": {
    "collapsed": false
   },
   "source": [
    "nltk.data.show_cfg('grammars/book_grammars/feat0.fcfg')\n",
    "% start S\n",
    "# ###################\n",
    "# Grammar Productions\n",
    "# ###################\n",
    "# S expansion productions\n",
    "S -> NP[NUM=?n] VP[NUM=?n]\n",
    "# NP expansion productions\n",
    "NP[NUM=?n] -> PropN[NUM=?n]\n",
    "NP[NUM=?n] -> Det[NUM=?n] N[NUM=?n]\n",
    "NP[NUM=pl] -> N[NUM=pl]\n",
    "# VP expansion productions\n",
    "VP[TENSE=?t, NUM=?n] -> IV[TENSE=?t, NUM=?n]\n",
    "VP[TENSE=?t, NUM=?n] -> TV[TENSE=?t, NUM=?n] NP\n",
    "# ###################\n",
    "# Lexical Productions\n",
    "# ###################\n",
    "Det[NUM=sg] -> 'this' | 'every'\n",
    "Det[NUM=pl] -> 'these' | 'all'\n",
    "Det -> 'the' | 'some' | 'several'\n",
    "PropN[NUM=sg]-> 'Kim' | 'Jody'\n",
    "N[NUM=sg] -> 'dog' | 'girl' | 'car' | 'child'\n",
    "N[NUM=pl] -> 'dogs' | 'girls' | 'cars' | 'children'\n",
    "IV[TENSE=pres,  NUM=sg] -> 'disappears' | 'walks'\n",
    "TV[TENSE=pres, NUM=sg] -> 'sees' | 'likes'\n",
    "IV[TENSE=pres,  NUM=pl] -> 'disappear' | 'walk'\n",
    "TV[TENSE=pres, NUM=pl] -> 'see' | 'like'\n",
    "\n",
    "Figure 9.1: Example Feature based Grammar"
   ]
  },
  {
   "cell_type": "markdown",
   "metadata": {
    "collapsed": true
   },
   "source": [
    "<img src=\"http://www.nltk.org/book_1ed/tree_images/ch09-tree-1.png\" width=\"200\"><BR>\n",
    "<img src=\"http://www.nltk.org/book_1ed/tree_images/ch09-tree-2.png\" width=\"200\"><BR>\n",
    "<img src=\"http://www.nltk.org/book_1ed/tree_images/ch09-tree-3.png\" width=\"200\"><BR>\n",
    "<img src=\"http://www.nltk.org/book_1ed/tree_images/ch09-tree-3.png\" width=\"200\"><BR>"
   ]
  },
  {
   "cell_type": "markdown",
   "metadata": {},
   "source": [
    "####참고: \n",
    "수식관계 :Determiner한정사(명사 앞에 붙는 the, some, my 등과 같은 말들),\n",
    "수number: Singular단수,Plural 복수\n"
   ]
  },
  {
   "cell_type": "markdown",
   "metadata": {},
   "source": [
    "subtrees를 표시하고 Fail 도 표시 가능:"
   ]
  },
  {
   "cell_type": "markdown",
   "metadata": {},
   "source": [
    "<img src=\"http://www.nltk.org/book/tree_images/ch09-tree-5.png\" width=\"200\"><BR>\n",
    "<img src=\"http://www.nltk.org/book/tree_images/ch09-tree-7.png\" width=\"200\"><BR>"
   ]
  },
  {
   "cell_type": "markdown",
   "metadata": {
    "collapsed": true
   },
   "source": [
    "<img src=\"http://www.nltk.org/book/tree_images/ch09-tree-9.png\" width=\"400\"><BR>"
   ]
  },
  {
   "cell_type": "markdown",
   "metadata": {},
   "source": [
    "한정사(determiner)도 이와 같이 처리할 수 있다.\n",
    "Det[NUM=sg] -> 'the' | 'some' | 'any'\n",
    "Det[NUM=pl] -> 'the' | 'some' | 'any'\n",
    "Det[NUM=?n] -> 'the' | 'some' | 'any'"
   ]
  },
  {
   "cell_type": "raw",
   "metadata": {
    "collapsed": true
   },
   "source": [
    "tokens = 'Kim likes children'.split()\n",
    "from nltk import load_parser [1]\n",
    "cp = load_parser('grammars/book_grammars/feat0.fcfg', trace=2)  [2]\n",
    "trees = cp.nbest_parse(tokens)\n",
    "|.Kim .like.chil.|\n",
    "Feature Bottom Up Predict Combine Rule:\n",
    "|[----]    .    .| [0:1] PropN[NUM='sg'] -> 'Kim' *\n",
    "Feature Bottom Up Predict Combine Rule:\n",
    "|[----]    .    .| [0:1] NP[NUM='sg'] -> PropN[NUM='sg'] *\n",
    "Feature Bottom Up Predict Combine Rule:\n",
    "|[---->    .    .| [0:1] S[] -> NP[NUM=?n] * VP[NUM=?n] {?n: 'sg'}\n",
    "Feature Bottom Up Predict Combine Rule:\n",
    "|.    [----]    .| [1:2] TV[NUM='sg', TENSE='pres'] -> 'likes' *\n",
    "Feature Bottom Up Predict Combine Rule:\n",
    "|.    [---->    .| [1:2] VP[NUM=?n, TENSE=?t] -> TV[NUM=?n, TENSE=?t] * NP[] {?n: 'sg', ?t: 'pres'}\n",
    "Feature Bottom Up Predict Combine Rule:\n",
    "|.    .    [----]| [2:3] N[NUM='pl'] -> 'children' *\n",
    "Feature Bottom Up Predict Combine Rule:\n",
    "|.    .    [----]| [2:3] NP[NUM='pl'] -> N[NUM='pl'] *\n",
    "Feature Bottom Up Predict Combine Rule:\n",
    "|.    .    [---->| [2:3] S[] -> NP[NUM=?n] * VP[NUM=?n] {?n: 'pl'}\n",
    "Feature Single Edge Fundamental Rule:\n",
    "|.    [---------]| [1:3] VP[NUM='sg', TENSE='pres'] -> TV[NUM='sg', TENSE='pres'] NP[] *\n",
    "Feature Single Edge Fundamental Rule:\n",
    "|[==============]| [0:3] S[] -> NP[NUM='sg'] VP[NUM='sg'] *"
   ]
  },
  {
   "cell_type": "code",
   "execution_count": 57,
   "metadata": {
    "collapsed": false
   },
   "outputs": [
    {
     "name": "stdout",
     "output_type": "stream",
     "text": [
      "|.Kim .like.chil.|\n",
      "Leaf Init Rule:\n",
      "|[----]    .    .| [0:1] 'Kim'\n",
      "|.    [----]    .| [1:2] 'likes'\n",
      "|.    .    [----]| [2:3] 'children'\n",
      "Feature Bottom Up Predict Combine Rule:\n",
      "|[----]    .    .| [0:1] PropN[NUM='sg'] -> 'Kim' *\n",
      "Feature Bottom Up Predict Combine Rule:\n",
      "|[----]    .    .| [0:1] NP[NUM='sg'] -> PropN[NUM='sg'] *\n",
      "Feature Bottom Up Predict Combine Rule:\n",
      "|[---->    .    .| [0:1] S[] -> NP[NUM=?n] * VP[NUM=?n] {?n: u'sg'}\n",
      "Feature Bottom Up Predict Combine Rule:\n",
      "|.    [----]    .| [1:2] TV[NUM='sg', TENSE='pres'] -> 'likes' *\n",
      "Feature Bottom Up Predict Combine Rule:\n",
      "|.    [---->    .| [1:2] VP[NUM=?n, TENSE=?t] -> TV[NUM=?n, TENSE=?t] * NP[] {?n: u'sg', ?t: u'pres'}\n",
      "Feature Bottom Up Predict Combine Rule:\n",
      "|.    .    [----]| [2:3] N[NUM='pl'] -> 'children' *\n",
      "Feature Bottom Up Predict Combine Rule:\n",
      "|.    .    [----]| [2:3] NP[NUM='pl'] -> N[NUM='pl'] *\n",
      "Feature Bottom Up Predict Combine Rule:\n",
      "|.    .    [---->| [2:3] S[] -> NP[NUM=?n] * VP[NUM=?n] {?n: u'pl'}\n",
      "Feature Single Edge Fundamental Rule:\n",
      "|.    [---------]| [1:3] VP[NUM='sg', TENSE='pres'] -> TV[NUM='sg', TENSE='pres'] NP[] *\n",
      "Feature Single Edge Fundamental Rule:\n",
      "|[==============]| [0:3] S[] -> NP[NUM='sg'] VP[NUM='sg'] *\n",
      "(S[]\n",
      "  (NP[NUM='sg'] (PropN[NUM='sg'] Kim))\n",
      "  (VP[NUM='sg', TENSE='pres']\n",
      "    (TV[NUM='sg', TENSE='pres'] likes)\n",
      "    (NP[NUM='pl'] (N[NUM='pl'] children))))\n"
     ]
    }
   ],
   "source": [
    "tokens = 'Kim likes children'.split()\n",
    "from nltk import load_parser #[1]\n",
    "cp = load_parser('grammars/book_grammars/feat0.fcfg', trace=2)  #[2]\n",
    "for tree in cp.parse(tokens):\n",
    "    print(tree)"
   ]
  },
  {
   "cell_type": "raw",
   "metadata": {
    "collapsed": true
   },
   "source": [
    "for tree in trees: print(tree)\n",
    "(S[]\n",
    "  (NP[NUM='sg'] (PropN[NUM='sg'] Kim))\n",
    "  (VP[NUM='sg', TENSE='pres']\n",
    "    (TV[NUM='sg', TENSE='pres'] likes)\n",
    "    (NP[NUM='pl'] (N[NUM='pl'] children))))"
   ]
  },
  {
   "cell_type": "markdown",
   "metadata": {},
   "source": [
    "##1.3 용어"
   ]
  },
  {
   "cell_type": "raw",
   "metadata": {},
   "source": [
    "(15)\n",
    "V[TENSE=pres, +AUX] -> 'can'\n",
    "V[TENSE=pres, +AUX] -> 'may'\n",
    "\n",
    "V[TENSE=pres, -AUX] -> 'walks'\n",
    "V[TENSE=pres, -AUX] -> 'likes'\n"
   ]
  },
  {
   "cell_type": "raw",
   "metadata": {},
   "source": [
    "(16)\n",
    "[POS = N           ]\n",
    "[                  ]\n",
    "[AGR = [PER = 3   ]]\n",
    "[      [NUM = pl  ]]\n",
    "[      [GND = fem ]]\n"
   ]
  },
  {
   "cell_type": "markdown",
   "metadata": {},
   "source": [
    "<img src=http://www.nltk.org/images/avm1.png =\"200\"><BR>\n",
    "Figure 1.3: Rendering a Feature Structure as an Attribute Value Matrix"
   ]
  },
  {
   "cell_type": "markdown",
   "metadata": {},
   "source": [
    "###9.2   Processing Feature Structures"
   ]
  },
  {
   "cell_type": "markdown",
   "metadata": {},
   "source": [
    "Feature structures:FeatStruct(),  Atomic feature values: strings or integers."
   ]
  },
  {
   "cell_type": "code",
   "execution_count": 58,
   "metadata": {
    "collapsed": false
   },
   "outputs": [
    {
     "name": "stdout",
     "output_type": "stream",
     "text": [
      "[ NUM   = 'sg'   ]\n",
      "[ TENSE = 'past' ]\n"
     ]
    }
   ],
   "source": [
    "fs1 = nltk.FeatStruct(TENSE='past', NUM='sg')\n",
    "print fs1"
   ]
  },
  {
   "cell_type": "raw",
   "metadata": {},
   "source": [
    "feature structure는 일반적인 방법으로 indexing한 value에 접근하는 사전 같은 것이다."
   ]
  },
  {
   "cell_type": "code",
   "execution_count": 59,
   "metadata": {
    "collapsed": false
   },
   "outputs": [
    {
     "name": "stdout",
     "output_type": "stream",
     "text": [
      "fem\n"
     ]
    }
   ],
   "source": [
    "fs1 = nltk.FeatStruct(PER=3, NUM='pl', GND='fem')\n",
    "print fs1['GND']\n",
    "fs1['CASE'] = 'acc'"
   ]
  },
  {
   "cell_type": "markdown",
   "metadata": {
    "collapsed": true
   },
   "source": [
    "복잡한 value에 대해서도 feature structures 정의할 수 있다. "
   ]
  },
  {
   "cell_type": "code",
   "execution_count": 60,
   "metadata": {
    "collapsed": false
   },
   "outputs": [
    {
     "name": "stdout",
     "output_type": "stream",
     "text": [
      "[       [ CASE = 'acc' ] ]\n",
      "[ AGR = [ GND  = 'fem' ] ]\n",
      "[       [ NUM  = 'pl'  ] ]\n",
      "[       [ PER  = 3     ] ]\n",
      "[                        ]\n",
      "[ POS = 'N'              ]\n"
     ]
    }
   ],
   "source": [
    "fs2 = nltk.FeatStruct(POS='N', AGR=fs1)\n",
    "print fs2"
   ]
  },
  {
   "cell_type": "code",
   "execution_count": 61,
   "metadata": {
    "collapsed": false
   },
   "outputs": [
    {
     "name": "stdout",
     "output_type": "stream",
     "text": [
      "[ CASE = 'acc' ]\n",
      "[ GND  = 'fem' ]\n",
      "[ NUM  = 'pl'  ]\n",
      "[ PER  = 3     ]\n"
     ]
    }
   ],
   "source": [
    "print fs2['AGR']"
   ]
  },
  {
   "cell_type": "code",
   "execution_count": 62,
   "metadata": {
    "collapsed": false
   },
   "outputs": [
    {
     "name": "stdout",
     "output_type": "stream",
     "text": [
      "3\n"
     ]
    }
   ],
   "source": [
    "print fs2['AGR']['PER']"
   ]
  },
  {
   "cell_type": "markdown",
   "metadata": {},
   "source": [
    "다른 방법으로는 bracketed string을 이용하여 feature=value가 쌍으로 할 수도 있다. "
   ]
  },
  {
   "cell_type": "code",
   "execution_count": 63,
   "metadata": {
    "collapsed": false
   },
   "outputs": [
    {
     "name": "stdout",
     "output_type": "stream",
     "text": [
      "[       [ GND = 'fem' ] ]\n",
      "[ AGR = [ NUM = 'pl'  ] ]\n",
      "[       [ PER = 3     ] ]\n",
      "[                       ]\n",
      "[ POS = 'N'             ]\n"
     ]
    }
   ],
   "source": [
    " print(nltk.FeatStruct(\"[POS='N', AGR=[PER=3, NUM='pl', GND='fem']]\"))"
   ]
  },
  {
   "cell_type": "markdown",
   "metadata": {},
   "source": [
    "여기서 잠깐 쉬어가는 류 파크칼의 김씨 찾기 찾기\n",
    "\n",
    "<img src=\"http://image.cine21.com/cine21/poster/2010/1206/M0010005__.JPG\" width=\"300\"><BR>"
   ]
  },
  {
   "cell_type": "code",
   "execution_count": 64,
   "metadata": {
    "collapsed": false
   },
   "outputs": [
    {
     "name": "stdout",
     "output_type": "stream",
     "text": [
      "[ age   = 33               ]\n",
      "[ name  = 'Lee'            ]\n",
      "[ telno = '01 27 86 42 96' ]\n"
     ]
    }
   ],
   "source": [
    "print nltk.FeatStruct(name='Lee', telno='01 27 86 42 96', age=33)"
   ]
  },
  {
   "cell_type": "markdown",
   "metadata": {},
   "source": [
    "<img src= \"http://www.nltk.org/images/dag01.png\" width=\"300\"><BR>\n",
    "<img src= \"http://www.nltk.org/images/dag02.png\" width=\"300\"><BR>"
   ]
  },
  {
   "cell_type": "markdown",
   "metadata": {},
   "source": [
    "<img src= \"http://www.nltk.org/images/dag04.png\" width=\"500\"><BR>\n",
    "<img src= \"http://www.nltk.org/images/dag03.png\" width=\"500\"><BR>"
   ]
  },
  {
   "cell_type": "code",
   "execution_count": 65,
   "metadata": {
    "collapsed": false
   },
   "outputs": [
    {
     "name": "stdout",
     "output_type": "stream",
     "text": [
      "[ ADDRESS = (1) [ NUMBER = 74           ] ]\n",
      "[               [ STREET = 'rue Pascal' ] ]\n",
      "[                                         ]\n",
      "[ NAME    = 'Lee'                         ]\n",
      "[                                         ]\n",
      "[ SPOUSE  = [ ADDRESS -> (1)  ]           ]\n",
      "[           [ NAME    = 'Kim' ]           ]\n"
     ]
    }
   ],
   "source": [
    "print nltk.FeatStruct(\"\"\"[NAME='Lee', ADDRESS=(1)[NUMBER=74, STREET='rue Pascal'],\n",
    "                         SPOUSE=[NAME='Kim', ADDRESS->(1)]]\"\"\")"
   ]
  },
  {
   "cell_type": "code",
   "execution_count": 66,
   "metadata": {
    "collapsed": false
   },
   "outputs": [
    {
     "name": "stdout",
     "output_type": "stream",
     "text": [
      "[ A = 'a'             ]\n",
      "[                     ]\n",
      "[ B = (1) [ C = 'c' ] ]\n",
      "[                     ]\n",
      "[ D -> (1)            ]\n",
      "[ E -> (1)            ]\n"
     ]
    }
   ],
   "source": [
    "print nltk.FeatStruct(\"[A='a', B=(1)[C='c'], D->(1), E->(1)]\")"
   ]
  },
  {
   "cell_type": "markdown",
   "metadata": {},
   "source": [
    "##2.1 통합과 단일화"
   ]
  },
  {
   "cell_type": "markdown",
   "metadata": {},
   "source": [
    "a.[NUMBER = 74]"
   ]
  },
  {
   "cell_type": "markdown",
   "metadata": {},
   "source": [
    "<img src=\"http://www.nltk.org/images/dag04-1.png\" width=\"300\"><BR>"
   ]
  },
  {
   "cell_type": "markdown",
   "metadata": {},
   "source": [
    "b.[NUMBER = 74          ]\n",
    "  [STREET = 'rue Pascal']"
   ]
  },
  {
   "cell_type": "markdown",
   "metadata": {},
   "source": [
    "<img src=\"http://www.nltk.org/images/dag04-2.png\" width=\"100\"><BR>"
   ]
  },
  {
   "cell_type": "markdown",
   "metadata": {},
   "source": [
    "c.[NUMBER = 74          ]\n",
    "  [STREET = 'rue Pascal']\n",
    "  [CITY = 'Paris'       ]"
   ]
  },
  {
   "cell_type": "markdown",
   "metadata": {},
   "source": [
    "<img src=\"http://www.nltk.org/images/dag04-3.png\" width=\"300\"><BR>"
   ]
  },
  {
   "cell_type": "markdown",
   "metadata": {},
   "source": [
    "unify() method를 사용해서 두 개의 feature 합침"
   ]
  },
  {
   "cell_type": "code",
   "execution_count": 67,
   "metadata": {
    "collapsed": false
   },
   "outputs": [
    {
     "name": "stdout",
     "output_type": "stream",
     "text": [
      "[ CITY   = 'Paris'      ]\n",
      "[ NUMBER = 74           ]\n",
      "[ STREET = 'rue Pascal' ]\n"
     ]
    }
   ],
   "source": [
    "fs1 = nltk.FeatStruct(NUMBER=74, STREET='rue Pascal')\n",
    "fs2 = nltk.FeatStruct(CITY='Paris')\n",
    "print fs1.unify(fs2)"
   ]
  },
  {
   "cell_type": "code",
   "execution_count": 68,
   "metadata": {
    "collapsed": false
   },
   "outputs": [
    {
     "name": "stdout",
     "output_type": "stream",
     "text": [
      "[ CITY   = 'Paris'      ]\n",
      "[ NUMBER = 74           ]\n",
      "[ STREET = 'rue Pascal' ]\n"
     ]
    }
   ],
   "source": [
    "print fs2.unify(fs1)"
   ]
  },
  {
   "cell_type": "markdown",
   "metadata": {},
   "source": [
    "Unification between FS0 and FS1가 path를 나누어 쓰기 때문에 생기는 재미 있는 현상 "
   ]
  },
  {
   "cell_type": "markdown",
   "metadata": {
    "collapsed": true
   },
   "source": [
    "structure-sharin에서의 unification interacts"
   ]
  },
  {
   "cell_type": "code",
   "execution_count": 69,
   "metadata": {
    "collapsed": false
   },
   "outputs": [
    {
     "name": "stdout",
     "output_type": "stream",
     "text": [
      "[ ADDRESS = [ NUMBER = 74           ]               ]\n",
      "[           [ STREET = 'rue Pascal' ]               ]\n",
      "[                                                   ]\n",
      "[ NAME    = 'Lee'                                   ]\n",
      "[                                                   ]\n",
      "[           [ ADDRESS = [ NUMBER = 74           ] ] ]\n",
      "[ SPOUSE  = [           [ STREET = 'rue Pascal' ] ] ]\n",
      "[           [                                     ] ]\n",
      "[           [ NAME    = 'Kim'                     ] ]\n"
     ]
    }
   ],
   "source": [
    "fs0 = nltk.FeatStruct(\"\"\"[NAME=Lee,\n",
    "                          ADDRESS=[NUMBER=74,\n",
    "                                   STREET='rue Pascal'],\n",
    "                          SPOUSE= [NAME=Kim,\n",
    "                                   ADDRESS=[NUMBER=74,\n",
    "                                            STREET='rue Pascal']]]\"\"\")\n",
    "print fs0"
   ]
  },
  {
   "cell_type": "code",
   "execution_count": 70,
   "metadata": {
    "collapsed": false
   },
   "outputs": [
    {
     "name": "stdout",
     "output_type": "stream",
     "text": [
      "[ ADDRESS = [ NUMBER = 74           ]               ]\n",
      "[           [ STREET = 'rue Pascal' ]               ]\n",
      "[                                                   ]\n",
      "[ NAME    = 'Lee'                                   ]\n",
      "[                                                   ]\n",
      "[           [           [ CITY   = 'Paris'      ] ] ]\n",
      "[           [ ADDRESS = [ NUMBER = 74           ] ] ]\n",
      "[ SPOUSE  = [           [ STREET = 'rue Pascal' ] ] ]\n",
      "[           [                                     ] ]\n",
      "[           [ NAME    = 'Kim'                     ] ]\n"
     ]
    }
   ],
   "source": [
    "fs1 = nltk.FeatStruct(\"[SPOUSE = [ADDRESS = [CITY = Paris]]]\")\n",
    "print fs1.unify(fs0)"
   ]
  },
  {
   "cell_type": "markdown",
   "metadata": {},
   "source": [
    "두 사람의 주소가 같다. 이 부분은 어떻게 처리하는 것이 좋을까? "
   ]
  },
  {
   "cell_type": "code",
   "execution_count": 71,
   "metadata": {
    "collapsed": false
   },
   "outputs": [
    {
     "name": "stdout",
     "output_type": "stream",
     "text": [
      "[               [ CITY   = 'Paris'      ] ]\n",
      "[ ADDRESS = (1) [ NUMBER = 74           ] ]\n",
      "[               [ STREET = 'rue Pascal' ] ]\n",
      "[                                         ]\n",
      "[ NAME    = 'Lee'                         ]\n",
      "[                                         ]\n",
      "[ SPOUSE  = [ ADDRESS -> (1)  ]           ]\n",
      "[           [ NAME    = 'Kim' ]           ]\n"
     ]
    }
   ],
   "source": [
    "fs2 = nltk.FeatStruct(\"\"\"[NAME=Lee, ADDRESS=(1)[NUMBER=74, STREET='rue Pascal'],\n",
    "                          SPOUSE=[NAME=Kim, ADDRESS->(1)]]\"\"\")\n",
    "print fs1.unify(fs2)"
   ]
  },
  {
   "cell_type": "markdown",
   "metadata": {},
   "source": [
    " updating말고 copy로 처리하기! "
   ]
  },
  {
   "cell_type": "code",
   "execution_count": 72,
   "metadata": {
    "collapsed": false
   },
   "outputs": [
    {
     "name": "stdout",
     "output_type": "stream",
     "text": [
      "[ ADDRESS1 = ?x ]\n",
      "[ ADDRESS2 = ?x ]\n"
     ]
    }
   ],
   "source": [
    "fs1 = nltk.FeatStruct(\"[ADDRESS1=[NUMBER=74, STREET='rue Pascal']]\")\n",
    "fs2 = nltk.FeatStruct(\"[ADDRESS1=?x, ADDRESS2=?x]\")\n",
    "print fs2"
   ]
  },
  {
   "cell_type": "code",
   "execution_count": 73,
   "metadata": {
    "collapsed": false
   },
   "outputs": [
    {
     "name": "stdout",
     "output_type": "stream",
     "text": [
      "[ ADDRESS1 = (1) [ NUMBER = 74           ] ]\n",
      "[                [ STREET = 'rue Pascal' ] ]\n",
      "[                                          ]\n",
      "[ ADDRESS2 -> (1)                          ]\n"
     ]
    }
   ],
   "source": [
    "print fs2.unify(fs1)"
   ]
  },
  {
   "cell_type": "markdown",
   "metadata": {},
   "source": [
    "##9.3   Extending a Feature based Grammar"
   ]
  },
  {
   "cell_type": "code",
   "execution_count": 74,
   "metadata": {
    "collapsed": true
   },
   "outputs": [],
   "source": [
    "##3,1 하위 범주화 Subcategorization"
   ]
  },
  {
   "cell_type": "markdown",
   "metadata": {},
   "source": [
    "(27)VP -> IV\n",
    "    VP -> TV NP"
   ]
  },
  {
   "cell_type": "raw",
   "metadata": {},
   "source": [
    "# Generalized Phrase Structure Grammar (GPSG): SUBCAT와  intrans, trans 사용\n",
    "\n",
    "(28)\t\t\n",
    "VP[TENSE=?t, NUM=?n] -> V[SUBCAT=intrans, TENSE=?t, NUM=?n]\n",
    "VP[TENSE=?t, NUM=?n] -> V[SUBCAT=trans, TENSE=?t, NUM=?n] NP\n",
    "VP[TENSE=?t, NUM=?n] -> V[SUBCAT=clause, TENSE=?t, NUM=?n] SBar\n",
    "\n",
    "V[SUBCAT=intrans, TENSE=pres, NUM=sg] -> 'disappears' | 'walks'\n",
    "V[SUBCAT=trans, TENSE=pres, NUM=sg] -> 'sees' | 'likes'\n",
    "V[SUBCAT=clause, TENSE=pres, NUM=sg] -> 'says' | 'claims'\n",
    "\n",
    "V[SUBCAT=intrans, TENSE=pres, NUM=pl] -> 'disappear' | 'walk'\n",
    "V[SUBCAT=trans, TENSE=pres, NUM=pl] -> 'see' | 'like'\n",
    "V[SUBCAT=clause, TENSE=pres, NUM=pl] -> 'say' | 'claim'\n",
    "\n",
    "V[SUBCAT=intrans, TENSE=past, NUM=?n] -> 'disappeared' | 'walked'\n",
    "V[SUBCAT=trans, TENSE=past, NUM=?n] -> 'saw' | 'liked'\n",
    "V[SUBCAT=clause, TENSE=past, NUM=?n] -> 'said' | 'claimed'"
   ]
  },
  {
   "cell_type": "markdown",
   "metadata": {},
   "source": [
    "보충어 complement \n",
    "(29)\t\t\n",
    "SBar -> Comp S\n",
    "Comp -> 'that'"
   ]
  },
  {
   "cell_type": "markdown",
   "metadata": {},
   "source": [
    "<img src= \"http://www.nltk.org/book/tree_images/ch09-tree-10.png\"><BR>"
   ]
  },
  {
   "cell_type": "markdown",
   "metadata": {},
   "source": [
    "(31)\t\t\n",
    "V[SUBCAT=<NP, NP, PP>]\n"
   ]
  },
  {
   "cell_type": "markdown",
   "metadata": {},
   "source": [
    "(32)\t\t\n",
    "V[SUBCAT=<NP>]: phrasal level에서 구현해 보기 \n",
    "예) Kim put the book on the table."
   ]
  },
  {
   "cell_type": "markdown",
   "metadata": {},
   "source": [
    "<img src= \"http://www.nltk.org/book/tree_images/ch09-tree-11.png\"><BR>"
   ]
  },
  {
   "cell_type": "markdown",
   "metadata": {},
   "source": [
    "## 3.2   Heads Revisited"
   ]
  },
  {
   "cell_type": "markdown",
   "metadata": {},
   "source": [
    "드디어 X-bar Syntax"
   ]
  },
  {
   "cell_type": "markdown",
   "metadata": {},
   "source": [
    "<img src= \"http://www.nltk.org/book/tree_images/ch09-tree-13.png\"><BR>"
   ]
  },
  {
   "cell_type": "markdown",
   "metadata": {},
   "source": [
    "<img src= \"http://www.nltk.org/book/tree_images/ch09-tree-13.png\"><BR>"
   ]
  },
  {
   "cell_type": "markdown",
   "metadata": {},
   "source": [
    "<img src= \"http://www.nltk.org/book/tree_images/ch09-tree-14.png\"><BR>"
   ]
  },
  {
   "cell_type": "markdown",
   "metadata": {},
   "source": [
    "<img src= \"http://www.aistudy.co.kr/linguistics/images/%EC%B5%9C%EC%86%8C%EC%9D%B4%EB%A1%A0%EC%9D%98%20%EB%AC%B8%EB%B2%95%EC%B2%B4%EA%B3%84.gif\"><BR>"
   ]
  },
  {
   "cell_type": "markdown",
   "metadata": {},
   "source": [
    "<img src= \"https://i.ytimg.com/vi/uSpmf1Od_tY/hqdefault.jpg\"><BR>"
   ]
  },
  {
   "cell_type": "markdown",
   "metadata": {
    "collapsed": true
   },
   "source": [
    "3.3   Auxiliary Verbs and Inversion이나 명령문 의문문에서 주어 술어 도치도 모두 처리할 수 있다  \n",
    "생략합니다. 들어 주셔서 감사합니다. "
   ]
  },
  {
   "cell_type": "code",
   "execution_count": null,
   "metadata": {
    "collapsed": true
   },
   "outputs": [],
   "source": []
  }
 ],
 "metadata": {
  "kernelspec": {
   "display_name": "Python 2",
   "language": "python",
   "name": "python2"
  },
  "language_info": {
   "codemirror_mode": {
    "name": "ipython",
    "version": 2
   },
   "file_extension": ".py",
   "mimetype": "text/x-python",
   "name": "python",
   "nbconvert_exporter": "python",
   "pygments_lexer": "ipython2",
   "version": "2.7.6"
  }
 },
 "nbformat": 4,
 "nbformat_minor": 0
}
