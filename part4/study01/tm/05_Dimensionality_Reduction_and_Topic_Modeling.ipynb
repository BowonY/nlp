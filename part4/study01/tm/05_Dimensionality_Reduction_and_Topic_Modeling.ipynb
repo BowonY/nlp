{
 "cells": [
  {
   "cell_type": "markdown",
   "metadata": {},
   "source": [
    "# 5. Dimensionality Reduction and Topic Modeling"
   ]
  },
  {
   "cell_type": "markdown",
   "metadata": {},
   "source": [
    "# Contents"
   ]
  },
  {
   "cell_type": "markdown",
   "metadata": {},
   "source": [
    "1. Introduction\n",
    "2. Latent Semantic Indexin\n",
    "3. Topic Models and Dimension Reduction \n",
    "4. Interpretation and Evaluation\n",
    "5. Beyond Latent Dirichlet Allocation \n",
    "6. Conclusion"
   ]
  },
  {
   "cell_type": "markdown",
   "metadata": {},
   "source": [
    "# 1. Introduction"
   ]
  },
  {
   "cell_type": "markdown",
   "metadata": {},
   "source": [
    "* 1.1 The Relationship Between Clustering, Dimension Reduction and Topic Modeling\n",
    "* 1.2 Notation and Concepts "
   ]
  },
  {
   "cell_type": "markdown",
   "metadata": {},
   "source": [
    "## 1.1 The Relationship Between Clustering, Dimension Reduction and Topic Modeling"
   ]
  },
  {
   "cell_type": "markdown",
   "metadata": {},
   "source": [
    "## 1.2 Notation and Concepts "
   ]
  },
  {
   "cell_type": "markdown",
   "metadata": {},
   "source": [
    "* Multinomial distribution\n",
    "* Dirichlet distribution"
   ]
  },
  {
   "cell_type": "markdown",
   "metadata": {},
   "source": [
    "### Multinomial distribution"
   ]
  },
  {
   "cell_type": "markdown",
   "metadata": {},
   "source": [
    "### Dirichlet distribution"
   ]
  },
  {
   "cell_type": "markdown",
   "metadata": {},
   "source": [
    "<img src=\"figures/cap0.png\" />\n",
    "<img src=\"figures/cap1.png\" />\n",
    "<img src=\"figures/cap2.png\" />\n",
    "<img src=\"figures/cap3.png\" />\n",
    "<img src=\"figures/cap4.png\" />\n",
    "<img src=\"figures/cap5.png\" />\n",
    "<img src=\"figures/cap6.png\" />\n",
    "<img src=\"figures/cap7.png\" />\n",
    "<img src=\"figures/cap8.png\" />\n",
    "<img src=\"figures/cap9.png\" />\n",
    "<img src=\"figures/cap10.png\" />\n",
    "<img src=\"figures/cap11.png\" />\n",
    "<img src=\"figures/cap12.png\" />\n",
    "<img src=\"figures/cap13.png\" />\n",
    "<img src=\"figures/cap14.png\" />\n",
    "<img src=\"figures/cap15.png\" />\n",
    "<img src=\"figures/cap16.png\" />\n",
    "<img src=\"figures/cap17.png\" />\n",
    "<img src=\"figures/cap18.png\" />\n",
    "<img src=\"figures/cap19.png\" />\n",
    "<img src=\"figures/cap20.png\" />\n",
    "<img src=\"figures/cap21.png\" />\n",
    "<img src=\"figures/cap22.png\" />\n",
    "<img src=\"figures/cap23.png\" />\n",
    "<img src=\"figures/cap24.png\" />\n",
    "<img src=\"figures/cap25.png\" />\n",
    "<img src=\"figures/cap26.png\" />\n",
    "<img src=\"figures/cap27.png\" />\n",
    "<img src=\"figures/cap28.png\" />\n",
    "<img src=\"figures/cap29.png\" />\n",
    "<img src=\"figures/cap30.png\" />\n",
    "<img src=\"figures/cap31.png\" />\n",
    "<img src=\"figures/cap32.png\" />\n",
    "<img src=\"figures/cap33.png\" />\n",
    "<img src=\"figures/cap34.png\" />\n",
    "<img src=\"figures/cap35.png\" />\n",
    "<img src=\"figures/cap36.png\" />\n",
    "<img src=\"figures/cap37.png\" />\n",
    "<img src=\"figures/cap38.png\" />\n",
    "<img src=\"figures/cap39.png\" />\n",
    "<img src=\"figures/cap40.png\" />\n",
    "<img src=\"figures/cap41.png\" />\n",
    "<img src=\"figures/cap42.png\" />\n",
    "<img src=\"figures/cap43.png\" />\n",
    "<img src=\"figures/cap44.png\" />\n",
    "<img src=\"figures/cap45.png\" />\n",
    "<img src=\"figures/cap46.png\" />\n",
    "<img src=\"figures/cap47.png\" />\n",
    "<img src=\"figures/cap48.png\" />\n",
    "<img src=\"figures/cap49.png\" />\n",
    "<img src=\"figures/cap50.png\" />\n",
    "<img src=\"figures/cap51.png\" />\n",
    "<img src=\"figures/cap52.png\" />\n",
    "<img src=\"figures/cap53.png\" />\n",
    "<img src=\"figures/cap54.png\" />\n",
    "<img src=\"figures/cap55.png\" />\n",
    "<img src=\"figures/cap56.png\" />\n",
    "<img src=\"figures/cap57.png\" />\n",
    "<img src=\"figures/cap58.png\" />\n",
    "<img src=\"figures/cap59.png\" />\n",
    "<img src=\"figures/cap60.png\" />\n",
    "<img src=\"figures/cap61.png\" />\n",
    "<img src=\"figures/cap62.png\" />\n",
    "<img src=\"figures/cap63.png\" />\n",
    "<img src=\"figures/cap64.png\" />\n",
    "<img src=\"figures/cap65.png\" />\n",
    "<img src=\"figures/cap66.png\" />\n",
    "<img src=\"figures/cap67.png\" />\n",
    "<img src=\"figures/cap68.png\" />\n",
    "<img src=\"figures/cap69.png\" />\n",
    "<img src=\"figures/cap70.png\" />\n",
    "<img src=\"figures/cap71.png\" />\n",
    "<img src=\"figures/cap72.png\" />\n",
    "<img src=\"figures/cap73.png\" />\n",
    "<img src=\"figures/cap74.png\" />\n",
    "<img src=\"figures/cap75.png\" />\n",
    "<img src=\"figures/cap76.png\" />\n",
    "<img src=\"figures/cap77.png\" />\n",
    "<img src=\"figures/cap78.png\" />\n",
    "<img src=\"figures/cap79-0.png\" />\n",
    "<img src=\"figures/cap79.png\" />\n",
    "<img src=\"figures/cap80.png\" />\n",
    "<img src=\"figures/cap81.png\" />\n",
    "<img src=\"figures/cap82.png\" />\n",
    "<img src=\"figures/cap83.png\" />\n",
    "<img src=\"figures/cap84.png\" />\n",
    "<img src=\"figures/cap85.png\" />\n",
    "<img src=\"figures/cap86.png\" />\n",
    "<img src=\"figures/cap87.png\" />\n",
    "<img src=\"figures/cap88.png\" />\n",
    "<img src=\"figures/cap89.png\" />\n",
    "<img src=\"figures/cap90.png\" />\n",
    "<img src=\"figures/cap91.png\" />\n",
    "<img src=\"figures/cap92.png\" />\n",
    "<img src=\"figures/cap93.png\" />\n",
    "<img src=\"figures/cap94.png\" />\n",
    "<img src=\"figures/cap95.png\" />\n",
    "<img src=\"figures/cap96.png\" />\n",
    "<img src=\"figures/cap97.png\" />\n",
    "<img src=\"figures/cap98.png\" />\n",
    "<img src=\"figures/cap99.png\" />\n",
    "<img src=\"figures/cap100.png\" />\n",
    "<img src=\"figures/cap101.png\" />\n",
    "<img src=\"figures/cap102.png\" />\n",
    "<img src=\"figures/cap103.png\" />\n",
    "<img src=\"figures/cap104.png\" />\n",
    "<img src=\"figures/cap105.png\" />\n",
    "<img src=\"figures/cap106.png\" />\n",
    "<img src=\"figures/cap107.png\" />\n",
    "<img src=\"figures/cap108.png\" />\n",
    "<img src=\"figures/cap109.png\" />\n",
    "<img src=\"figures/cap110.png\" />\n",
    "<img src=\"figures/cap111.png\" />\n",
    "<img src=\"figures/cap112.png\" />\n",
    "<img src=\"figures/cap113.png\" />\n",
    "<img src=\"figures/cap114.png\" />\n",
    "<img src=\"figures/cap115.png\" />\n",
    "<img src=\"figures/cap116.png\" />\n",
    "<img src=\"figures/cap117.png\" />\n",
    "<img src=\"figures/cap118.png\" />\n",
    "<img src=\"figures/cap119.png\" />\n",
    "<img src=\"figures/cap120.png\" />\n",
    "<img src=\"figures/cap121.png\" />\n",
    "<img src=\"figures/cap122.png\" />\n",
    "<img src=\"figures/cap123.png\" />\n",
    "<img src=\"figures/cap124.png\" />\n",
    "<img src=\"figures/cap125.png\" />\n",
    "<img src=\"figures/cap126.png\" />\n",
    "<img src=\"figures/cap127.png\" />\n",
    "<img src=\"figures/cap128.png\" />\n",
    "<img src=\"figures/cap129.png\" />\n",
    "<img src=\"figures/cap130.png\" />\n",
    "<img src=\"figures/cap131.png\" />\n",
    "<img src=\"figures/cap132.png\" />\n",
    "<img src=\"figures/cap133.png\" />\n",
    "<img src=\"figures/cap134.png\" />\n",
    "<img src=\"figures/cap135.png\" />\n",
    "<img src=\"figures/cap136.png\" />\n",
    "<img src=\"figures/cap137.png\" />\n",
    "<img src=\"figures/cap138.png\" />\n",
    "<img src=\"figures/cap139.png\" />\n",
    "<img src=\"figures/cap140.png\" />\n",
    "<img src=\"figures/cap141.png\" />\n",
    "<img src=\"figures/cap142.png\" />\n",
    "<img src=\"figures/cap143.png\" />\n",
    "<img src=\"figures/cap144.png\" />\n",
    "<img src=\"figures/cap145.png\" />\n",
    "<img src=\"figures/cap146.png\" />\n",
    "<img src=\"figures/cap147.png\" />\n",
    "<img src=\"figures/cap148.png\" />\n",
    "<img src=\"figures/cap149.png\" />\n",
    "<img src=\"figures/cap150.png\" />"
   ]
  },
  {
   "cell_type": "markdown",
   "metadata": {},
   "source": [
    "# 2. Latent Semantic Indexin"
   ]
  },
  {
   "cell_type": "markdown",
   "metadata": {},
   "source": [
    "* 2.1 The Procedure of Latent Semantic Indexing \n",
    "* 2.2 Implementation Issues \n",
    "* 2.3 Analysis "
   ]
  },
  {
   "cell_type": "markdown",
   "metadata": {},
   "source": [
    "## 2.1 The Procedure of Latent Semantic Indexing "
   ]
  },
  {
   "cell_type": "markdown",
   "metadata": {},
   "source": [
    "* Information retrieval\n",
    "* Document similarity\n",
    "* Term similarity"
   ]
  },
  {
   "cell_type": "markdown",
   "metadata": {},
   "source": [
    "### Information retrieval"
   ]
  },
  {
   "cell_type": "markdown",
   "metadata": {},
   "source": [
    "### Document similarity"
   ]
  },
  {
   "cell_type": "markdown",
   "metadata": {},
   "source": [
    "### Term similarity"
   ]
  },
  {
   "cell_type": "markdown",
   "metadata": {},
   "source": [
    "## 2.2 Implementation Issues "
   ]
  },
  {
   "cell_type": "markdown",
   "metadata": {},
   "source": [
    "* 2.2.1 Term-Document Matrix Representation\n",
    "* 2.2.2 Computation\n",
    "* 2.2.3 Handling Changes"
   ]
  },
  {
   "cell_type": "markdown",
   "metadata": {},
   "source": [
    "### 2.2.1 Term-Document Matrix Representation"
   ]
  },
  {
   "cell_type": "markdown",
   "metadata": {},
   "source": [
    "### 2.2.2 Computation"
   ]
  },
  {
   "cell_type": "markdown",
   "metadata": {},
   "source": [
    "### 2.2.3 Handling Changes"
   ]
  },
  {
   "cell_type": "markdown",
   "metadata": {},
   "source": [
    "* Fold-in\n",
    "* Updating the semantic space"
   ]
  },
  {
   "cell_type": "markdown",
   "metadata": {},
   "source": [
    "#### Fold-in"
   ]
  },
  {
   "cell_type": "markdown",
   "metadata": {},
   "source": [
    "#### Updating the semantic space"
   ]
  },
  {
   "cell_type": "markdown",
   "metadata": {},
   "source": [
    "## 2.3 Analysis "
   ]
  },
  {
   "cell_type": "markdown",
   "metadata": {},
   "source": [
    "* Term context\n",
    "* Dimension of the latent semantic space\n",
    "* Probabilistic analysis"
   ]
  },
  {
   "cell_type": "markdown",
   "metadata": {},
   "source": [
    "### Term context"
   ]
  },
  {
   "cell_type": "markdown",
   "metadata": {},
   "source": [
    "### Dimension of the latent semantic space"
   ]
  },
  {
   "cell_type": "markdown",
   "metadata": {},
   "source": [
    "### Probabilistic analysis"
   ]
  },
  {
   "cell_type": "markdown",
   "metadata": {},
   "source": [
    "# 3. Topic Models and Dimension Reduction "
   ]
  },
  {
   "cell_type": "markdown",
   "metadata": {},
   "source": [
    "* 3.1 Probabilistic Latent Semantic Indexing \n",
    "* 3.2 Latent Dirichlet Allocation "
   ]
  },
  {
   "cell_type": "markdown",
   "metadata": {},
   "source": [
    "## 3.1 Probabilistic Latent Semantic Indexing  "
   ]
  },
  {
   "cell_type": "markdown",
   "metadata": {},
   "source": [
    "* Connection to LSI\n",
    "* 3.1.1 Algorithms\n",
    "* 3.1.2 Updating"
   ]
  },
  {
   "cell_type": "markdown",
   "metadata": {},
   "source": [
    "### Connection to LSI"
   ]
  },
  {
   "cell_type": "markdown",
   "metadata": {},
   "source": [
    "### 3.1.1 Algorithms"
   ]
  },
  {
   "cell_type": "markdown",
   "metadata": {},
   "source": [
    "### 3.1.2 Updating"
   ]
  },
  {
   "cell_type": "markdown",
   "metadata": {},
   "source": [
    "## 3.2 Latent Dirichlet Allocation"
   ]
  },
  {
   "cell_type": "markdown",
   "metadata": {},
   "source": [
    "* 3.2.1 Model\n",
    "* 3.2.2 Collapsed Gibbs\n",
    "* 3.2.3 Variational Approximation\n",
    "* 3.2.4 Implementations"
   ]
  },
  {
   "cell_type": "markdown",
   "metadata": {},
   "source": [
    "### 3.2.1 Model"
   ]
  },
  {
   "cell_type": "markdown",
   "metadata": {},
   "source": [
    "* Mechanism\n",
    "* Likelihood"
   ]
  },
  {
   "cell_type": "markdown",
   "metadata": {},
   "source": [
    "#### Mechanism"
   ]
  },
  {
   "cell_type": "markdown",
   "metadata": {},
   "source": [
    "#### Likelihood"
   ]
  },
  {
   "cell_type": "markdown",
   "metadata": {},
   "source": [
    "### 3.2.2 Collapsed Gibbs"
   ]
  },
  {
   "cell_type": "markdown",
   "metadata": {},
   "source": [
    "### 3.2.3 Variational Approximation"
   ]
  },
  {
   "cell_type": "markdown",
   "metadata": {},
   "source": [
    "* Variational EM for parameter estimation"
   ]
  },
  {
   "cell_type": "markdown",
   "metadata": {},
   "source": [
    "#### Variational EM for parameter estimation"
   ]
  },
  {
   "cell_type": "markdown",
   "metadata": {},
   "source": [
    "### 3.2.4 Implementations"
   ]
  },
  {
   "cell_type": "markdown",
   "metadata": {},
   "source": [
    "# 4. Interpretation and Evaluation"
   ]
  },
  {
   "cell_type": "markdown",
   "metadata": {},
   "source": [
    "* 4.1 Interpretation \n",
    "* 4.2 Evaluation \n",
    "* 4.3 Parameter Selection \n",
    "* 4.4 Dimension Reduction "
   ]
  },
  {
   "cell_type": "markdown",
   "metadata": {},
   "source": [
    "## 4.1 Interpretation "
   ]
  },
  {
   "cell_type": "markdown",
   "metadata": {},
   "source": [
    "## 4.2 Evaluation "
   ]
  },
  {
   "cell_type": "markdown",
   "metadata": {},
   "source": [
    "* Fit of test data\n",
    "* Application performance\n",
    "* Interpretability"
   ]
  },
  {
   "cell_type": "markdown",
   "metadata": {},
   "source": [
    "### Fit of test data"
   ]
  },
  {
   "cell_type": "markdown",
   "metadata": {},
   "source": [
    "### Application performance"
   ]
  },
  {
   "cell_type": "markdown",
   "metadata": {},
   "source": [
    "### Interpretability"
   ]
  },
  {
   "cell_type": "markdown",
   "metadata": {},
   "source": [
    "## 4.3 Parameter Selection "
   ]
  },
  {
   "cell_type": "markdown",
   "metadata": {},
   "source": [
    "## 4.4 Dimension Reduction "
   ]
  },
  {
   "cell_type": "markdown",
   "metadata": {},
   "source": [
    "# 5. Beyond Latent Dirichlet Allocation "
   ]
  },
  {
   "cell_type": "markdown",
   "metadata": {},
   "source": [
    "* 5.1 Scalability \n",
    "* 5.2 Dynamic Data \n",
    "* 5.3 Networked Data \n",
    "* 5.4 Adapting Topic Models to Applications"
   ]
  },
  {
   "cell_type": "markdown",
   "metadata": {},
   "source": [
    "## 5.1 Scalability "
   ]
  },
  {
   "cell_type": "markdown",
   "metadata": {},
   "source": [
    "## 5.2 Dynamic Data "
   ]
  },
  {
   "cell_type": "markdown",
   "metadata": {},
   "source": [
    "## 5.3 Networked Data "
   ]
  },
  {
   "cell_type": "markdown",
   "metadata": {},
   "source": [
    "## 5.4 Adapting Topic Models to Applications"
   ]
  },
  {
   "cell_type": "markdown",
   "metadata": {},
   "source": [
    "# 6. Conclusion"
   ]
  }
 ],
 "metadata": {
  "kernelspec": {
   "display_name": "R",
   "language": "",
   "name": "ir"
  },
  "language_info": {
   "codemirror_mode": "r",
   "file_extension": ".r",
   "mimetype": "text/x-r-source",
   "name": "R",
   "pygments_lexer": "r",
   "version": "3.2.1"
  }
 },
 "nbformat": 4,
 "nbformat_minor": 0
}
