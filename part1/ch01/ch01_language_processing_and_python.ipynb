{
 "metadata": {
  "name": "",
  "signature": "sha256:d842b42883612147d057aa5ca0225d7ada9de241d9e4a4e17991644e922e3e40"
 },
 "nbformat": 3,
 "nbformat_minor": 0,
 "worksheets": [
  {
   "cells": [
    {
     "cell_type": "heading",
     "level": 1,
     "metadata": {},
     "source": [
      "CHAPTER 1 Language Processing and Python"
     ]
    },
    {
     "cell_type": "heading",
     "level": 2,
     "metadata": {},
     "source": [
      "1.1 Computing with Language: Texts and Words"
     ]
    },
    {
     "cell_type": "heading",
     "level": 3,
     "metadata": {},
     "source": [
      "Getting Started with Python"
     ]
    },
    {
     "cell_type": "heading",
     "level": 3,
     "metadata": {},
     "source": [
      "Getting Started with NLTK"
     ]
    },
    {
     "cell_type": "code",
     "collapsed": false,
     "input": [
      "import nltk"
     ],
     "language": "python",
     "metadata": {},
     "outputs": [],
     "prompt_number": 1
    },
    {
     "cell_type": "code",
     "collapsed": false,
     "input": [
      "nltk.download()"
     ],
     "language": "python",
     "metadata": {},
     "outputs": [
      {
       "output_type": "stream",
       "stream": "stdout",
       "text": [
        "showing info http://nltk.github.com/nltk_data/\n"
       ]
      },
      {
       "metadata": {},
       "output_type": "pyout",
       "prompt_number": 4,
       "text": [
        "True"
       ]
      }
     ],
     "prompt_number": 4
    },
    {
     "cell_type": "markdown",
     "metadata": {},
     "source": [
      "<img src='./img/download.png'/>"
     ]
    },
    {
     "cell_type": "markdown",
     "metadata": {},
     "source": [
      "<img src='./img/download2.png'/>"
     ]
    },
    {
     "cell_type": "code",
     "collapsed": false,
     "input": [
      "from nltk.book import *"
     ],
     "language": "python",
     "metadata": {},
     "outputs": [
      {
       "output_type": "stream",
       "stream": "stdout",
       "text": [
        "*** Introductory Examples for the NLTK Book ***\n",
        "Loading text1, ..., text9 and sent1, ..., sent9\n",
        "Type the name of the text or sentence to view it.\n",
        "Type: 'texts()' or 'sents()' to list the materials.\n",
        "text1:"
       ]
      },
      {
       "output_type": "stream",
       "stream": "stdout",
       "text": [
        " Moby Dick by Herman Melville 1851\n",
        "text2:"
       ]
      },
      {
       "output_type": "stream",
       "stream": "stdout",
       "text": [
        " Sense and Sensibility by Jane Austen 1811\n",
        "text3:"
       ]
      },
      {
       "output_type": "stream",
       "stream": "stdout",
       "text": [
        " The Book of Genesis\n",
        "text4:"
       ]
      },
      {
       "output_type": "stream",
       "stream": "stdout",
       "text": [
        " Inaugural Address Corpus\n",
        "text5:"
       ]
      },
      {
       "output_type": "stream",
       "stream": "stdout",
       "text": [
        " Chat Corpus\n",
        "text6:"
       ]
      },
      {
       "output_type": "stream",
       "stream": "stdout",
       "text": [
        " Monty Python and the Holy Grail\n",
        "text7:"
       ]
      },
      {
       "output_type": "stream",
       "stream": "stdout",
       "text": [
        " Wall Street Journal\n",
        "text8: Personals Corpus\n",
        "text9:"
       ]
      },
      {
       "output_type": "stream",
       "stream": "stdout",
       "text": [
        " The Man Who Was Thursday by G . K . Chesterton 1908\n"
       ]
      }
     ],
     "prompt_number": 6
    },
    {
     "cell_type": "code",
     "collapsed": false,
     "input": [
      "text1"
     ],
     "language": "python",
     "metadata": {},
     "outputs": [
      {
       "metadata": {},
       "output_type": "pyout",
       "prompt_number": 7,
       "text": [
        "<Text: Moby Dick by Herman Melville 1851>"
       ]
      }
     ],
     "prompt_number": 7
    },
    {
     "cell_type": "code",
     "collapsed": false,
     "input": [
      "text2"
     ],
     "language": "python",
     "metadata": {},
     "outputs": [
      {
       "metadata": {},
       "output_type": "pyout",
       "prompt_number": 8,
       "text": [
        "<Text: Sense and Sensibility by Jane Austen 1811>"
       ]
      }
     ],
     "prompt_number": 8
    },
    {
     "cell_type": "heading",
     "level": 3,
     "metadata": {},
     "source": [
      "Searching Text"
     ]
    },
    {
     "cell_type": "code",
     "collapsed": false,
     "input": [
      "text1.concordance(\"monstrous\")"
     ],
     "language": "python",
     "metadata": {},
     "outputs": [
      {
       "output_type": "stream",
       "stream": "stdout",
       "text": [
        "Displaying 11 of 11 matches:\n",
        "ong the former , one was of a most monstrous size . ... This came towards us , \n",
        "ON OF THE PSALMS . \" Touching that monstrous bulk of the whale or ork we have r\n",
        "ll over with a heathenish array of monstrous clubs and spears . Some were thick\n",
        "d as you gazed , and wondered what monstrous cannibal and savage could ever hav\n",
        "that has survived the flood ; most monstrous and most mountainous ! That Himmal\n",
        "they might scout at Moby Dick as a monstrous fable , or still worse and more de\n",
        "th of Radney .'\" CHAPTER 55 Of the Monstrous Pictures of Whales . I shall ere l\n",
        "ing Scenes . In connexion with the monstrous pictures of whales , I am strongly\n",
        "ere to enter upon those still more monstrous stories of them which are to be fo\n",
        "ght have been rummaged out of this monstrous cabinet there is no telling . But \n",
        "of Whale - Bones ; for Whales of a monstrous size are oftentimes cast up dead u\n"
       ]
      }
     ],
     "prompt_number": 9
    },
    {
     "cell_type": "code",
     "collapsed": false,
     "input": [
      "text1.similar(\"monstrous\")"
     ],
     "language": "python",
     "metadata": {},
     "outputs": [
      {
       "output_type": "stream",
       "stream": "stdout",
       "text": [
        "imperial subtly impalpable pitiable curious abundant perilous\n",
        "trustworthy untoward singular lamentable few determined maddens\n",
        "horrible tyrannical lazy mystifying christian exasperate\n"
       ]
      }
     ],
     "prompt_number": 10
    },
    {
     "cell_type": "code",
     "collapsed": false,
     "input": [
      "text2.common_contexts([\"monstrous\", \"very\"])"
     ],
     "language": "python",
     "metadata": {},
     "outputs": [
      {
       "output_type": "stream",
       "stream": "stdout",
       "text": [
        "a_pretty is_pretty a_lucky am_glad be_glad\n"
       ]
      }
     ],
     "prompt_number": 11
    },
    {
     "cell_type": "code",
     "collapsed": false,
     "input": [
      "text4.dispersion_plot([\"citizens\", \"democracy\", \"freedom\", \"duties\", \"America\"])"
     ],
     "language": "python",
     "metadata": {},
     "outputs": [
      {
       "metadata": {},
       "output_type": "display_data",
       "png": "[encoded data removed]",
       "text": [
        "<matplotlib.figure.Figure at 0x10cb60e50>"
       ]
      }
     ],
     "prompt_number": 12
    },
    {
     "cell_type": "heading",
     "level": 3,
     "metadata": {},
     "source": [
      "Counting Vocabulary"
     ]
    },
    {
     "cell_type": "code",
     "collapsed": false,
     "input": [
      "len(text3)"
     ],
     "language": "python",
     "metadata": {},
     "outputs": [
      {
       "metadata": {},
       "output_type": "pyout",
       "prompt_number": 13,
       "text": [
        "44764"
       ]
      }
     ],
     "prompt_number": 13
    },
    {
     "cell_type": "code",
     "collapsed": false,
     "input": [
      "sorted(set(text3))"
     ],
     "language": "python",
     "metadata": {},
     "outputs": [
      {
       "metadata": {},
       "output_type": "pyout",
       "prompt_number": 14,
       "text": [
        "[u'!',\n",
        " u\"'\",\n",
        " u'(',\n",
        " u')',\n",
        " u',',\n",
        " u',)',\n",
        " u'.',\n",
        " u'.)',\n",
        " u':',\n",
        " u';',\n",
        " u';)',\n",
        " u'?',\n",
        " u'?)',\n",
        " u'A',\n",
        " u'Abel',\n",
        " u'Abelmizraim',\n",
        " u'Abidah',\n",
        " u'Abide',\n",
        " u'Abimael',\n",
        " u'Abimelech',\n",
        " u'Abr',\n",
        " u'Abrah',\n",
        " u'Abraham',\n",
        " u'Abram',\n",
        " u'Accad',\n",
        " u'Achbor',\n",
        " u'Adah',\n",
        " u'Adam',\n",
        " u'Adbeel',\n",
        " u'Admah',\n",
        " u'Adullamite',\n",
        " u'After',\n",
        " u'Aholibamah',\n",
        " u'Ahuzzath',\n",
        " u'Ajah',\n",
        " u'Akan',\n",
        " u'All',\n",
        " u'Allonbachuth',\n",
        " u'Almighty',\n",
        " u'Almodad',\n",
        " u'Also',\n",
        " u'Alvah',\n",
        " u'Alvan',\n",
        " u'Am',\n",
        " u'Amal',\n",
        " u'Amalek',\n",
        " u'Amalekites',\n",
        " u'Ammon',\n",
        " u'Amorite',\n",
        " u'Amorites',\n",
        " u'Amraphel',\n",
        " u'An',\n",
        " u'Anah',\n",
        " u'Anamim',\n",
        " u'And',\n",
        " u'Aner',\n",
        " u'Angel',\n",
        " u'Appoint',\n",
        " u'Aram',\n",
        " u'Aran',\n",
        " u'Ararat',\n",
        " u'Arbah',\n",
        " u'Ard',\n",
        " u'Are',\n",
        " u'Areli',\n",
        " u'Arioch',\n",
        " u'Arise',\n",
        " u'Arkite',\n",
        " u'Arodi',\n",
        " u'Arphaxad',\n",
        " u'Art',\n",
        " u'Arvadite',\n",
        " u'As',\n",
        " u'Asenath',\n",
        " u'Ashbel',\n",
        " u'Asher',\n",
        " u'Ashkenaz',\n",
        " u'Ashteroth',\n",
        " u'Ask',\n",
        " u'Asshur',\n",
        " u'Asshurim',\n",
        " u'Assyr',\n",
        " u'Assyria',\n",
        " u'At',\n",
        " u'Atad',\n",
        " u'Avith',\n",
        " u'Baalhanan',\n",
        " u'Babel',\n",
        " u'Bashemath',\n",
        " u'Be',\n",
        " u'Because',\n",
        " u'Becher',\n",
        " u'Bedad',\n",
        " u'Beeri',\n",
        " u'Beerlahairoi',\n",
        " u'Beersheba',\n",
        " u'Behold',\n",
        " u'Bela',\n",
        " u'Belah',\n",
        " u'Benam',\n",
        " u'Benjamin',\n",
        " u'Beno',\n",
        " u'Beor',\n",
        " u'Bera',\n",
        " u'Bered',\n",
        " u'Beriah',\n",
        " u'Bethel',\n",
        " u'Bethlehem',\n",
        " u'Bethuel',\n",
        " u'Beware',\n",
        " u'Bilhah',\n",
        " u'Bilhan',\n",
        " u'Binding',\n",
        " u'Birsha',\n",
        " u'Bless',\n",
        " u'Blessed',\n",
        " u'Both',\n",
        " u'Bow',\n",
        " u'Bozrah',\n",
        " u'Bring',\n",
        " u'But',\n",
        " u'Buz',\n",
        " u'By',\n",
        " u'Cain',\n",
        " u'Cainan',\n",
        " u'Calah',\n",
        " u'Calneh',\n",
        " u'Can',\n",
        " u'Cana',\n",
        " u'Canaan',\n",
        " u'Canaanite',\n",
        " u'Canaanites',\n",
        " u'Canaanitish',\n",
        " u'Caphtorim',\n",
        " u'Carmi',\n",
        " u'Casluhim',\n",
        " u'Cast',\n",
        " u'Cause',\n",
        " u'Chaldees',\n",
        " u'Chedorlaomer',\n",
        " u'Cheran',\n",
        " u'Cherubims',\n",
        " u'Chesed',\n",
        " u'Chezib',\n",
        " u'Come',\n",
        " u'Cursed',\n",
        " u'Cush',\n",
        " u'Damascus',\n",
        " u'Dan',\n",
        " u'Day',\n",
        " u'Deborah',\n",
        " u'Dedan',\n",
        " u'Deliver',\n",
        " u'Diklah',\n",
        " u'Din',\n",
        " u'Dinah',\n",
        " u'Dinhabah',\n",
        " u'Discern',\n",
        " u'Dishan',\n",
        " u'Dishon',\n",
        " u'Do',\n",
        " u'Dodanim',\n",
        " u'Dothan',\n",
        " u'Drink',\n",
        " u'Duke',\n",
        " u'Dumah',\n",
        " u'Earth',\n",
        " u'Ebal',\n",
        " u'Eber',\n",
        " u'Edar',\n",
        " u'Eden',\n",
        " u'Edom',\n",
        " u'Edomites',\n",
        " u'Egy',\n",
        " u'Egypt',\n",
        " u'Egyptia',\n",
        " u'Egyptian',\n",
        " u'Egyptians',\n",
        " u'Ehi',\n",
        " u'Elah',\n",
        " u'Elam',\n",
        " u'Elbethel',\n",
        " u'Eldaah',\n",
        " u'EleloheIsrael',\n",
        " u'Eliezer',\n",
        " u'Eliphaz',\n",
        " u'Elishah',\n",
        " u'Ellasar',\n",
        " u'Elon',\n",
        " u'Elparan',\n",
        " u'Emins',\n",
        " u'En',\n",
        " u'Enmishpat',\n",
        " u'Eno',\n",
        " u'Enoch',\n",
        " u'Enos',\n",
        " u'Ephah',\n",
        " u'Epher',\n",
        " u'Ephra',\n",
        " u'Ephraim',\n",
        " u'Ephrath',\n",
        " u'Ephron',\n",
        " u'Er',\n",
        " u'Erech',\n",
        " u'Eri',\n",
        " u'Es',\n",
        " u'Esau',\n",
        " u'Escape',\n",
        " u'Esek',\n",
        " u'Eshban',\n",
        " u'Eshcol',\n",
        " u'Ethiopia',\n",
        " u'Euphrat',\n",
        " u'Euphrates',\n",
        " u'Eve',\n",
        " u'Even',\n",
        " u'Every',\n",
        " u'Except',\n",
        " u'Ezbon',\n",
        " u'Ezer',\n",
        " u'Fear',\n",
        " u'Feed',\n",
        " u'Fifteen',\n",
        " u'Fill',\n",
        " u'For',\n",
        " u'Forasmuch',\n",
        " u'Forgive',\n",
        " u'From',\n",
        " u'Fulfil',\n",
        " u'G',\n",
        " u'Gad',\n",
        " u'Gaham',\n",
        " u'Galeed',\n",
        " u'Gatam',\n",
        " u'Gather',\n",
        " u'Gaza',\n",
        " u'Gentiles',\n",
        " u'Gera',\n",
        " u'Gerar',\n",
        " u'Gershon',\n",
        " u'Get',\n",
        " u'Gether',\n",
        " u'Gihon',\n",
        " u'Gilead',\n",
        " u'Girgashites',\n",
        " u'Girgasite',\n",
        " u'Give',\n",
        " u'Go',\n",
        " u'God',\n",
        " u'Gomer',\n",
        " u'Gomorrah',\n",
        " u'Goshen',\n",
        " u'Guni',\n",
        " u'Hadad',\n",
        " u'Hadar',\n",
        " u'Hadoram',\n",
        " u'Hagar',\n",
        " u'Haggi',\n",
        " u'Hai',\n",
        " u'Ham',\n",
        " u'Hamathite',\n",
        " u'Hamor',\n",
        " u'Hamul',\n",
        " u'Hanoch',\n",
        " u'Happy',\n",
        " u'Haran',\n",
        " u'Hast',\n",
        " u'Haste',\n",
        " u'Have',\n",
        " u'Havilah',\n",
        " u'Hazarmaveth',\n",
        " u'Hazezontamar',\n",
        " u'Hazo',\n",
        " u'He',\n",
        " u'Hear',\n",
        " u'Heaven',\n",
        " u'Heber',\n",
        " u'Hebrew',\n",
        " u'Hebrews',\n",
        " u'Hebron',\n",
        " u'Hemam',\n",
        " u'Hemdan',\n",
        " u'Here',\n",
        " u'Hereby',\n",
        " u'Heth',\n",
        " u'Hezron',\n",
        " u'Hiddekel',\n",
        " u'Hinder',\n",
        " u'Hirah',\n",
        " u'His',\n",
        " u'Hitti',\n",
        " u'Hittite',\n",
        " u'Hittites',\n",
        " u'Hivite',\n",
        " u'Hobah',\n",
        " u'Hori',\n",
        " u'Horite',\n",
        " u'Horites',\n",
        " u'How',\n",
        " u'Hul',\n",
        " u'Huppim',\n",
        " u'Husham',\n",
        " u'Hushim',\n",
        " u'Huz',\n",
        " u'I',\n",
        " u'If',\n",
        " u'In',\n",
        " u'Irad',\n",
        " u'Iram',\n",
        " u'Is',\n",
        " u'Isa',\n",
        " u'Isaac',\n",
        " u'Iscah',\n",
        " u'Ishbak',\n",
        " u'Ishmael',\n",
        " u'Ishmeelites',\n",
        " u'Ishuah',\n",
        " u'Isra',\n",
        " u'Israel',\n",
        " u'Issachar',\n",
        " u'Isui',\n",
        " u'It',\n",
        " u'Ithran',\n",
        " u'Jaalam',\n",
        " u'Jabal',\n",
        " u'Jabbok',\n",
        " u'Jac',\n",
        " u'Jachin',\n",
        " u'Jacob',\n",
        " u'Jahleel',\n",
        " u'Jahzeel',\n",
        " u'Jamin',\n",
        " u'Japhe',\n",
        " u'Japheth',\n",
        " u'Jared',\n",
        " u'Javan',\n",
        " u'Jebusite',\n",
        " u'Jebusites',\n",
        " u'Jegarsahadutha',\n",
        " u'Jehovahjireh',\n",
        " u'Jemuel',\n",
        " u'Jerah',\n",
        " u'Jetheth',\n",
        " u'Jetur',\n",
        " u'Jeush',\n",
        " u'Jezer',\n",
        " u'Jidlaph',\n",
        " u'Jimnah',\n",
        " u'Job',\n",
        " u'Jobab',\n",
        " u'Jokshan',\n",
        " u'Joktan',\n",
        " u'Jordan',\n",
        " u'Joseph',\n",
        " u'Jubal',\n",
        " u'Judah',\n",
        " u'Judge',\n",
        " u'Judith',\n",
        " u'Kadesh',\n",
        " u'Kadmonites',\n",
        " u'Karnaim',\n",
        " u'Kedar',\n",
        " u'Kedemah',\n",
        " u'Kemuel',\n",
        " u'Kenaz',\n",
        " u'Kenites',\n",
        " u'Kenizzites',\n",
        " u'Keturah',\n",
        " u'Kiriathaim',\n",
        " u'Kirjatharba',\n",
        " u'Kittim',\n",
        " u'Know',\n",
        " u'Kohath',\n",
        " u'Kor',\n",
        " u'Korah',\n",
        " u'LO',\n",
        " u'LORD',\n",
        " u'Laban',\n",
        " u'Lahairoi',\n",
        " u'Lamech',\n",
        " u'Lasha',\n",
        " u'Lay',\n",
        " u'Leah',\n",
        " u'Lehabim',\n",
        " u'Lest',\n",
        " u'Let',\n",
        " u'Letushim',\n",
        " u'Leummim',\n",
        " u'Levi',\n",
        " u'Lie',\n",
        " u'Lift',\n",
        " u'Lo',\n",
        " u'Look',\n",
        " u'Lot',\n",
        " u'Lotan',\n",
        " u'Lud',\n",
        " u'Ludim',\n",
        " u'Luz',\n",
        " u'Maachah',\n",
        " u'Machir',\n",
        " u'Machpelah',\n",
        " u'Madai',\n",
        " u'Magdiel',\n",
        " u'Magog',\n",
        " u'Mahalaleel',\n",
        " u'Mahalath',\n",
        " u'Mahanaim',\n",
        " u'Make',\n",
        " u'Malchiel',\n",
        " u'Male',\n",
        " u'Mam',\n",
        " u'Mamre',\n",
        " u'Man',\n",
        " u'Manahath',\n",
        " u'Manass',\n",
        " u'Manasseh',\n",
        " u'Mash',\n",
        " u'Masrekah',\n",
        " u'Massa',\n",
        " u'Matred',\n",
        " u'Me',\n",
        " u'Medan',\n",
        " u'Mehetabel',\n",
        " u'Mehujael',\n",
        " u'Melchizedek',\n",
        " u'Merari',\n",
        " u'Mesha',\n",
        " u'Meshech',\n",
        " u'Mesopotamia',\n",
        " u'Methusa',\n",
        " u'Methusael',\n",
        " u'Methuselah',\n",
        " u'Mezahab',\n",
        " u'Mibsam',\n",
        " u'Mibzar',\n",
        " u'Midian',\n",
        " u'Midianites',\n",
        " u'Milcah',\n",
        " u'Mishma',\n",
        " u'Mizpah',\n",
        " u'Mizraim',\n",
        " u'Mizz',\n",
        " u'Moab',\n",
        " u'Moabites',\n",
        " u'Moreh',\n",
        " u'Moreover',\n",
        " u'Moriah',\n",
        " u'Muppim',\n",
        " u'My',\n",
        " u'Naamah',\n",
        " u'Naaman',\n",
        " u'Nahath',\n",
        " u'Nahor',\n",
        " u'Naphish',\n",
        " u'Naphtali',\n",
        " u'Naphtuhim',\n",
        " u'Nay',\n",
        " u'Nebajoth',\n",
        " u'Neither',\n",
        " u'Night',\n",
        " u'Nimrod',\n",
        " u'Nineveh',\n",
        " u'Noah',\n",
        " u'Nod',\n",
        " u'Not',\n",
        " u'Now',\n",
        " u'O',\n",
        " u'Obal',\n",
        " u'Of',\n",
        " u'Oh',\n",
        " u'Ohad',\n",
        " u'Omar',\n",
        " u'On',\n",
        " u'Onam',\n",
        " u'Onan',\n",
        " u'Only',\n",
        " u'Ophir',\n",
        " u'Our',\n",
        " u'Out',\n",
        " u'Padan',\n",
        " u'Padanaram',\n",
        " u'Paran',\n",
        " u'Pass',\n",
        " u'Pathrusim',\n",
        " u'Pau',\n",
        " u'Peace',\n",
        " u'Peleg',\n",
        " u'Peniel',\n",
        " u'Penuel',\n",
        " u'Peradventure',\n",
        " u'Perizzit',\n",
        " u'Perizzite',\n",
        " u'Perizzites',\n",
        " u'Phallu',\n",
        " u'Phara',\n",
        " u'Pharaoh',\n",
        " u'Pharez',\n",
        " u'Phichol',\n",
        " u'Philistim',\n",
        " u'Philistines',\n",
        " u'Phut',\n",
        " u'Phuvah',\n",
        " u'Pildash',\n",
        " u'Pinon',\n",
        " u'Pison',\n",
        " u'Potiphar',\n",
        " u'Potipherah',\n",
        " u'Put',\n",
        " u'Raamah',\n",
        " u'Rachel',\n",
        " u'Rameses',\n",
        " u'Rebek',\n",
        " u'Rebekah',\n",
        " u'Rehoboth',\n",
        " u'Remain',\n",
        " u'Rephaims',\n",
        " u'Resen',\n",
        " u'Return',\n",
        " u'Reu',\n",
        " u'Reub',\n",
        " u'Reuben',\n",
        " u'Reuel',\n",
        " u'Reumah',\n",
        " u'Riphath',\n",
        " u'Rosh',\n",
        " u'Sabtah',\n",
        " u'Sabtech',\n",
        " u'Said',\n",
        " u'Salah',\n",
        " u'Salem',\n",
        " u'Samlah',\n",
        " u'Sarah',\n",
        " u'Sarai',\n",
        " u'Saul',\n",
        " u'Save',\n",
        " u'Say',\n",
        " u'Se',\n",
        " u'Seba',\n",
        " u'See',\n",
        " u'Seeing',\n",
        " u'Seir',\n",
        " u'Sell',\n",
        " u'Send',\n",
        " u'Sephar',\n",
        " u'Serah',\n",
        " u'Sered',\n",
        " u'Serug',\n",
        " u'Set',\n",
        " u'Seth',\n",
        " u'Shalem',\n",
        " u'Shall',\n",
        " u'Shalt',\n",
        " u'Shammah',\n",
        " u'Shaul',\n",
        " u'Shaveh',\n",
        " u'She',\n",
        " u'Sheba',\n",
        " u'Shebah',\n",
        " u'Shechem',\n",
        " u'Shed',\n",
        " u'Shel',\n",
        " u'Shelah',\n",
        " u'Sheleph',\n",
        " u'Shem',\n",
        " u'Shemeber',\n",
        " u'Shepho',\n",
        " u'Shillem',\n",
        " u'Shiloh',\n",
        " u'Shimron',\n",
        " u'Shinab',\n",
        " u'Shinar',\n",
        " u'Shobal',\n",
        " u'Should',\n",
        " u'Shuah',\n",
        " u'Shuni',\n",
        " u'Shur',\n",
        " u'Sichem',\n",
        " u'Siddim',\n",
        " u'Sidon',\n",
        " u'Simeon',\n",
        " u'Sinite',\n",
        " u'Sitnah',\n",
        " u'Slay',\n",
        " u'So',\n",
        " u'Sod',\n",
        " u'Sodom',\n",
        " u'Sojourn',\n",
        " u'Some',\n",
        " u'Spake',\n",
        " u'Speak',\n",
        " u'Spirit',\n",
        " u'Stand',\n",
        " u'Succoth',\n",
        " u'Surely',\n",
        " u'Swear',\n",
        " u'Syrian',\n",
        " u'Take',\n",
        " u'Tamar',\n",
        " u'Tarshish',\n",
        " u'Tebah',\n",
        " u'Tell',\n",
        " u'Tema',\n",
        " u'Teman',\n",
        " u'Temani',\n",
        " u'Terah',\n",
        " u'Thahash',\n",
        " u'That',\n",
        " u'The',\n",
        " u'Then',\n",
        " u'There',\n",
        " u'Therefore',\n",
        " u'These',\n",
        " u'They',\n",
        " u'Thirty',\n",
        " u'This',\n",
        " u'Thorns',\n",
        " u'Thou',\n",
        " u'Thus',\n",
        " u'Thy',\n",
        " u'Tidal',\n",
        " u'Timna',\n",
        " u'Timnah',\n",
        " u'Timnath',\n",
        " u'Tiras',\n",
        " u'To',\n",
        " u'Togarmah',\n",
        " u'Tola',\n",
        " u'Tubal',\n",
        " u'Tubalcain',\n",
        " u'Twelve',\n",
        " u'Two',\n",
        " u'Unstable',\n",
        " u'Until',\n",
        " u'Unto',\n",
        " u'Up',\n",
        " u'Upon',\n",
        " u'Ur',\n",
        " u'Uz',\n",
        " u'Uzal',\n",
        " u'We',\n",
        " u'What',\n",
        " u'When',\n",
        " u'Whence',\n",
        " u'Where',\n",
        " u'Whereas',\n",
        " u'Wherefore',\n",
        " u'Which',\n",
        " u'While',\n",
        " u'Who',\n",
        " u'Whose',\n",
        " u'Whoso',\n",
        " u'Why',\n",
        " u'Wilt',\n",
        " u'With',\n",
        " u'Woman',\n",
        " u'Ye',\n",
        " u'Yea',\n",
        " u'Yet',\n",
        " u'Zaavan',\n",
        " u'Zaphnathpaaneah',\n",
        " u'Zar',\n",
        " u'Zarah',\n",
        " u'Zeboiim',\n",
        " u'Zeboim',\n",
        " u'Zebul',\n",
        " u'Zebulun',\n",
        " u'Zemarite',\n",
        " u'Zepho',\n",
        " u'Zerah',\n",
        " u'Zibeon',\n",
        " u'Zidon',\n",
        " u'Zillah',\n",
        " u'Zilpah',\n",
        " u'Zimran',\n",
        " u'Ziphion',\n",
        " u'Zo',\n",
        " u'Zoar',\n",
        " u'Zohar',\n",
        " u'Zuzims',\n",
        " u'a',\n",
        " u'abated',\n",
        " u'abide',\n",
        " u'able',\n",
        " u'abode',\n",
        " u'abomination',\n",
        " u'about',\n",
        " u'above',\n",
        " u'abroad',\n",
        " u'absent',\n",
        " u'abundantly',\n",
        " u'accept',\n",
        " u'accepted',\n",
        " u'according',\n",
        " u'acknowledged',\n",
        " u'activity',\n",
        " u'add',\n",
        " u'adder',\n",
        " u'afar',\n",
        " u'afflict',\n",
        " u'affliction',\n",
        " u'afraid',\n",
        " u'after',\n",
        " u'afterward',\n",
        " u'afterwards',\n",
        " u'aga',\n",
        " u'again',\n",
        " u'against',\n",
        " u'age',\n",
        " u'aileth',\n",
        " u'air',\n",
        " u'al',\n",
        " u'alive',\n",
        " u'all',\n",
        " u'almon',\n",
        " u'alo',\n",
        " u'alone',\n",
        " u'aloud',\n",
        " u'also',\n",
        " u'altar',\n",
        " u'altogether',\n",
        " u'always',\n",
        " u'am',\n",
        " u'among',\n",
        " u'amongst',\n",
        " u'an',\n",
        " u'and',\n",
        " u'angel',\n",
        " u'angels',\n",
        " u'anger',\n",
        " u'angry',\n",
        " u'anguish',\n",
        " u'anointedst',\n",
        " u'anoth',\n",
        " u'another',\n",
        " u'answer',\n",
        " u'answered',\n",
        " u'any',\n",
        " u'anything',\n",
        " u'appe',\n",
        " u'appear',\n",
        " u'appeared',\n",
        " u'appease',\n",
        " u'appoint',\n",
        " u'appointed',\n",
        " u'aprons',\n",
        " u'archer',\n",
        " u'archers',\n",
        " u'are',\n",
        " u'arise',\n",
        " u'ark',\n",
        " u'armed',\n",
        " u'arms',\n",
        " u'army',\n",
        " u'arose',\n",
        " u'arrayed',\n",
        " u'art',\n",
        " u'artificer',\n",
        " u'as',\n",
        " u'ascending',\n",
        " u'ash',\n",
        " u'ashamed',\n",
        " u'ask',\n",
        " u'asked',\n",
        " u'asketh',\n",
        " u'ass',\n",
        " u'assembly',\n",
        " u'asses',\n",
        " u'assigned',\n",
        " u'asswaged',\n",
        " u'at',\n",
        " u'attained',\n",
        " u'audience',\n",
        " u'avenged',\n",
        " u'aw',\n",
        " u'awaked',\n",
        " u'away',\n",
        " u'awoke',\n",
        " u'back',\n",
        " u'backward',\n",
        " u'bad',\n",
        " u'bade',\n",
        " u'badest',\n",
        " u'badne',\n",
        " u'bak',\n",
        " u'bake',\n",
        " u'bakemeats',\n",
        " u'baker',\n",
        " u'bakers',\n",
        " u'balm',\n",
        " u'bands',\n",
        " u'bank',\n",
        " u'bare',\n",
        " u'barr',\n",
        " u'barren',\n",
        " u'basket',\n",
        " u'baskets',\n",
        " u'battle',\n",
        " u'bdellium',\n",
        " u'be',\n",
        " u'bear',\n",
        " u'beari',\n",
        " u'bearing',\n",
        " u'beast',\n",
        " u'beasts',\n",
        " u'beautiful',\n",
        " u'became',\n",
        " u'because',\n",
        " u'become',\n",
        " u'bed',\n",
        " u'been',\n",
        " u'befall',\n",
        " u'befell',\n",
        " u'before',\n",
        " u'began',\n",
        " u'begat',\n",
        " u'beget',\n",
        " u'begettest',\n",
        " u'begin',\n",
        " u'beginning',\n",
        " u'begotten',\n",
        " u'beguiled',\n",
        " u'beheld',\n",
        " u'behind',\n",
        " u'behold',\n",
        " u'being',\n",
        " u'believed',\n",
        " u'belly',\n",
        " u'belong',\n",
        " u'beneath',\n",
        " u'bereaved',\n",
        " u'beside',\n",
        " u'besides',\n",
        " u'besought',\n",
        " u'best',\n",
        " u'betimes',\n",
        " u'better',\n",
        " u'between',\n",
        " u'betwixt',\n",
        " u'beyond',\n",
        " u'binding',\n",
        " u'bird',\n",
        " u'birds',\n",
        " u'birthday',\n",
        " u'birthright',\n",
        " u'biteth',\n",
        " u'bitter',\n",
        " u'blame',\n",
        " u'blameless',\n",
        " u'blasted',\n",
        " u'bless',\n",
        " u'blessed',\n",
        " u'blesseth',\n",
        " u'blessi',\n",
        " u'blessing',\n",
        " u'blessings',\n",
        " u'blindness',\n",
        " u'blood',\n",
        " u'blossoms',\n",
        " u'bodies',\n",
        " u'boldly',\n",
        " u'bondman',\n",
        " u'bondmen',\n",
        " u'bondwoman',\n",
        " u'bone',\n",
        " u'bones',\n",
        " u'book',\n",
        " u'booths',\n",
        " u'border',\n",
        " u'borders',\n",
        " u'born',\n",
        " u'bosom',\n",
        " u'both',\n",
        " u'bottle',\n",
        " u'bou',\n",
        " u'boug',\n",
        " u'bough',\n",
        " u'bought',\n",
        " u'bound',\n",
        " u'bow',\n",
        " u'bowed',\n",
        " u'bowels',\n",
        " u'bowing',\n",
        " u'boys',\n",
        " u'bracelets',\n",
        " u'branches',\n",
        " u'brass',\n",
        " u'bre',\n",
        " u'breach',\n",
        " u'bread',\n",
        " u'breadth',\n",
        " u'break',\n",
        " u'breaketh',\n",
        " u'breaking',\n",
        " u'breasts',\n",
        " u'breath',\n",
        " u'breathed',\n",
        " u'breed',\n",
        " u'brethren',\n",
        " u'brick',\n",
        " u'brimstone',\n",
        " u'bring',\n",
        " u'brink',\n",
        " u'broken',\n",
        " u'brook',\n",
        " u'broth',\n",
        " u'brother',\n",
        " u'brought',\n",
        " u'brown',\n",
        " u'bruise',\n",
        " u'budded',\n",
        " u'build',\n",
        " u'builded',\n",
        " u'built',\n",
        " u'bulls',\n",
        " u'bundle',\n",
        " u'bundles',\n",
        " u'burdens',\n",
        " u'buried',\n",
        " u'burn',\n",
        " u'burning',\n",
        " u'burnt',\n",
        " u'bury',\n",
        " u'buryingplace',\n",
        " u'business',\n",
        " u'but',\n",
        " u'butler',\n",
        " u'butlers',\n",
        " u'butlership',\n",
        " u'butter',\n",
        " u'buy',\n",
        " u'by',\n",
        " u'cakes',\n",
        " u'calf',\n",
        " u'call',\n",
        " u'called',\n",
        " u'came',\n",
        " u'camel',\n",
        " u'camels',\n",
        " u'camest',\n",
        " u'can',\n",
        " u'cannot',\n",
        " u'canst',\n",
        " u'captain',\n",
        " u'captive',\n",
        " u'captives',\n",
        " u'carcases',\n",
        " u'carried',\n",
        " u'carry',\n",
        " u'cast',\n",
        " u'castles',\n",
        " u'catt',\n",
        " u'cattle',\n",
        " u'caught',\n",
        " u'cause',\n",
        " u'caused',\n",
        " u'cave',\n",
        " u'cease',\n",
        " u'ceased',\n",
        " u'certain',\n",
        " u'certainly',\n",
        " u'chain',\n",
        " u'chamber',\n",
        " u'change',\n",
        " u'changed',\n",
        " u'changes',\n",
        " u'charge',\n",
        " u'charged',\n",
        " u'chariot',\n",
        " u'chariots',\n",
        " u'chesnut',\n",
        " u'chi',\n",
        " u'chief',\n",
        " u'child',\n",
        " u'childless',\n",
        " u'childr',\n",
        " u'children',\n",
        " u'chode',\n",
        " u'choice',\n",
        " u'chose',\n",
        " u'circumcis',\n",
        " u'circumcise',\n",
        " u'circumcised',\n",
        " u'citi',\n",
        " u'cities',\n",
        " u'city',\n",
        " u'clave',\n",
        " u'clean',\n",
        " u'clear',\n",
        " u'cleave',\n",
        " u'clo',\n",
        " u'closed',\n",
        " u'clothed',\n",
        " u'clothes',\n",
        " u'cloud',\n",
        " u'clusters',\n",
        " u'co',\n",
        " u'coat',\n",
        " u'coats',\n",
        " u'coffin',\n",
        " u'cold',\n",
        " ...]"
       ]
      }
     ],
     "prompt_number": 14
    },
    {
     "cell_type": "code",
     "collapsed": false,
     "input": [
      "len(set(text3))"
     ],
     "language": "python",
     "metadata": {},
     "outputs": [
      {
       "metadata": {},
       "output_type": "pyout",
       "prompt_number": 15,
       "text": [
        "2789"
       ]
      }
     ],
     "prompt_number": 15
    },
    {
     "cell_type": "code",
     "collapsed": false,
     "input": [
      "from __future__ import division"
     ],
     "language": "python",
     "metadata": {},
     "outputs": [],
     "prompt_number": 16
    },
    {
     "cell_type": "code",
     "collapsed": false,
     "input": [
      "len(text3) / len(set(text3))"
     ],
     "language": "python",
     "metadata": {},
     "outputs": [
      {
       "metadata": {},
       "output_type": "pyout",
       "prompt_number": 17,
       "text": [
        "16.050197203298673"
       ]
      }
     ],
     "prompt_number": 17
    },
    {
     "cell_type": "code",
     "collapsed": false,
     "input": [
      "text3.count(\"smote\")"
     ],
     "language": "python",
     "metadata": {},
     "outputs": [
      {
       "metadata": {},
       "output_type": "pyout",
       "prompt_number": 18,
       "text": [
        "5"
       ]
      }
     ],
     "prompt_number": 18
    },
    {
     "cell_type": "code",
     "collapsed": false,
     "input": [
      "100 * text4.count('a') / len(text4)"
     ],
     "language": "python",
     "metadata": {},
     "outputs": [
      {
       "metadata": {},
       "output_type": "pyout",
       "prompt_number": 19,
       "text": [
        "1.4643016433938312"
       ]
      }
     ],
     "prompt_number": 19
    },
    {
     "cell_type": "code",
     "collapsed": false,
     "input": [
      "def lexical_diversity(text):\n",
      "    return len(text) / len(set(text))"
     ],
     "language": "python",
     "metadata": {},
     "outputs": [],
     "prompt_number": 20
    },
    {
     "cell_type": "code",
     "collapsed": false,
     "input": [
      "def percentage(count, total): \n",
      "    return 100 * count / total"
     ],
     "language": "python",
     "metadata": {},
     "outputs": [],
     "prompt_number": 21
    },
    {
     "cell_type": "code",
     "collapsed": false,
     "input": [
      "lexical_diversity(text3)"
     ],
     "language": "python",
     "metadata": {},
     "outputs": [
      {
       "metadata": {},
       "output_type": "pyout",
       "prompt_number": 22,
       "text": [
        "16.050197203298673"
       ]
      }
     ],
     "prompt_number": 22
    },
    {
     "cell_type": "code",
     "collapsed": false,
     "input": [
      "percentage(4, 5)"
     ],
     "language": "python",
     "metadata": {},
     "outputs": [
      {
       "metadata": {},
       "output_type": "pyout",
       "prompt_number": 23,
       "text": [
        "80.0"
       ]
      }
     ],
     "prompt_number": 23
    },
    {
     "cell_type": "code",
     "collapsed": false,
     "input": [
      "percentage(text4.count('a'), len(text4))"
     ],
     "language": "python",
     "metadata": {},
     "outputs": [
      {
       "metadata": {},
       "output_type": "pyout",
       "prompt_number": 24,
       "text": [
        "1.4643016433938312"
       ]
      }
     ],
     "prompt_number": 24
    },
    {
     "cell_type": "heading",
     "level": 2,
     "metadata": {},
     "source": [
      "1.2 A Closer Look at Python: Texts as Lists of Words"
     ]
    },
    {
     "cell_type": "heading",
     "level": 3,
     "metadata": {},
     "source": [
      "Lists"
     ]
    },
    {
     "cell_type": "code",
     "collapsed": false,
     "input": [
      "sent1 = ['Call', 'me', 'Ishmael', '.']"
     ],
     "language": "python",
     "metadata": {},
     "outputs": [],
     "prompt_number": 25
    },
    {
     "cell_type": "code",
     "collapsed": false,
     "input": [
      "sent1"
     ],
     "language": "python",
     "metadata": {},
     "outputs": [
      {
       "metadata": {},
       "output_type": "pyout",
       "prompt_number": 26,
       "text": [
        "['Call', 'me', 'Ishmael', '.']"
       ]
      }
     ],
     "prompt_number": 26
    },
    {
     "cell_type": "code",
     "collapsed": false,
     "input": [
      "len(sent1)"
     ],
     "language": "python",
     "metadata": {},
     "outputs": [
      {
       "metadata": {},
       "output_type": "pyout",
       "prompt_number": 27,
       "text": [
        "4"
       ]
      }
     ],
     "prompt_number": 27
    },
    {
     "cell_type": "code",
     "collapsed": false,
     "input": [
      "lexical_diversity(sent1)"
     ],
     "language": "python",
     "metadata": {},
     "outputs": [
      {
       "metadata": {},
       "output_type": "pyout",
       "prompt_number": 28,
       "text": [
        "1.0"
       ]
      }
     ],
     "prompt_number": 28
    },
    {
     "cell_type": "code",
     "collapsed": false,
     "input": [
      "sent2"
     ],
     "language": "python",
     "metadata": {},
     "outputs": [
      {
       "metadata": {},
       "output_type": "pyout",
       "prompt_number": 29,
       "text": [
        "['The',\n",
        " 'family',\n",
        " 'of',\n",
        " 'Dashwood',\n",
        " 'had',\n",
        " 'long',\n",
        " 'been',\n",
        " 'settled',\n",
        " 'in',\n",
        " 'Sussex',\n",
        " '.']"
       ]
      }
     ],
     "prompt_number": 29
    },
    {
     "cell_type": "code",
     "collapsed": false,
     "input": [
      "sent3"
     ],
     "language": "python",
     "metadata": {},
     "outputs": [
      {
       "metadata": {},
       "output_type": "pyout",
       "prompt_number": 30,
       "text": [
        "['In',\n",
        " 'the',\n",
        " 'beginning',\n",
        " 'God',\n",
        " 'created',\n",
        " 'the',\n",
        " 'heaven',\n",
        " 'and',\n",
        " 'the',\n",
        " 'earth',\n",
        " '.']"
       ]
      }
     ],
     "prompt_number": 30
    },
    {
     "cell_type": "code",
     "collapsed": false,
     "input": [
      "['Monty', 'Python'] + ['and', 'the', 'Holy', 'Grail']"
     ],
     "language": "python",
     "metadata": {},
     "outputs": [
      {
       "metadata": {},
       "output_type": "pyout",
       "prompt_number": 31,
       "text": [
        "['Monty', 'Python', 'and', 'the', 'Holy', 'Grail']"
       ]
      }
     ],
     "prompt_number": 31
    },
    {
     "cell_type": "code",
     "collapsed": false,
     "input": [
      "sent4 + sent1"
     ],
     "language": "python",
     "metadata": {},
     "outputs": [
      {
       "metadata": {},
       "output_type": "pyout",
       "prompt_number": 32,
       "text": [
        "['Fellow',\n",
        " '-',\n",
        " 'Citizens',\n",
        " 'of',\n",
        " 'the',\n",
        " 'Senate',\n",
        " 'and',\n",
        " 'of',\n",
        " 'the',\n",
        " 'House',\n",
        " 'of',\n",
        " 'Representatives',\n",
        " ':',\n",
        " 'Call',\n",
        " 'me',\n",
        " 'Ishmael',\n",
        " '.']"
       ]
      }
     ],
     "prompt_number": 32
    },
    {
     "cell_type": "code",
     "collapsed": false,
     "input": [
      "sent1.append(\"Some\")"
     ],
     "language": "python",
     "metadata": {},
     "outputs": [],
     "prompt_number": 33
    },
    {
     "cell_type": "code",
     "collapsed": false,
     "input": [
      "sent1"
     ],
     "language": "python",
     "metadata": {},
     "outputs": [
      {
       "metadata": {},
       "output_type": "pyout",
       "prompt_number": 34,
       "text": [
        "['Call', 'me', 'Ishmael', '.', 'Some']"
       ]
      }
     ],
     "prompt_number": 34
    },
    {
     "cell_type": "heading",
     "level": 3,
     "metadata": {},
     "source": [
      "Indexing Lists"
     ]
    },
    {
     "cell_type": "code",
     "collapsed": false,
     "input": [
      "text4[173]"
     ],
     "language": "python",
     "metadata": {},
     "outputs": [
      {
       "metadata": {},
       "output_type": "pyout",
       "prompt_number": 35,
       "text": [
        "u'awaken'"
       ]
      }
     ],
     "prompt_number": 35
    },
    {
     "cell_type": "code",
     "collapsed": false,
     "input": [
      "text4.index('awaken')"
     ],
     "language": "python",
     "metadata": {},
     "outputs": [
      {
       "metadata": {},
       "output_type": "pyout",
       "prompt_number": 36,
       "text": [
        "173"
       ]
      }
     ],
     "prompt_number": 36
    },
    {
     "cell_type": "code",
     "collapsed": false,
     "input": [
      "text5[16715:16735]"
     ],
     "language": "python",
     "metadata": {},
     "outputs": [
      {
       "metadata": {},
       "output_type": "pyout",
       "prompt_number": 37,
       "text": [
        "[u'U86',\n",
        " u'thats',\n",
        " u'why',\n",
        " u'something',\n",
        " u'like',\n",
        " u'gamefly',\n",
        " u'is',\n",
        " u'so',\n",
        " u'good',\n",
        " u'because',\n",
        " u'you',\n",
        " u'can',\n",
        " u'actually',\n",
        " u'play',\n",
        " u'a',\n",
        " u'full',\n",
        " u'game',\n",
        " u'without',\n",
        " u'buying',\n",
        " u'it']"
       ]
      }
     ],
     "prompt_number": 37
    },
    {
     "cell_type": "code",
     "collapsed": false,
     "input": [
      "sent = ['word1', 'word2', 'word3', 'word4', 'word5', 'word6', 'word7', 'word8', 'word9', 'word10']"
     ],
     "language": "python",
     "metadata": {},
     "outputs": [],
     "prompt_number": 39
    },
    {
     "cell_type": "code",
     "collapsed": false,
     "input": [
      "sent[0]"
     ],
     "language": "python",
     "metadata": {},
     "outputs": [
      {
       "metadata": {},
       "output_type": "pyout",
       "prompt_number": 40,
       "text": [
        "'word1'"
       ]
      }
     ],
     "prompt_number": 40
    },
    {
     "cell_type": "code",
     "collapsed": false,
     "input": [
      "sent[1]"
     ],
     "language": "python",
     "metadata": {},
     "outputs": [
      {
       "metadata": {},
       "output_type": "pyout",
       "prompt_number": 41,
       "text": [
        "'word2'"
       ]
      }
     ],
     "prompt_number": 41
    },
    {
     "cell_type": "code",
     "collapsed": false,
     "input": [
      "sent[10]"
     ],
     "language": "python",
     "metadata": {},
     "outputs": [
      {
       "ename": "IndexError",
       "evalue": "list index out of range",
       "output_type": "pyerr",
       "traceback": [
        "\u001b[0;31m---------------------------------------------------------------------------\u001b[0m\n\u001b[0;31mIndexError\u001b[0m                                Traceback (most recent call last)",
        "\u001b[0;32m<ipython-input-42-146a2a32f068>\u001b[0m in \u001b[0;36m<module>\u001b[0;34m()\u001b[0m\n\u001b[0;32m----> 1\u001b[0;31m \u001b[0msent\u001b[0m\u001b[0;34m[\u001b[0m\u001b[0;36m10\u001b[0m\u001b[0;34m]\u001b[0m\u001b[0;34m\u001b[0m\u001b[0m\n\u001b[0m",
        "\u001b[0;31mIndexError\u001b[0m: list index out of range"
       ]
      }
     ],
     "prompt_number": 42
    },
    {
     "cell_type": "code",
     "collapsed": false,
     "input": [
      "sent[5:8]"
     ],
     "language": "python",
     "metadata": {},
     "outputs": [
      {
       "metadata": {},
       "output_type": "pyout",
       "prompt_number": 43,
       "text": [
        "['word6', 'word7', 'word8']"
       ]
      }
     ],
     "prompt_number": 43
    },
    {
     "cell_type": "code",
     "collapsed": false,
     "input": [
      "sent[5]"
     ],
     "language": "python",
     "metadata": {},
     "outputs": [
      {
       "metadata": {},
       "output_type": "pyout",
       "prompt_number": 44,
       "text": [
        "'word6'"
       ]
      }
     ],
     "prompt_number": 44
    },
    {
     "cell_type": "code",
     "collapsed": false,
     "input": [
      "sent[6]"
     ],
     "language": "python",
     "metadata": {},
     "outputs": [
      {
       "metadata": {},
       "output_type": "pyout",
       "prompt_number": 45,
       "text": [
        "'word7'"
       ]
      }
     ],
     "prompt_number": 45
    },
    {
     "cell_type": "code",
     "collapsed": false,
     "input": [
      "sent[7]"
     ],
     "language": "python",
     "metadata": {},
     "outputs": [
      {
       "metadata": {},
       "output_type": "pyout",
       "prompt_number": 46,
       "text": [
        "'word8'"
       ]
      }
     ],
     "prompt_number": 46
    },
    {
     "cell_type": "code",
     "collapsed": false,
     "input": [
      "sent[:3]"
     ],
     "language": "python",
     "metadata": {},
     "outputs": [
      {
       "metadata": {},
       "output_type": "pyout",
       "prompt_number": 47,
       "text": [
        "['word1', 'word2', 'word3']"
       ]
      }
     ],
     "prompt_number": 47
    },
    {
     "cell_type": "code",
     "collapsed": false,
     "input": [
      "text2[141525:]"
     ],
     "language": "python",
     "metadata": {},
     "outputs": [
      {
       "metadata": {},
       "output_type": "pyout",
       "prompt_number": 48,
       "text": [
        "[u'among',\n",
        " u'the',\n",
        " u'merits',\n",
        " u'and',\n",
        " u'the',\n",
        " u'happiness',\n",
        " u'of',\n",
        " u'Elinor',\n",
        " u'and',\n",
        " u'Marianne',\n",
        " u',',\n",
        " u'let',\n",
        " u'it',\n",
        " u'not',\n",
        " u'be',\n",
        " u'ranked',\n",
        " u'as',\n",
        " u'the',\n",
        " u'least',\n",
        " u'considerable',\n",
        " u',',\n",
        " u'that',\n",
        " u'though',\n",
        " u'sisters',\n",
        " u',',\n",
        " u'and',\n",
        " u'living',\n",
        " u'almost',\n",
        " u'within',\n",
        " u'sight',\n",
        " u'of',\n",
        " u'each',\n",
        " u'other',\n",
        " u',',\n",
        " u'they',\n",
        " u'could',\n",
        " u'live',\n",
        " u'without',\n",
        " u'disagreement',\n",
        " u'between',\n",
        " u'themselves',\n",
        " u',',\n",
        " u'or',\n",
        " u'producing',\n",
        " u'coolness',\n",
        " u'between',\n",
        " u'their',\n",
        " u'husbands',\n",
        " u'.',\n",
        " u'THE',\n",
        " u'END']"
       ]
      }
     ],
     "prompt_number": 48
    },
    {
     "cell_type": "code",
     "collapsed": false,
     "input": [
      "sent[0] = 'First'"
     ],
     "language": "python",
     "metadata": {},
     "outputs": [],
     "prompt_number": 49
    },
    {
     "cell_type": "code",
     "collapsed": false,
     "input": [
      "sent[9] = 'Last'"
     ],
     "language": "python",
     "metadata": {},
     "outputs": [],
     "prompt_number": 50
    },
    {
     "cell_type": "code",
     "collapsed": false,
     "input": [
      "len(sent)"
     ],
     "language": "python",
     "metadata": {},
     "outputs": [
      {
       "metadata": {},
       "output_type": "pyout",
       "prompt_number": 51,
       "text": [
        "10"
       ]
      }
     ],
     "prompt_number": 51
    },
    {
     "cell_type": "code",
     "collapsed": false,
     "input": [
      "sent[1:9] = ['Second', 'Third']"
     ],
     "language": "python",
     "metadata": {},
     "outputs": [],
     "prompt_number": 52
    },
    {
     "cell_type": "code",
     "collapsed": false,
     "input": [
      "sent"
     ],
     "language": "python",
     "metadata": {},
     "outputs": [
      {
       "metadata": {},
       "output_type": "pyout",
       "prompt_number": 53,
       "text": [
        "['First', 'Second', 'Third', 'Last']"
       ]
      }
     ],
     "prompt_number": 53
    },
    {
     "cell_type": "code",
     "collapsed": false,
     "input": [
      "sent[9]"
     ],
     "language": "python",
     "metadata": {},
     "outputs": [
      {
       "ename": "IndexError",
       "evalue": "list index out of range",
       "output_type": "pyerr",
       "traceback": [
        "\u001b[0;31m---------------------------------------------------------------------------\u001b[0m\n\u001b[0;31mIndexError\u001b[0m                                Traceback (most recent call last)",
        "\u001b[0;32m<ipython-input-54-0e31928eddd3>\u001b[0m in \u001b[0;36m<module>\u001b[0;34m()\u001b[0m\n\u001b[0;32m----> 1\u001b[0;31m \u001b[0msent\u001b[0m\u001b[0;34m[\u001b[0m\u001b[0;36m9\u001b[0m\u001b[0;34m]\u001b[0m\u001b[0;34m\u001b[0m\u001b[0m\n\u001b[0m",
        "\u001b[0;31mIndexError\u001b[0m: list index out of range"
       ]
      }
     ],
     "prompt_number": 54
    },
    {
     "cell_type": "heading",
     "level": 3,
     "metadata": {},
     "source": [
      "Variables"
     ]
    },
    {
     "cell_type": "code",
     "collapsed": false,
     "input": [
      "sent1 = ['Call', 'me', 'Ishmael', '.']"
     ],
     "language": "python",
     "metadata": {},
     "outputs": [],
     "prompt_number": 55
    },
    {
     "cell_type": "code",
     "collapsed": false,
     "input": [
      "my_sent = ['Bravely', 'bold', 'Sir', 'Robin', ',', 'rode', 'forth', 'from', 'Camelot', '.']"
     ],
     "language": "python",
     "metadata": {},
     "outputs": [],
     "prompt_number": 56
    },
    {
     "cell_type": "code",
     "collapsed": false,
     "input": [
      "noun_phrase = my_sent[1:4]"
     ],
     "language": "python",
     "metadata": {},
     "outputs": [],
     "prompt_number": 57
    },
    {
     "cell_type": "code",
     "collapsed": false,
     "input": [
      "noun_phrase"
     ],
     "language": "python",
     "metadata": {},
     "outputs": [
      {
       "metadata": {},
       "output_type": "pyout",
       "prompt_number": 58,
       "text": [
        "['bold', 'Sir', 'Robin']"
       ]
      }
     ],
     "prompt_number": 58
    },
    {
     "cell_type": "code",
     "collapsed": false,
     "input": [
      "wOrDs = sorted(noun_phrase)"
     ],
     "language": "python",
     "metadata": {},
     "outputs": [],
     "prompt_number": 59
    },
    {
     "cell_type": "code",
     "collapsed": false,
     "input": [
      "wOrDs"
     ],
     "language": "python",
     "metadata": {},
     "outputs": [
      {
       "metadata": {},
       "output_type": "pyout",
       "prompt_number": 61,
       "text": [
        "['Robin', 'Sir', 'bold']"
       ]
      }
     ],
     "prompt_number": 61
    },
    {
     "cell_type": "code",
     "collapsed": false,
     "input": [
      "not = 'Camelot'"
     ],
     "language": "python",
     "metadata": {},
     "outputs": [
      {
       "ename": "SyntaxError",
       "evalue": "invalid syntax (<ipython-input-62-d12e7e70e097>, line 1)",
       "output_type": "pyerr",
       "traceback": [
        "\u001b[0;36m  File \u001b[0;32m\"<ipython-input-62-d12e7e70e097>\"\u001b[0;36m, line \u001b[0;32m1\u001b[0m\n\u001b[0;31m    not = 'Camelot'\u001b[0m\n\u001b[0m        ^\u001b[0m\n\u001b[0;31mSyntaxError\u001b[0m\u001b[0;31m:\u001b[0m invalid syntax\n"
       ]
      }
     ],
     "prompt_number": 62
    },
    {
     "cell_type": "code",
     "collapsed": false,
     "input": [
      "vocab = set(text1)"
     ],
     "language": "python",
     "metadata": {},
     "outputs": [],
     "prompt_number": 63
    },
    {
     "cell_type": "code",
     "collapsed": false,
     "input": [
      "vocab_size = len(vocab)"
     ],
     "language": "python",
     "metadata": {},
     "outputs": [],
     "prompt_number": 64
    },
    {
     "cell_type": "code",
     "collapsed": false,
     "input": [
      "vocab_size"
     ],
     "language": "python",
     "metadata": {},
     "outputs": [
      {
       "metadata": {},
       "output_type": "pyout",
       "prompt_number": 65,
       "text": [
        "19317"
       ]
      }
     ],
     "prompt_number": 65
    },
    {
     "cell_type": "heading",
     "level": 3,
     "metadata": {},
     "source": [
      "Strings"
     ]
    },
    {
     "cell_type": "code",
     "collapsed": false,
     "input": [
      "name = 'Monty'"
     ],
     "language": "python",
     "metadata": {},
     "outputs": [],
     "prompt_number": 66
    },
    {
     "cell_type": "code",
     "collapsed": false,
     "input": [
      "name[0]"
     ],
     "language": "python",
     "metadata": {},
     "outputs": [
      {
       "metadata": {},
       "output_type": "pyout",
       "prompt_number": 67,
       "text": [
        "'M'"
       ]
      }
     ],
     "prompt_number": 67
    },
    {
     "cell_type": "code",
     "collapsed": false,
     "input": [
      "name[:4]"
     ],
     "language": "python",
     "metadata": {},
     "outputs": [
      {
       "metadata": {},
       "output_type": "pyout",
       "prompt_number": 68,
       "text": [
        "'Mont'"
       ]
      }
     ],
     "prompt_number": 68
    },
    {
     "cell_type": "code",
     "collapsed": false,
     "input": [
      "name * 2"
     ],
     "language": "python",
     "metadata": {},
     "outputs": [
      {
       "metadata": {},
       "output_type": "pyout",
       "prompt_number": 69,
       "text": [
        "'MontyMonty'"
       ]
      }
     ],
     "prompt_number": 69
    },
    {
     "cell_type": "code",
     "collapsed": false,
     "input": [
      "name + '!'"
     ],
     "language": "python",
     "metadata": {},
     "outputs": [
      {
       "metadata": {},
       "output_type": "pyout",
       "prompt_number": 70,
       "text": [
        "'Monty!'"
       ]
      }
     ],
     "prompt_number": 70
    },
    {
     "cell_type": "code",
     "collapsed": false,
     "input": [
      "' '.join(['Monty', 'Python'])"
     ],
     "language": "python",
     "metadata": {},
     "outputs": [
      {
       "metadata": {},
       "output_type": "pyout",
       "prompt_number": 71,
       "text": [
        "'Monty Python'"
       ]
      }
     ],
     "prompt_number": 71
    },
    {
     "cell_type": "code",
     "collapsed": false,
     "input": [
      "'Monty Python'.split()"
     ],
     "language": "python",
     "metadata": {},
     "outputs": [
      {
       "metadata": {},
       "output_type": "pyout",
       "prompt_number": 72,
       "text": [
        "['Monty', 'Python']"
       ]
      }
     ],
     "prompt_number": 72
    },
    {
     "cell_type": "heading",
     "level": 2,
     "metadata": {},
     "source": [
      "1.3 Computing with Language: Simple Statistics"
     ]
    },
    {
     "cell_type": "code",
     "collapsed": false,
     "input": [
      "saying = ['After', 'all', 'is', 'said', 'and', 'done', 'more', 'is', 'said', 'than', 'done']"
     ],
     "language": "python",
     "metadata": {},
     "outputs": [],
     "prompt_number": 73
    },
    {
     "cell_type": "code",
     "collapsed": false,
     "input": [
      "tokens = set(saying)"
     ],
     "language": "python",
     "metadata": {},
     "outputs": [],
     "prompt_number": 74
    },
    {
     "cell_type": "code",
     "collapsed": false,
     "input": [
      "tokens = sorted(tokens)"
     ],
     "language": "python",
     "metadata": {},
     "outputs": [],
     "prompt_number": 75
    },
    {
     "cell_type": "code",
     "collapsed": false,
     "input": [
      "tokens[-2:]"
     ],
     "language": "python",
     "metadata": {},
     "outputs": [
      {
       "metadata": {},
       "output_type": "pyout",
       "prompt_number": 76,
       "text": [
        "['said', 'than']"
       ]
      }
     ],
     "prompt_number": 76
    },
    {
     "cell_type": "code",
     "collapsed": false,
     "input": [],
     "language": "python",
     "metadata": {},
     "outputs": []
    }
   ],
   "metadata": {}
  }
 ]
}