{
 "metadata": {
  "name": ""
 },
 "nbformat": 3,
 "nbformat_minor": 0,
 "worksheets": [
  {
   "cells": [
    {
     "cell_type": "raw",
     "metadata": {},
     "source": [
      "\ud30c\uc774\uc36c\uc744 \uc774\uc6a9\ud55c \uc790\uc5f0\uc5b4\ucc98\ub9ac \n",
      "5. Categorizing and Tagging Words \n",
      "5.1 Using a Tagger\n",
      "5.2 Tagged Corpora\n",
      "5.3 Mapping Words to Properties Using Python Dictionaries\n",
      "5.4 Automatic Tagging\n",
      "5.5 N-Gram Tagging\n",
      "5.6 Transformation-Based Tagging\n",
      "5.7 How to Determine the Category of a Word\n",
      "5.8 Summary\n",
      "5.9 Further Reading\n",
      "5.10 Exercises"
     ]
    },
    {
     "cell_type": "markdown",
     "metadata": {},
     "source": [
      "\uc774 \uc7a5\uc758 \ubaa9\ud45c\n",
      "1. \uc5b4\ud718 \ubc94\uc8fc\ub780 \ubb34\uc5c7\uc774\uace0 \uc774\uac83\uc740 \uc790\uc5f0\uc5b4 \ucc98\ub9ac\uc5d0\uc11c \uc5b4\ub5bb\uac8c \uc0ac\uc6a9\ub418\ub294\uac00?\n",
      "2. storing words\uacfc \uadf8 \ubc94\uc8fc\ud654\uc5d0 \uc88b\uc740 Python data structure\ub294 \ubb34\uc5c7\uc778\uac00?\n",
      "3. \uc5b4\ub5bb\uac8c \ud14d\uc2a4\ud2b8\uc5d0 \uc18d\uc5d0 \uc788\ub294 \ub2e8\uc5b4 \ud074\ub798\uc2a4\uc758 \uac01 \ub2e8\uc5b4\uc5d0 \uc790\ub3d9 \ud0dc\uadf8\ub97c \ud560 \uac83\uc778\uac00?"
     ]
    },
    {
     "cell_type": "heading",
     "level": 1,
     "metadata": {},
     "source": [
      "5.1 Using a Tagger"
     ]
    },
    {
     "cell_type": "code",
     "collapsed": false,
     "input": [
      "import nltk"
     ],
     "language": "python",
     "metadata": {},
     "outputs": [],
     "prompt_number": 1
    },
    {
     "cell_type": "code",
     "collapsed": false,
     "input": [
      "#A part-of-speech tagger, or POS tagger\ub97c \uc774\uc6a9\ud574\uc11c \uac01 \ub2e8\uc5b4\uc5d0 \ud0dc\uadf8\ub97c \ubd99\uc784\n",
      "text = nltk.word_tokenize(\"And now for something completely different\")\n",
      "nltk.pos_tag(text)"
     ],
     "language": "python",
     "metadata": {},
     "outputs": [
      {
       "metadata": {},
       "output_type": "pyout",
       "prompt_number": 8,
       "text": [
        "[('And', 'CC'),\n",
        " ('now', 'RB'),\n",
        " ('for', 'IN'),\n",
        " ('something', 'NN'),\n",
        " ('completely', 'RB'),\n",
        " ('different', 'JJ')]"
       ]
      }
     ],
     "prompt_number": 8
    },
    {
     "cell_type": "code",
     "collapsed": false,
     "input": [
      "text = nltk.word_tokenize(\"They refuse to permit us to obtain the refuse permit\")\n",
      "nltk.pos_tag(text)"
     ],
     "language": "python",
     "metadata": {},
     "outputs": [
      {
       "metadata": {},
       "output_type": "pyout",
       "prompt_number": 27,
       "text": [
        "[('They', 'PRP'),\n",
        " ('refuse', 'VBP'),\n",
        " ('to', 'TO'),\n",
        " ('permit', 'VB'),\n",
        " ('us', 'PRP'),\n",
        " ('to', 'TO'),\n",
        " ('obtain', 'VB'),\n",
        " ('the', 'DT'),\n",
        " ('refuse', 'NN'),\n",
        " ('permit', 'NN')]"
       ]
      }
     ],
     "prompt_number": 27
    },
    {
     "cell_type": "raw",
     "metadata": {},
     "source": [
      "refuse\uac00 \ub450 \ubc88 \ub098\uc624\ub294\ub370 \n",
      "\uc55e\uc5d0\ub294 refuse |rifj\u00fa\u02d0z| \ud604\uc7ac\uc2dc\uc81c \ub3d9\uc0ac((VBP)\uc774\uace0 '\uac70\uc808\ud558\ub2e4'\uc774\uace0\n",
      "\ub4a4\uc5d0\ub294 refuse |r\u00e9fju\u02d0s|\uba85\uc0ac(NN) \uc4f0\ub808\uae30\ub77c\ub294 \ub73b\uc774\ub2e4. \n",
      "\uc774\ub7f0 \ub3d9\ud615\uc5b4(\ub610\ub294 \ub3d9\uc74c\uc774\uc758\uc5b4) \ub54c\ubb38\uc5d0  text-to-speech systems\uc740 POS tagging\uc744 \uc4f4\ub2e4."
     ]
    },
    {
     "cell_type": "code",
     "collapsed": false,
     "input": [
      "#The text.similar() method \n",
      "#\ub2e8\uc5b4(\ub610\ub294 \ub2e8\uc5b4\ub4e4) w \uac00 \uc788\uc73c\uba74  \uadf8 \uc804\ud6c4\uc5d0  w1 w w2\ub97c \ucc3e\uc544\uc900\ub2e4.\n",
      "\n",
      "text = nltk.Text(word.lower() for word in nltk.corpus.brown.words())\n",
      "text.similar('woman')"
     ],
     "language": "python",
     "metadata": {},
     "outputs": [
      {
       "output_type": "stream",
       "stream": "stdout",
       "text": [
        "man time day year car moment world family house country child boy\n",
        "state job way war girl place word work\n"
       ]
      }
     ],
     "prompt_number": 29
    },
    {
     "cell_type": "code",
     "collapsed": false,
     "input": [
      "text.similar('bought')"
     ],
     "language": "python",
     "metadata": {},
     "outputs": [
      {
       "output_type": "stream",
       "stream": "stdout",
       "text": [
        "made said put done seen had found left given heard brought got been\n",
        "was set told took in felt that\n"
       ]
      }
     ],
     "prompt_number": 30
    },
    {
     "cell_type": "code",
     "collapsed": false,
     "input": [
      "text.similar('over')"
     ],
     "language": "python",
     "metadata": {},
     "outputs": [
      {
       "output_type": "stream",
       "stream": "stdout",
       "text": [
        "in on to of and for with from at by that into as up out down through\n",
        "is all about\n"
       ]
      }
     ],
     "prompt_number": 31
    },
    {
     "cell_type": "code",
     "collapsed": false,
     "input": [
      "text.similar('the')\n",
      "#\ud488\uc0ac \ubd84\ub958 \ubabb \ud55c \ub2e8\uc5b4\ub294 unknown word\ub85c \ub098\uc628\ub2e4."
     ],
     "language": "python",
     "metadata": {},
     "outputs": [
      {
       "output_type": "stream",
       "stream": "stdout",
       "text": [
        "a his this their its her an that our any all one these my in your no\n",
        "some other and\n"
       ]
      }
     ],
     "prompt_number": 32
    },
    {
     "cell_type": "heading",
     "level": 2,
     "metadata": {},
     "source": [
      "5.2 Tagged Corpora\n",
      "Representing Tagged Tokens"
     ]
    },
    {
     "cell_type": "heading",
     "level": 2,
     "metadata": {},
     "source": [
      "Representing Tagged Tokens"
     ]
    },
    {
     "cell_type": "code",
     "collapsed": false,
     "input": [
      "##Representing Tagged Tokens\n",
      "tagged_token = nltk.tag.str2tuple('fly/NN')\n",
      "tagged_token"
     ],
     "language": "python",
     "metadata": {},
     "outputs": [
      {
       "metadata": {},
       "output_type": "pyout",
       "prompt_number": 12,
       "text": [
        "('fly', 'NN')"
       ]
      }
     ],
     "prompt_number": 12
    },
    {
     "cell_type": "code",
     "collapsed": false,
     "input": [
      "tagged_token[0]"
     ],
     "language": "python",
     "metadata": {},
     "outputs": [
      {
       "metadata": {},
       "output_type": "pyout",
       "prompt_number": 13,
       "text": [
        "'fly'"
       ]
      }
     ],
     "prompt_number": 13
    },
    {
     "cell_type": "code",
     "collapsed": false,
     "input": [
      "tagged_token[1]"
     ],
     "language": "python",
     "metadata": {},
     "outputs": [
      {
       "metadata": {},
       "output_type": "pyout",
       "prompt_number": 14,
       "text": [
        "'NN'"
       ]
      }
     ],
     "prompt_number": 14
    },
    {
     "cell_type": "raw",
     "metadata": {},
     "source": [
      "\ud1a0\ud070\uc740 \ubb34\uc5c7\uc778\uac00? \n",
      "\uc601\uc5b4\uc758 \uc608) 'be \ub3d9\uc0ac'\ub294 am, is, are, was, were, be, been\uacfc \uac19\uc774 \ub2e4\uc591\ud558\uac8c \ub098\ud0c0\ub0a0 \uc218 \uc788\ub2e4. \n",
      "\uad6d\uc5b4\uc758 \uc608) '\uc774\ub2e4'\ub294 -\uc774\ub124, -\uc774\uad6c\ub098, -\uc774\uc5c8\ub2e4, -\uc784 \uacfc \uac19\uc774 \ub2e4\uc591\ud55c \uc885\uacb0\ud45c\ud604\uacfc \ud568\uaed8 \ub098\ud0c0\ub0a0 \uc218 \uc788\ub2e4.\n",
      "\uc774 \uacbd\uc6b0 \uc774 \ub4e4\uc740 \ubaa8\ub450 \ub2e4\ub978 \ub2e8\uc5b4\ub85c \uac04\uc8fc\ud558\uc9c0\ub9cc \ud1a0\ud070\uc740 \ud558\ub098\uc774\ub2e4. \n",
      " <Your turn>\n",
      "\ub9d0\ubb49\uce58\uc5d0\uc11c \ub2e8\uc5b4\uc758 \uc55e\uacfc \ub4a4\uc5d0 \ud1a0\ud070\uc758 \uac1c\uc218\ub97c \ub298\ub824\ub098\uac00\uba74\uc11c \ubcf8\ub2e4\uba74 \uc5b4\ub5a4 \uc7a5\uc810\uc774 \uc788\uc744\uae4c?"
     ]
    },
    {
     "cell_type": "code",
     "collapsed": false,
     "input": [
      "#\uc2a4\ud2b8\ub9c1\uc744 \uc9c1\uc811 \ud0dc\uadf8\ub41c \ud1a0\ud070\uc758 \ub9ac\uc2a4\ud2b8 \uad6c\uc870\ub85c \ub9cc\ub4e4 \uc218\ub3c4 \uc788\ub2e4.\n",
      "#\uba3c\uc800, word/tag string\uc5d0 \uc811\uadfc\ud558\uace0\n",
      "#\uac01\uac01\uc744 \ud29c\ud50c\ub85c \ubc14\uafb8\uc790.\n",
      "#str2tuple()\ub97c \uc774\uc6a9\ud55c\ub2e4. \n",
      "    \n",
      "sent = '''\n",
      "[nltk.tag.str2tuple(t) for t in sent.split()]"
     ],
     "language": "python",
     "metadata": {},
     "outputs": [
      {
       "ename": "SyntaxError",
       "evalue": "EOF while scanning triple-quoted string literal (<ipython-input-35-fad96a037bf3>, line 7)",
       "output_type": "pyerr",
       "traceback": [
        "\u001b[0;36m  File \u001b[0;32m\"<ipython-input-35-fad96a037bf3>\"\u001b[0;36m, line \u001b[0;32m7\u001b[0m\n\u001b[0;31m    [nltk.tag.str2tuple(t) for t in sent.split()]\u001b[0m\n\u001b[0m                                                 \n^\u001b[0m\n\u001b[0;31mSyntaxError\u001b[0m\u001b[0;31m:\u001b[0m EOF while scanning triple-quoted string literal\n"
       ]
      }
     ],
     "prompt_number": 35
    },
    {
     "cell_type": "raw",
     "metadata": {},
     "source": [
      "\uc5d0\ub7ec\ub09c \ubd80\ubd84\uc774 \ucc45\ub300\ub85c\ub77c\uba74 \uc774\ub807\uac8c \ub098\uc640\uc57c \ud568\n",
      ">>> sent = '''\n",
      "... The/AT grand/JJ jury/NN commented/VBD on/IN a/AT number/NN of/IN\n",
      "... other/AP topics/NNS ,/, AMONG/IN them/PPO the/AT Atlanta/NP and/CC\n",
      "... Fulton/NP-tl County/NN-tl purchasing/VBG departments/NNS which/WDT it/PPS\n",
      "... said/VBD ``/`` ARE/BER well/QL operated/VBN and/CC follow/VB generally/RB\n",
      "... accepted/VBN practices/NNS which/WDT inure/VB to/IN the/AT best/JJT\n",
      "... interest/NN of/IN both/ABX governments/NNS ''/'' ./.\n",
      "... '''\n",
      ">>> [nltk.tag.str2tuple(t) for t in sent.split()]\n",
      "[('The', 'AT'), ('grand', 'JJ'), ('jury', 'NN'), ('commented', 'VBD'),\n",
      "('on', 'IN'), ('a', 'AT'), ('number', 'NN'), ... ('.', '.')]"
     ]
    },
    {
     "cell_type": "heading",
     "level": 2,
     "metadata": {},
     "source": [
      "Reading Tagged Corpora"
     ]
    },
    {
     "cell_type": "raw",
     "metadata": {},
     "source": [
      "\ube0c\ub77c\uc6b4 \ucf54\ud37c\uc2a4 \ud14d\uc2a4\ud2b8 \uc5d0\ub514\ud130\uc758 \ud30c\uc77c\uc744 \uc5f4\uba74 \uc774\ub7f0 \ud615\ud0dc\ub85c \ub418\uc5b4 \uc788\ub2e4.\n",
      "The/at Fulton/np-tl County/nn-tl Grand/jj-tl Jury/nn-tl said/vbd Friday/nr an/at investigation/nn\n",
      "of/in Atlanta\u2019s/np$ recent/jj primary/nn election/nn produced/vbd / no/at\n",
      "evidence/nn ''/'' that/cs any/dti irregularities/nns took/vbd place/nn ./.\n",
      "\ubaa8\ub4e0 \ucf54\ud37c\uc2a4\uac00 \ub3d9\uc77c\ud55c \ud3ec\uba67\uc744 \uac00\uc9c0\uace0 \uc788\ub294 \uac83\uc740 \uc544\ub2c8\uc9c0\ub9cc \uac71\uc815\ud560 \ud544\uc694\ub294 \uc5c6\ub2e4. \n",
      "NLTK\u2019s corpus readers\uac00 uniform interface\ub97c \uc81c\uacf5\ud574 \uc8fc\uae30 \ub54c\ubb38\uc774\ub2e4.\n",
      "(\uc6b0\ub9ac\uac00 \ud560 \uc77c\uc740 \ubd84\uc11d\ubfd0?!)"
     ]
    },
    {
     "cell_type": "code",
     "collapsed": false,
     "input": [
      "nltk.corpus.brown.tagged_words()"
     ],
     "language": "python",
     "metadata": {},
     "outputs": [
      {
       "metadata": {},
       "output_type": "pyout",
       "prompt_number": 14,
       "text": [
        "[(u'The', u'AT'), (u'Fulton', u'NP-TL'), ...]"
       ]
      }
     ],
     "prompt_number": 14
    },
    {
     "cell_type": "code",
     "collapsed": false,
     "input": [
      " nltk.corpus.conll2000.tagged_words()"
     ],
     "language": "python",
     "metadata": {},
     "outputs": [
      {
       "metadata": {},
       "output_type": "pyout",
       "prompt_number": 36,
       "text": [
        "[(u'Confidence', u'NN'), (u'in', u'IN'), ...]"
       ]
      }
     ],
     "prompt_number": 36
    },
    {
     "cell_type": "code",
     "collapsed": false,
     "input": [
      " nltk.corpus.treebank.tagged_words()"
     ],
     "language": "python",
     "metadata": {},
     "outputs": [
      {
       "metadata": {},
       "output_type": "pyout",
       "prompt_number": 37,
       "text": [
        "[(u'Pierre', u'NNP'), (u'Vinken', u'NNP'), ...]"
       ]
      }
     ],
     "prompt_number": 37
    },
    {
     "cell_type": "code",
     "collapsed": false,
     "input": [
      "# readme() methods\ub97c \uc0ac\uc6a9\ud574\uc11c \ud0dc\uadf8\uc14b\uc758 \uc774\ub7f0 \ubcf5\uc7a1\ud568\uc744 \ud53c\ud560 \uc218 \uc788\ub2e4.\n",
      "nltk.corpus.brown.tagged_words(simplify_tags=True)"
     ],
     "language": "python",
     "metadata": {},
     "outputs": [
      {
       "ename": "TypeError",
       "evalue": "tagged_words() got an unexpected keyword argument 'simplify_tags'",
       "output_type": "pyerr",
       "traceback": [
        "\u001b[0;31m---------------------------------------------------------------------------\u001b[0m\n\u001b[0;31mTypeError\u001b[0m                                 Traceback (most recent call last)",
        "\u001b[0;32m<ipython-input-15-dcf0c78aeea0>\u001b[0m in \u001b[0;36m<module>\u001b[0;34m()\u001b[0m\n\u001b[0;32m----> 1\u001b[0;31m \u001b[0mnltk\u001b[0m\u001b[0;34m.\u001b[0m\u001b[0mcorpus\u001b[0m\u001b[0;34m.\u001b[0m\u001b[0mbrown\u001b[0m\u001b[0;34m.\u001b[0m\u001b[0mtagged_words\u001b[0m\u001b[0;34m(\u001b[0m\u001b[0msimplify_tags\u001b[0m\u001b[0;34m=\u001b[0m\u001b[0mTrue\u001b[0m\u001b[0;34m)\u001b[0m\u001b[0;34m\u001b[0m\u001b[0m\n\u001b[0m",
        "\u001b[0;31mTypeError\u001b[0m: tagged_words() got an unexpected keyword argument 'simplify_tags'"
       ]
      }
     ],
     "prompt_number": 15
    },
    {
     "cell_type": "code",
     "collapsed": false,
     "input": [
      " nltk.corpus.treebank.tagged_words(simplify_tags=True)"
     ],
     "language": "python",
     "metadata": {},
     "outputs": [
      {
       "ename": "TypeError",
       "evalue": "tagged_words() got an unexpected keyword argument 'simplify_tags'",
       "output_type": "pyerr",
       "traceback": [
        "\u001b[0;31m---------------------------------------------------------------------------\u001b[0m\n\u001b[0;31mTypeError\u001b[0m                                 Traceback (most recent call last)",
        "\u001b[0;32m<ipython-input-38-8da0568748fc>\u001b[0m in \u001b[0;36m<module>\u001b[0;34m()\u001b[0m\n\u001b[0;32m----> 1\u001b[0;31m \u001b[0mnltk\u001b[0m\u001b[0;34m.\u001b[0m\u001b[0mcorpus\u001b[0m\u001b[0;34m.\u001b[0m\u001b[0mtreebank\u001b[0m\u001b[0;34m.\u001b[0m\u001b[0mtagged_words\u001b[0m\u001b[0;34m(\u001b[0m\u001b[0msimplify_tags\u001b[0m\u001b[0;34m=\u001b[0m\u001b[0mTrue\u001b[0m\u001b[0;34m)\u001b[0m\u001b[0;34m\u001b[0m\u001b[0m\n\u001b[0m",
        "\u001b[0;31mTypeError\u001b[0m: tagged_words() got an unexpected keyword argument 'simplify_tags'"
       ]
      }
     ],
     "prompt_number": 38
    },
    {
     "cell_type": "raw",
     "metadata": {},
     "source": [
      "\ucc45 \ub300\ub85c\ub77c\uba74 \uc774\ub807\uac8c \ub098\uc640\uc57c \ud568\n",
      ">>> nltk.corpus.brown.tagged_words(simplify_tags=True)\n",
      "[('The', 'DET'), ('Fulton', 'NP'), ('County', 'N'), ...]\n",
      ">>> nltk.corpus.treebank.tagged_words(simplify_tags=True)\n",
      "[('Pierre', 'NP'), ('Vinken', 'NP'), (',', ','), ...]"
     ]
    },
    {
     "cell_type": "code",
     "collapsed": false,
     "input": [
      "#\uae40\uc815\uc8fc\ub2d8\uc758 \ucf54\uba58\ud2b8\n",
      "#\uad50\uc7ac 5\uc7a5\uc758 \ub0b4\uc6a9\uc5d0\uc11c simplify_tags\ub294 nltk 3.x \uc5d0\uc11c \ub3d9\uc791\ud558\uc9c0 \uc54a\uc2b5\ub2c8\ub2e4. \n",
      "#nltk\uc5d0 universal \uc774\ub77c\ub294 \ub2e8\uc21c\ud654\ub41c \ud0dc\uadf8\uac00 \ub3c4\uc785\ub418\uba74\uc11c \uc880 \ubc14\ub00c\uc5c8\ub294\ub370 \uc774\ub294 \n",
      "#http://stackoverflow.com/questions/5787673/python-nltk-how-to-tag-sentences-with-the-simplified-set-of-part-of-speech-tags\n",
      "#\ub9c8\uc9c0\ub9c9 \ub2f5\ubcc0\uc5d0 \ub098\uc624\ub294 map_tag\ub97c \ud1b5\ud574 \ubcc0\ud658\ud558\uc2e4 \uc218 \uc788\uc2b5\ub2c8\ub2e4. \n",
      "#\uadf8\ub7ec\ub098 \uc774 universal \ud0dc\uadf8\ub97c \uc0ac\uc6a9\ud558\uba74 \uc758\ub3c4\ub294 \ube44\uc2b7\ud558\ub098 \uacb0\uacfc\ub294 \uad50\uc7ac\uc640 \ub2e4\ub974\uac8c \ub098\uc624\ub294 \uc810\uc744 \uace0\ub824\ud558\uc154\uc57c \ud558\uaca0\uc2b5\ub2c8\ub2e4.\n",
      "# \ucf54\uba58\ud2b8 \ud574\uc8fc\uc2e0 \ucd9c\ucc98\uc5d0\uc11c \uc5bb\uc740 \ucf54\ub4dc\n",
      "\n",
      "import nltk\n",
      "from nltk.tag import pos_tag, map_tag\n",
      "\n",
      "text = nltk.word_tokenize(\"And now for something completely different\")\n",
      "posTagged = pos_tag(text)\n",
      "simplifiedTags = [(word, map_tag('en-ptb', 'universal', tag)) for word, tag in posTagged]\n",
      "print(simplifiedTags)\n"
     ],
     "language": "python",
     "metadata": {},
     "outputs": [
      {
       "output_type": "stream",
       "stream": "stdout",
       "text": [
        "[('And', u'CONJ'), ('now', u'ADV'), ('for', u'ADP'), ('something', u'NOUN'), ('completely', u'ADV'), ('different', u'ADJ')]\n"
       ]
      }
     ],
     "prompt_number": 47
    },
    {
     "cell_type": "code",
     "collapsed": false,
     "input": [
      "# Chinese,Hindi, Portuguese, Spanish, Dutch, Catalan\uacfc \uac19\uc740 \uc5b8\uc5b4\ub4e4\uc774 \n",
      "#\uc544\uc2a4\ud0a4 \ud14d\uc2a4\ud2b8\ub85c \ub418\uc5b4 \uc788\uc9c0 \uc558\uace0 \ub9ac\uc2a4\ud2b8 \uad6c\uc870\uac00 \ud06c\uba74 \n",
      "#\ud30c\uc774\uc36c\uc5d0\uc11c \ub2e4\uc74c\uacfc \uac19\uc740 16\uc9c4\ubc95\uc744 \ubcf4\uc5ec\uc900\ub2e4.  \n",
      " \n",
      "nltk.corpus.sinica_treebank.tagged_words()"
     ],
     "language": "python",
     "metadata": {},
     "outputs": [
      {
       "metadata": {},
       "output_type": "pyout",
       "prompt_number": 41,
       "text": [
        "[(u'\\u4e00', u'Neu'), (u'\\u53cb\\u60c5', u'Nad'), ...]"
       ]
      }
     ],
     "prompt_number": 41
    },
    {
     "cell_type": "code",
     "collapsed": false,
     "input": [
      " nltk.corpus.indian.tagged_words()"
     ],
     "language": "python",
     "metadata": {},
     "outputs": [
      {
       "metadata": {},
       "output_type": "pyout",
       "prompt_number": 42,
       "text": [
        "[(u'\\u09ae\\u09b9\\u09bf\\u09b7\\u09c7\\u09b0', u'NN'), (u'\\u09b8\\u09a8\\u09cd\\u09a4\\u09be\\u09a8', u'NN'), ...]"
       ]
      }
     ],
     "prompt_number": 42
    },
    {
     "cell_type": "code",
     "collapsed": false,
     "input": [
      " nltk.corpus.mac_morpho.tagged_words()"
     ],
     "language": "python",
     "metadata": {},
     "outputs": [
      {
       "metadata": {},
       "output_type": "pyout",
       "prompt_number": 43,
       "text": [
        "[(u'Jersei', u'N'), (u'atinge', u'V'), ...]"
       ]
      }
     ],
     "prompt_number": 43
    },
    {
     "cell_type": "code",
     "collapsed": false,
     "input": [
      " nltk.corpus.conll2002.tagged_words()"
     ],
     "language": "python",
     "metadata": {},
     "outputs": [
      {
       "metadata": {},
       "output_type": "pyout",
       "prompt_number": 44,
       "text": [
        "[(u'Sao', u'NC'), (u'Paulo', u'VMI'), (u'(', u'Fpa'), ...]"
       ]
      }
     ],
     "prompt_number": 44
    },
    {
     "cell_type": "code",
     "collapsed": false,
     "input": [
      "nltk.corpus.cess_cat.tagged_words() \n",
      "#\uacb0\ub860: \uc801\uc808\ud55c \uc5d0\ub514\ud130\uc640 \ud3f0\ud2b8\ub97c \uc4f0\uc2dc\ub77c."
     ],
     "language": "python",
     "metadata": {},
     "outputs": [
      {
       "metadata": {},
       "output_type": "pyout",
       "prompt_number": 45,
       "text": [
        "[(u'El', u'da0ms0'), (u'Tribunal_Suprem', u'np0000o'), ...]"
       ]
      }
     ],
     "prompt_number": 45
    },
    {
     "cell_type": "heading",
     "level": 2,
     "metadata": {},
     "source": [
      "A Simplified Part-of-Speech Tagset"
     ]
    },
    {
     "cell_type": "raw",
     "metadata": {},
     "source": [
      "Tag Meaning Examples\n",
      "ADJ adjective new, good, high, special, big, local\n",
      "ADV adverb really, already, still, early, now\n",
      "CNJ conjunction and, or, but, if, while, although\n",
      "DET determiner the, a, some, most, every, no\n",
      "EX existential there, there\u2019s\n",
      "FW foreign word dolce, ersatz, esprit, quo, maitre\n",
      "MOD modal verb will, can, would, may, must, should\n",
      "N noun year, home, costs, time, education\n",
      "NP proper noun Alison, Africa, April, Washington\n",
      "NUM number twenty-four, fourth, 1991, 14:24\n",
      "PRO pronoun he, their, her, its, my, I, us\n",
      "P preposition on, of, at, with, by, into, under\n",
      "TO the word to to\n",
      "UH interjection ah, bang, ha, whee, hmpf, oops\n",
      "V verb is, has, get, do, make, see, run\n",
      "VD past tense said, took, told, made, asked\n",
      "VG present participle making, going, playing, working\n",
      "VN past participle given, taken, begun, sung\n",
      "WH wh determiner who, which, when, what, where, how"
     ]
    },
    {
     "cell_type": "code",
     "collapsed": false,
     "input": [
      "# \ube0c\ub77c\uc6b4 \ucf54\ud37c\uc2a4\uc758 \ub274\uc2a4 \uce74\ud14c\uace0\ub9ac\uc5d0\uc11c \uac00\uc7a5 \ud754\ud788 \ub4f1\uc7a5\ud558\ub294 \ud0dc\uadf8\ub294 \ubb58\uae4c?\n",
      "from nltk.corpus import brown\n",
      "brown_news_tagged = brown.tagged_words(categories='news', simplify_tags=True)\n",
      "tag_fd = nltk.FreqDist(tag for (word, tag) in brown_news_tagged)\n",
      "tag_fd.keys()"
     ],
     "language": "python",
     "metadata": {},
     "outputs": []
    },
    {
     "cell_type": "raw",
     "metadata": {},
     "source": [
      "\uba85\uc0ac: \uc815\uc758\ub294 \uc0dd\ub7b5\ud55c\ub2e4.\n",
      "(\uba85\uc0ac\uc758 \uc55e\ub4a4\ub85c \uc190\uc7a1\uace0 \uc788\ub294 \uce5c\uad6c\ub4e4\uc744 \ubcf4\uc790.)\n",
      "\uc544\ub798 \uc608\ubb38\uc744 \ubcf4\uba74 \uba85\uc0ac\ub294 \uad00\uc0ac\uc758 \ub4a4\uc5d0 \uc624\uace0 \ub3d9\uc0ac\uc758 \uc8fc\uc5b4\ub85c \uc628\ub2e4.\n",
      "Table 5-2. Syntactic patterns involving some nouns\n",
      "\n",
      "Word After a determiner                                 Subject of the verb\n",
      "woman the woman who I saw yesterday ...                 the woman sat down\n",
      "Scotland the Scotland I remember as a child ...         Scotland has five million people\n",
      "book the book I bought yesterday ...                    this book recounts the colonization of Australia\n",
      "intelligence the intelligence displayed by the child ...Mary\u2019s intelligence impressed her teachers"
     ]
    },
    {
     "cell_type": "code",
     "collapsed": false,
     "input": [
      "import nltk\n",
      "from nltk.tag import pos_tag, map_tag\n",
      "\n",
      "text = nltk.word_tokenize(\"And now for something completely different\")\n",
      "posTagged = pos_tag(text)\n",
      "simplifiedTags = [(word, map_tag('en-ptb', 'universal', tag)) for word, tag in posTagged]\n",
      "print(simplifiedTags)"
     ],
     "language": "python",
     "metadata": {},
     "outputs": [
      {
       "output_type": "stream",
       "stream": "stdout",
       "text": [
        "[('And', u'CONJ'), ('now', u'ADV'), ('for', u'ADP'), ('something', u'NOUN'), ('completely', u'ADV'), ('different', u'ADJ')]\n"
       ]
      }
     ],
     "prompt_number": 4
    },
    {
     "cell_type": "raw",
     "metadata": {},
     "source": [
      "\ub3d9\uc0ac:\uc815\uc758\ub294 \uc0dd\ub7b5\n",
      "(\ub3d9\uc0ac\uc640 \uc190\uc7a1\uace0 \uc788\ub294 \uce5c\uad6c\ub4e4\uc744 \ubcf4\uc790.)\n",
      "\ud558\ub098 \uc774\uc0c1\uc758 \uba85\uc0ac\uad6c\ub97c \ucc38\uc870\ud558\ub294 \uac83\uc744 \ubcfc \uc218 \uc788\ub2e4. \n",
      "(\uba85\uc0ac\uad6c\ub97c \ub298 \ucc38\uace0\ud558\ub294 \ucc29\ud55c \ub3d9\uc0ac\uad70!)\n",
      "\n",
      "Table 5-3. Syntactic patterns involving some verbs\n",
      "\n",
      "Word   Simple          With modifiers and adjuncts (italicized)\n",
      "fall Rome fell         Dot com stocks suddenly fell like a stone\n",
      "eat Mice eat cheese    John ate the pizza with gusto"
     ]
    },
    {
     "cell_type": "code",
     "collapsed": false,
     "input": [
      "# \ubb34\uc5c7\uc774 \ub274\uc2a4 \ud14d\uc2a4\ud2b8\uc5d0\uc11c \uac00\uc7a5 \ud754\ud55c \ub3d9\uc0ac\uc77c\uae4c? \ube48\ub3c4\ub97c \uc0b4\ud3b4 \ubd05\uc2dc\ub2e4. \n",
      "wsj = nltk.corpus.treebank.tagged_words(simplify_tags=True)\n",
      "word_tag_fd = nltk.FreqDist(wsj)"
     ],
     "language": "python",
     "metadata": {},
     "outputs": [
      {
       "ename": "TypeError",
       "evalue": "tagged_words() got an unexpected keyword argument 'simplify_tags'",
       "output_type": "pyerr",
       "traceback": [
        "\u001b[0;31m---------------------------------------------------------------------------\u001b[0m\n\u001b[0;31mTypeError\u001b[0m                                 Traceback (most recent call last)",
        "\u001b[0;32m<ipython-input-60-123a6564fb3e>\u001b[0m in \u001b[0;36m<module>\u001b[0;34m()\u001b[0m\n\u001b[1;32m      1\u001b[0m \u001b[0;31m# \ubb34\uc5c7\uc774 \ub274\uc2a4 \ud14d\uc2a4\ud2b8\uc5d0\uc11c \uac00\uc7a5 \ud754\ud55c \ub3d9\uc0ac\uc77c\uae4c? \ube48\ub3c4\ub97c \uc0b4\ud3b4 \ubd05\uc2dc\ub2e4.\u001b[0m\u001b[0;34m\u001b[0m\u001b[0;34m\u001b[0m\u001b[0m\n\u001b[0;32m----> 2\u001b[0;31m \u001b[0mwsj\u001b[0m \u001b[0;34m=\u001b[0m \u001b[0mnltk\u001b[0m\u001b[0;34m.\u001b[0m\u001b[0mcorpus\u001b[0m\u001b[0;34m.\u001b[0m\u001b[0mtreebank\u001b[0m\u001b[0;34m.\u001b[0m\u001b[0mtagged_words\u001b[0m\u001b[0;34m(\u001b[0m\u001b[0msimplify_tags\u001b[0m\u001b[0;34m=\u001b[0m\u001b[0mTrue\u001b[0m\u001b[0;34m)\u001b[0m\u001b[0;34m\u001b[0m\u001b[0m\n\u001b[0m\u001b[1;32m      3\u001b[0m \u001b[0mword_tag_fd\u001b[0m \u001b[0;34m=\u001b[0m \u001b[0mnltk\u001b[0m\u001b[0;34m.\u001b[0m\u001b[0mFreqDist\u001b[0m\u001b[0;34m(\u001b[0m\u001b[0mwsj\u001b[0m\u001b[0;34m)\u001b[0m\u001b[0;34m\u001b[0m\u001b[0m\n",
        "\u001b[0;31mTypeError\u001b[0m: tagged_words() got an unexpected keyword argument 'simplify_tags'"
       ]
      }
     ],
     "prompt_number": 60
    },
    {
     "cell_type": "raw",
     "metadata": {},
     "source": [
      "#\ub610 \uc5d0\ub7ec!!! \ucc45\ub300\ub85c\ub77c\uba74 \uc774\ub807\uac8c \ub098\uc640\uc57c \ud568\n",
      "['is/V', 'said/VD', 'was/VD', 'are/V', 'be/V', 'has/V', 'have/V', 'says/V',\n",
      "'were/VD', 'had/VD', 'been/VN', \"'s/V\", 'do/V', 'say/V', 'make/V', 'did/VD',\n",
      "'rose/VD', 'does/V', 'expected/VN', 'buy/V', 'take/V', 'get/V', 'sell/V',\n",
      "'help/V', 'added/VD', 'including/VG', 'according/VG', 'made/VN', 'pay/V', ...]"
     ]
    },
    {
     "cell_type": "code",
     "collapsed": false,
     "input": [
      "cfd1 = nltk.ConditionalFreqDist(wsj)\n",
      "cfd1['yield'].keys()\n",
      "#['V', 'N']"
     ],
     "language": "python",
     "metadata": {},
     "outputs": [
      {
       "ename": "TypeError",
       "evalue": "'instancemethod' object is not iterable",
       "output_type": "pyerr",
       "traceback": [
        "\u001b[0;31m---------------------------------------------------------------------------\u001b[0m\n\u001b[0;31mTypeError\u001b[0m                                 Traceback (most recent call last)",
        "\u001b[0;32m<ipython-input-62-67553f503291>\u001b[0m in \u001b[0;36m<module>\u001b[0;34m()\u001b[0m\n\u001b[0;32m----> 1\u001b[0;31m \u001b[0mcfd1\u001b[0m \u001b[0;34m=\u001b[0m \u001b[0mnltk\u001b[0m\u001b[0;34m.\u001b[0m\u001b[0mConditionalFreqDist\u001b[0m\u001b[0;34m(\u001b[0m\u001b[0mwsj\u001b[0m\u001b[0;34m)\u001b[0m\u001b[0;34m\u001b[0m\u001b[0m\n\u001b[0m\u001b[1;32m      2\u001b[0m \u001b[0mcfd1\u001b[0m\u001b[0;34m[\u001b[0m\u001b[0;34m'yield'\u001b[0m\u001b[0;34m]\u001b[0m\u001b[0;34m.\u001b[0m\u001b[0mkeys\u001b[0m\u001b[0;34m(\u001b[0m\u001b[0;34m)\u001b[0m\u001b[0;34m\u001b[0m\u001b[0m\n",
        "\u001b[0;32m/Users/song-yeongsug/Library/Enthought/Canopy_64bit/User/lib/python2.7/site-packages/nltk/probability.pyc\u001b[0m in \u001b[0;36m__init__\u001b[0;34m(self, cond_samples)\u001b[0m\n\u001b[1;32m   1688\u001b[0m         \u001b[0mdefaultdict\u001b[0m\u001b[0;34m.\u001b[0m\u001b[0m__init__\u001b[0m\u001b[0;34m(\u001b[0m\u001b[0mself\u001b[0m\u001b[0;34m,\u001b[0m \u001b[0mFreqDist\u001b[0m\u001b[0;34m)\u001b[0m\u001b[0;34m\u001b[0m\u001b[0m\n\u001b[1;32m   1689\u001b[0m         \u001b[0;32mif\u001b[0m \u001b[0mcond_samples\u001b[0m\u001b[0;34m:\u001b[0m\u001b[0;34m\u001b[0m\u001b[0m\n\u001b[0;32m-> 1690\u001b[0;31m             \u001b[0;32mfor\u001b[0m \u001b[0;34m(\u001b[0m\u001b[0mcond\u001b[0m\u001b[0;34m,\u001b[0m \u001b[0msample\u001b[0m\u001b[0;34m)\u001b[0m \u001b[0;32min\u001b[0m \u001b[0mcond_samples\u001b[0m\u001b[0;34m:\u001b[0m\u001b[0;34m\u001b[0m\u001b[0m\n\u001b[0m\u001b[1;32m   1691\u001b[0m                 \u001b[0mself\u001b[0m\u001b[0;34m[\u001b[0m\u001b[0mcond\u001b[0m\u001b[0;34m]\u001b[0m\u001b[0;34m[\u001b[0m\u001b[0msample\u001b[0m\u001b[0;34m]\u001b[0m \u001b[0;34m+=\u001b[0m \u001b[0;36m1\u001b[0m\u001b[0;34m\u001b[0m\u001b[0m\n\u001b[1;32m   1692\u001b[0m \u001b[0;34m\u001b[0m\u001b[0m\n",
        "\u001b[0;31mTypeError\u001b[0m: 'instancemethod' object is not iterable"
       ]
      }
     ],
     "prompt_number": 62
    },
    {
     "cell_type": "code",
     "collapsed": false,
     "input": [
      "cfd1['cut'].keys()\n",
      "#['V', 'VD', 'N', 'VN']"
     ],
     "language": "python",
     "metadata": {},
     "outputs": [
      {
       "ename": "NameError",
       "evalue": "name 'cfd1' is not defined",
       "output_type": "pyerr",
       "traceback": [
        "\u001b[0;31m---------------------------------------------------------------------------\u001b[0m\n\u001b[0;31mNameError\u001b[0m                                 Traceback (most recent call last)",
        "\u001b[0;32m<ipython-input-64-74d0a1900e87>\u001b[0m in \u001b[0;36m<module>\u001b[0;34m()\u001b[0m\n\u001b[0;32m----> 1\u001b[0;31m \u001b[0mcfd1\u001b[0m\u001b[0;34m[\u001b[0m\u001b[0;34m'cut'\u001b[0m\u001b[0;34m]\u001b[0m\u001b[0;34m.\u001b[0m\u001b[0mkeys\u001b[0m\u001b[0;34m(\u001b[0m\u001b[0;34m)\u001b[0m\u001b[0;34m\u001b[0m\u001b[0m\n\u001b[0m\u001b[1;32m      2\u001b[0m \u001b[0;31m#['V', 'VD', 'N', 'VN']\u001b[0m\u001b[0;34m\u001b[0m\u001b[0;34m\u001b[0m\u001b[0m\n",
        "\u001b[0;31mNameError\u001b[0m: name 'cfd1' is not defined"
       ]
      }
     ],
     "prompt_number": 64
    },
    {
     "cell_type": "code",
     "collapsed": false,
     "input": [
      "cfd2 = nltk.ConditionalFreqDist((tag, word) for (word, tag) in wsj)\n",
      "cfd2['VN'].keys()\n",
      "#\uc608\uc0c1\ub2f5: ['been', 'expected', 'made', 'compared', 'based', 'priced', 'used', 'sold',\n",
      "'named', 'designed', 'held', 'fined', 'taken', 'paid', 'traded', 'said', ...]"
     ],
     "language": "python",
     "metadata": {},
     "outputs": [
      {
       "ename": "SyntaxError",
       "evalue": "invalid syntax (<ipython-input-65-f05870a6781d>, line 4)",
       "output_type": "pyerr",
       "traceback": [
        "\u001b[0;36m  File \u001b[0;32m\"<ipython-input-65-f05870a6781d>\"\u001b[0;36m, line \u001b[0;32m4\u001b[0m\n\u001b[0;31m    'named', 'designed', 'held', 'fined', 'taken', 'paid', 'traded', 'said', ...]\u001b[0m\n\u001b[0m                                                                             ^\u001b[0m\n\u001b[0;31mSyntaxError\u001b[0m\u001b[0;31m:\u001b[0m invalid syntax\n"
       ]
      }
     ],
     "prompt_number": 65
    },
    {
     "cell_type": "code",
     "collapsed": false,
     "input": [
      "#\uacfc\uac70 \uc2dc\uc81c VD (past tense)\uc640 \uacfc\uac70 \ubd84\uc0acVN (past participle)\uc758 \uad6c\ubcc4\ud558\uae30 \uc704\ud574\uc11c \n",
      "#VD\uc640 VD\uac00 \ubaa8\ub450 \uac00\ub2a5\ud55c  \ub3d9\uc0ac\ub4e4\uc744 \ucc3e\uc544\ubcf4\uc790.  \n",
      "\n",
      "[w for w in cfd1.conditions() if 'VD' in cfd1[w] and 'VN' in cfd1[w]]\n",
      "\n",
      "#\uc608\uc0c1\ub2f5: ['Asked', 'accelerated', 'accepted', 'accused', 'acquired', 'added', 'adopted', ...]\n",
      "\n",
      "idx1 = wsj.index(('kicked', 'VD'))\n",
      "wsj[idx1-4:idx1+1]\n",
      "\n",
      "#\uc608\uc0c1\ub2f5: [('While', 'P'), ('program', 'N'), ('trades', 'N'), ('swiftly', 'ADV'),\n",
      "('kicked', 'VD')]\n",
      "\n",
      "idx2 = wsj.index(('kicked', 'VN'))\n",
      "wsj[idx2-4:idx2+1]\n",
      "\n",
      "#\uc608\uc0c1\ub2f5: [('head', 'N'), ('of', 'P'), ('state', 'N'), ('has', 'V'), ('kicked', 'VN')]\n"
     ],
     "language": "python",
     "metadata": {},
     "outputs": [
      {
       "ename": "SyntaxError",
       "evalue": "invalid syntax (<ipython-input-68-42e82bdbd16c>, line 12)",
       "output_type": "pyerr",
       "traceback": [
        "\u001b[0;36m  File \u001b[0;32m\"<ipython-input-68-42e82bdbd16c>\"\u001b[0;36m, line \u001b[0;32m12\u001b[0m\n\u001b[0;31m    ('kicked', 'VD')]\u001b[0m\n\u001b[0m                    ^\u001b[0m\n\u001b[0;31mSyntaxError\u001b[0m\u001b[0;31m:\u001b[0m invalid syntax\n"
       ]
      }
     ],
     "prompt_number": 68
    },
    {
     "cell_type": "heading",
     "level": 2,
     "metadata": {},
     "source": [
      "Adjectives and Adverbs"
     ]
    },
    {
     "cell_type": "raw",
     "metadata": {},
     "source": [
      "\ud615\uc6a9\uc0ac: \n",
      "\uba85\uc0ac\ub97c \ubb18\uc0ac\ud558\uae30\ub3c4 \ud558\uace0\n",
      "\ud55c\uc815\uc801\uc73c\ub85c \uc4f0\uc774\uba70. (\uc608: large in the large pizza)\n",
      "\ub610 \uc11c\uc220\uc5b4\ub85c\ub3c4 \uc4f0\uc778\ub2e4.(the pizza is large)\n",
      "\uac8c\ub2e4\uac00 \uc601\uc5b4\uc758 \ud615\uc6a9\uc0ac\ub294 \ub0b4\uc7ac\uc801 \uad6c\uc870\uc77c \uc218\ub3c4 \uc788\ub2e4. \uc608) fall+ing in the falling stocks\n",
      "\n",
      "\ubd80\uc0ac: \n",
      "\ub3d9\uc0ac \uc218\uc2dd: (\uc608:quickly in the stocks fell quickly\n",
      "\ubd80\uc0ac \uc218\uc2dd: (\uc608:really in Mary\u2019s teacher was really nice)\n",
      "\n",
      "\uc804\uce58\uc0ac:\n",
      "\uc601\uc5b4\uc5d0\uc11c \uba87 \uac1c\uc758 \ub2e8\uc5b4 \ubc94\uc8fc\ub294 \uc804\uce58\uc0ac\uc5d0 \uac00\uae5d\ub2c8\ub2e4.\n",
      "articles (also often called determiners) (e.g., the, a)\n",
      "modals (e.g., should, may)\n",
      "personal pronouns (e.g., she, they)"
     ]
    },
    {
     "cell_type": "heading",
     "level": 2,
     "metadata": {},
     "source": [
      "Unsimplified Tags"
     ]
    },
    {
     "cell_type": "code",
     "collapsed": false,
     "input": [
      "def findtags(tag_prefix, tagged_text):\n",
      "cfd = nltk.ConditionalFreqDist((tag, word) for (word, tag) in tagged_text\n",
      "if tag.startswith(tag_prefix))\n",
      "return dict((tag, cfd[tag].keys()[:5]) for tag in cfd.conditions())\n",
      "\n",
      "tagdict = findtags('NN', nltk.corpus.brown.tagged_words(categories='news'))\n",
      "for tag in sorted(tagdict):\n",
      "    print tag, tagdict[tag]"
     ],
     "language": "python",
     "metadata": {},
     "outputs": [
      {
       "ename": "NameError",
       "evalue": "name 'findtags' is not defined",
       "output_type": "pyerr",
       "traceback": [
        "\u001b[0;31m---------------------------------------------------------------------------\u001b[0m\n\u001b[0;31mNameError\u001b[0m                                 Traceback (most recent call last)",
        "\u001b[0;32m<ipython-input-69-4bcbf9ab1bd2>\u001b[0m in \u001b[0;36m<module>\u001b[0;34m()\u001b[0m\n\u001b[0;32m----> 1\u001b[0;31m \u001b[0mtagdict\u001b[0m \u001b[0;34m=\u001b[0m \u001b[0mfindtags\u001b[0m\u001b[0;34m(\u001b[0m\u001b[0;34m'NN'\u001b[0m\u001b[0;34m,\u001b[0m \u001b[0mnltk\u001b[0m\u001b[0;34m.\u001b[0m\u001b[0mcorpus\u001b[0m\u001b[0;34m.\u001b[0m\u001b[0mbrown\u001b[0m\u001b[0;34m.\u001b[0m\u001b[0mtagged_words\u001b[0m\u001b[0;34m(\u001b[0m\u001b[0mcategories\u001b[0m\u001b[0;34m=\u001b[0m\u001b[0;34m'news'\u001b[0m\u001b[0;34m)\u001b[0m\u001b[0;34m)\u001b[0m\u001b[0;34m\u001b[0m\u001b[0m\n\u001b[0m\u001b[1;32m      2\u001b[0m \u001b[0;32mfor\u001b[0m \u001b[0mtag\u001b[0m \u001b[0;32min\u001b[0m \u001b[0msorted\u001b[0m\u001b[0;34m(\u001b[0m\u001b[0mtagdict\u001b[0m\u001b[0;34m)\u001b[0m\u001b[0;34m:\u001b[0m\u001b[0;34m\u001b[0m\u001b[0m\n\u001b[1;32m      3\u001b[0m     \u001b[0;32mprint\u001b[0m \u001b[0mtag\u001b[0m\u001b[0;34m,\u001b[0m \u001b[0mtagdict\u001b[0m\u001b[0;34m[\u001b[0m\u001b[0mtag\u001b[0m\u001b[0;34m]\u001b[0m\u001b[0;34m\u001b[0m\u001b[0m\n",
        "\u001b[0;31mNameError\u001b[0m: name 'findtags' is not defined"
       ]
      }
     ],
     "prompt_number": 69
    },
    {
     "cell_type": "heading",
     "level": 3,
     "metadata": {},
     "source": [
      "Indexing Lists Versus Dictionaries"
     ]
    },
    {
     "cell_type": "code",
     "collapsed": false,
     "input": [
      "pos = {}\n",
      "pos\n",
      "{}\n",
      "pos['colorless'] = 'ADJ'\n",
      "pos\n",
      "{'colorless': 'ADJ'}\n",
      "pos['ideas'] = 'N'\n",
      "pos['sleep'] = 'V'\n",
      "pos['furiously'] = 'ADV'\n",
      "pos"
     ],
     "language": "python",
     "metadata": {},
     "outputs": [
      {
       "metadata": {},
       "output_type": "pyout",
       "prompt_number": 36,
       "text": [
        "{'colorless': 'ADJ', 'furiously': 'ADV', 'ideas': 'N', 'sleep': 'V'}"
       ]
      }
     ],
     "prompt_number": 36
    },
    {
     "cell_type": "code",
     "collapsed": false,
     "input": [],
     "language": "python",
     "metadata": {},
     "outputs": [],
     "prompt_number": 12
    },
    {
     "cell_type": "code",
     "collapsed": false,
     "input": [],
     "language": "python",
     "metadata": {},
     "outputs": []
    }
   ],
   "metadata": {}
  }
 ]
}